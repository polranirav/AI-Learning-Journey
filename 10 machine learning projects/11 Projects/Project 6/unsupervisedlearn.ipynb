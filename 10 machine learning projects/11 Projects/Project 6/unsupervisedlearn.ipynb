{
 "cells": [
  {
   "metadata": {
    "ExecuteTime": {
     "end_time": "2025-08-08T17:52:58.621476Z",
     "start_time": "2025-08-08T17:52:58.273460Z"
    }
   },
   "cell_type": "code",
   "source": [
    "import pandas as pd\n",
    "import matplotlib.pyplot as plt\n",
    "import seaborn as sns\n",
    "from sklearn.datasets import make_blobs\n",
    "from sklearn.cluster import KMeans, dbscan\n",
    "from sklearn.preprocessing import StandardScaler"
   ],
   "id": "ee570509ffee4fb2",
   "outputs": [],
   "execution_count": 1
  },
  {
   "metadata": {
    "ExecuteTime": {
     "end_time": "2025-08-08T17:52:58.628682Z",
     "start_time": "2025-08-08T17:52:58.625684Z"
    }
   },
   "cell_type": "code",
   "source": "X, y_true = make_blobs(n_samples=500, cluster_std=0.60, centers=3,random_state=42)",
   "id": "be3165b5ebc1b257",
   "outputs": [],
   "execution_count": 2
  },
  {
   "metadata": {
    "ExecuteTime": {
     "end_time": "2025-08-08T17:52:58.637539Z",
     "start_time": "2025-08-08T17:52:58.632095Z"
    }
   },
   "cell_type": "code",
   "source": "X",
   "id": "f274a1fcc1d53528",
   "outputs": [
    {
     "data": {
      "text/plain": [
       "array([[-6.1900632 , -7.30201545],\n",
       "       [ 3.02174685,  1.94059276],\n",
       "       [ 5.9537606 ,  1.48819071],\n",
       "       [-2.74446251,  8.13617716],\n",
       "       [ 5.36060719,  1.72832446],\n",
       "       [ 5.13808033,  1.45951939],\n",
       "       [-5.34357647, -6.93774553],\n",
       "       [ 4.80215293,  1.94302682],\n",
       "       [ 3.99930658,  1.88774199],\n",
       "       [-7.25451834, -6.86445496],\n",
       "       [ 4.25193511,  1.32424088],\n",
       "       [-1.81404028,  8.52187674],\n",
       "       [-1.2293776 ,  7.84303345],\n",
       "       [-2.16666332,  9.69562551],\n",
       "       [ 4.81374375,  3.21841016],\n",
       "       [ 5.27493353,  0.91792599],\n",
       "       [-2.5524037 ,  9.61640587],\n",
       "       [-7.5532604 , -6.65066375],\n",
       "       [-6.8302568 , -6.24082137],\n",
       "       [-3.17299861,  8.29656215],\n",
       "       [ 3.80073829,  2.31095123],\n",
       "       [-2.38387947,  7.83848405],\n",
       "       [ 4.98581301,  2.15991978],\n",
       "       [-5.94031277, -6.91955975],\n",
       "       [-7.14748736, -6.7636556 ],\n",
       "       [ 4.87655012,  1.720579  ],\n",
       "       [ 4.48689251,  2.87556548],\n",
       "       [-6.4081471 , -6.62483506],\n",
       "       [-6.71939703, -6.34633112],\n",
       "       [-1.93679656,  9.40512088],\n",
       "       [ 4.62022687,  1.64711482],\n",
       "       [-2.02168213,  9.82803015],\n",
       "       [-3.10351942,  8.67450749],\n",
       "       [-3.30610925,  9.13240287],\n",
       "       [ 4.86256636,  1.61077857],\n",
       "       [ 4.49651001,  1.42863149],\n",
       "       [ 4.1465466 ,  2.11938201],\n",
       "       [ 3.67601104,  2.09524787],\n",
       "       [-6.90930542, -6.4752179 ],\n",
       "       [-6.28903375, -7.0085029 ],\n",
       "       [ 4.04611594,  1.89769753],\n",
       "       [-1.72591034,  9.02688843],\n",
       "       [-2.64100076,  9.22855367],\n",
       "       [-2.03457845,  8.46865366],\n",
       "       [-1.22283117,  9.39463754],\n",
       "       [ 5.62685946,  1.82374806],\n",
       "       [ 4.57248201,  1.84058792],\n",
       "       [ 5.06684776,  1.29838443],\n",
       "       [ 4.21217137,  2.03702782],\n",
       "       [-7.19019397, -6.74583682],\n",
       "       [-7.98415173, -7.64785577],\n",
       "       [-2.87022159, 10.12565304],\n",
       "       [-7.37904054, -6.59726026],\n",
       "       [-6.56903178, -7.31555588],\n",
       "       [ 4.84493242,  3.09887219],\n",
       "       [-3.1168963 ,  9.20283453],\n",
       "       [-2.4494068 ,  8.71220074],\n",
       "       [-6.93346861, -6.01603926],\n",
       "       [ 4.80786001,  1.29787626],\n",
       "       [-7.6862975 , -7.43130076],\n",
       "       [-7.19000026, -6.03450113],\n",
       "       [-2.20017646,  9.3225577 ],\n",
       "       [ 4.24877717,  2.00160889],\n",
       "       [-6.82195472, -7.15747477],\n",
       "       [ 4.49050035,  2.55611225],\n",
       "       [-7.5459727 , -5.82874733],\n",
       "       [ 5.02303431,  0.97625765],\n",
       "       [-7.15101098, -8.33443719],\n",
       "       [-2.46731637,  8.78309797],\n",
       "       [ 4.66899181,  1.47459961],\n",
       "       [ 4.57115493,  2.71585947],\n",
       "       [ 4.78124757,  2.4356888 ],\n",
       "       [ 5.34054807,  2.12582219],\n",
       "       [-6.80276454, -7.28874059],\n",
       "       [-2.9474176 ,  9.14416128],\n",
       "       [-7.28546257, -5.79954533],\n",
       "       [-2.02108729,  8.27576754],\n",
       "       [ 4.29568163,  1.64505432],\n",
       "       [-2.26143875,  8.6760514 ],\n",
       "       [-3.01727385,  8.10537779],\n",
       "       [-6.68394738, -7.63077774],\n",
       "       [-2.13472573,  9.39129343],\n",
       "       [ 4.16559416,  2.2560507 ],\n",
       "       [-1.82350393,  9.46544595],\n",
       "       [-7.82996889, -6.4238608 ],\n",
       "       [-7.79494229, -7.29525444],\n",
       "       [-7.21274691, -5.75141535],\n",
       "       [-6.49233668, -5.58215676],\n",
       "       [ 4.30768925,  1.25444295],\n",
       "       [-2.29221601,  8.62721428],\n",
       "       [-6.76496775, -6.85224766],\n",
       "       [ 4.95776134,  2.83811086],\n",
       "       [-3.11280805,  8.28577296],\n",
       "       [ 4.69183271,  1.87976334],\n",
       "       [ 4.83926724,  1.52407776],\n",
       "       [-7.14733725, -8.01383403],\n",
       "       [-2.01596153, 10.15236192],\n",
       "       [-3.09810281,  9.29154821],\n",
       "       [-2.29236026,  9.93710807],\n",
       "       [-6.37524106, -7.27168398],\n",
       "       [ 4.57566062,  1.35202429],\n",
       "       [-2.44108722,  9.41156453],\n",
       "       [-1.55758753,  8.27159683],\n",
       "       [-6.90062029, -5.81762921],\n",
       "       [-6.61561852, -7.18134213],\n",
       "       [-2.47427239,  8.32850395],\n",
       "       [-2.93837985,  9.42204478],\n",
       "       [-7.74843553, -8.19939317],\n",
       "       [-3.72428318,  9.12615872],\n",
       "       [-7.14032493, -7.06561287],\n",
       "       [-7.61290388, -6.45231054],\n",
       "       [-7.45981288, -6.90873641],\n",
       "       [-6.706126  , -5.40692951],\n",
       "       [-6.74634693, -7.16735877],\n",
       "       [-6.62185626, -6.75549698],\n",
       "       [ 3.57264669,  2.87079627],\n",
       "       [-3.06535591,  8.97857091],\n",
       "       [-6.77975587, -6.58463883],\n",
       "       [ 4.03261621,  0.98025568],\n",
       "       [-7.02382243, -7.10500208],\n",
       "       [-2.22525505,  8.97058878],\n",
       "       [-1.81129937,  9.02042596],\n",
       "       [ 4.29381604,  2.42640442],\n",
       "       [ 4.18439924,  2.06340596],\n",
       "       [-5.95112407, -5.80258299],\n",
       "       [ 5.54129307,  2.01762655],\n",
       "       [-3.00659463,  8.6781775 ],\n",
       "       [ 4.3642623 ,  1.46326306],\n",
       "       [-7.52826519, -6.51054823],\n",
       "       [-6.73334676, -7.21855677],\n",
       "       [-6.49399354, -6.08261808],\n",
       "       [ 4.6984845 ,  1.50936381],\n",
       "       [ 3.39941358,  1.91969766],\n",
       "       [-6.32521098, -6.99105088],\n",
       "       [ 5.05396523,  1.7324374 ],\n",
       "       [-6.93680451, -6.71269668],\n",
       "       [-6.51488929, -6.76814412],\n",
       "       [-6.97989804, -6.79208138],\n",
       "       [ 3.3655414 ,  1.65771667],\n",
       "       [-3.00449594,  8.82145462],\n",
       "       [-6.44662395, -7.55754066],\n",
       "       [-5.9493269 , -7.47912202],\n",
       "       [ 5.19558536,  3.11881967],\n",
       "       [ 4.35725585,  2.11239965],\n",
       "       [-6.77710793, -6.9904996 ],\n",
       "       [-7.39464186, -6.45992367],\n",
       "       [-7.26205947, -6.16669967],\n",
       "       [-2.82705375,  9.32224659],\n",
       "       [-2.53002468,  8.31307931],\n",
       "       [-3.25136805,  8.22201216],\n",
       "       [ 4.48412403,  1.07128391],\n",
       "       [-7.19433935, -6.58648486],\n",
       "       [ 4.33155869,  1.33764157],\n",
       "       [ 3.61199812,  2.78549311],\n",
       "       [-2.40528907,  9.24547656],\n",
       "       [-7.0122057 , -6.86397809],\n",
       "       [-2.38074138,  8.26684286],\n",
       "       [-6.26052047, -7.77144582],\n",
       "       [ 4.84244043,  1.7260435 ],\n",
       "       [ 4.18192334,  0.89024042],\n",
       "       [-5.50028832, -7.09781273],\n",
       "       [-6.92428725, -6.50770633],\n",
       "       [-1.9694377 ,  9.19866584],\n",
       "       [-2.45100004,  9.37138034],\n",
       "       [-6.72600935, -6.290495  ],\n",
       "       [-2.97289275,  8.87219496],\n",
       "       [-2.86281648,  9.52404739],\n",
       "       [ 4.65092986,  2.97903207],\n",
       "       [-7.3159095 , -7.02862077],\n",
       "       [-7.69554088, -6.43235745],\n",
       "       [-6.26213381, -6.5965511 ],\n",
       "       [-2.31043956,  9.5996132 ],\n",
       "       [-2.35466739,  8.96961858],\n",
       "       [-6.76171449, -6.45470734],\n",
       "       [-6.75787338, -7.78955606],\n",
       "       [-3.09400663,  9.48653689],\n",
       "       [-2.53069325,  9.95307232],\n",
       "       [ 3.63823567,  2.2991858 ],\n",
       "       [ 4.94042915,  1.38663654],\n",
       "       [ 5.01954796,  3.3355854 ],\n",
       "       [-2.37272166,  9.79857178],\n",
       "       [-6.52523429, -6.21488744],\n",
       "       [-1.37748608,  9.11903282],\n",
       "       [-2.45696938,  8.83488172],\n",
       "       [-5.77164499, -7.52216045],\n",
       "       [-7.2149803 , -6.65378247],\n",
       "       [-1.2359039 ,  9.63376528],\n",
       "       [ 5.02710441,  2.79434862],\n",
       "       [-2.50612955,  8.87353385],\n",
       "       [-6.69494613, -7.90621063],\n",
       "       [-7.09620689, -6.18451171],\n",
       "       [-6.72999698, -5.93363763],\n",
       "       [-6.31665691, -7.18973643],\n",
       "       [-7.30223341, -7.72518637],\n",
       "       [-3.265728  ,  9.5650033 ],\n",
       "       [ 5.38752995,  0.72913554],\n",
       "       [-2.33152546,  9.17091929],\n",
       "       [-2.35326795,  9.48337985],\n",
       "       [-6.89950337, -5.80337488],\n",
       "       [ 5.24365452,  1.62703456],\n",
       "       [-2.45095109,  9.59547312],\n",
       "       [-2.01567068,  8.28177994],\n",
       "       [-6.31822016, -6.11717654],\n",
       "       [-6.8623803 , -6.11303848],\n",
       "       [ 4.47823474,  2.40369504],\n",
       "       [-6.65842321, -7.11611288],\n",
       "       [ 3.8659023 ,  1.19612242],\n",
       "       [-2.63980634,  9.67355224],\n",
       "       [-2.01394781,  9.50239191],\n",
       "       [-6.90043812, -6.73958075],\n",
       "       [-5.9318839 , -7.19382561],\n",
       "       [ 5.74925249,  2.6491087 ],\n",
       "       [-6.16259921, -7.79402174],\n",
       "       [-3.35842007,  8.76189893],\n",
       "       [-2.19603268,  9.19247693],\n",
       "       [-7.24653787, -7.72410625],\n",
       "       [-2.34318314,  9.51059608],\n",
       "       [-6.90372196, -7.73857465],\n",
       "       [-2.4686807 ,  8.15943722],\n",
       "       [ 5.15447461,  1.87720657],\n",
       "       [ 3.84773891,  3.07204494],\n",
       "       [-2.91721246,  9.15363835],\n",
       "       [-7.25351151, -7.21339586],\n",
       "       [-2.79235674,  9.66765649],\n",
       "       [ 4.36983955,  2.34687964],\n",
       "       [-1.85936688,  9.64656736],\n",
       "       [-3.19979377,  9.23970494],\n",
       "       [-6.76212004, -7.46713326],\n",
       "       [ 4.24230458,  2.31552889],\n",
       "       [ 4.2088123 ,  1.84510139],\n",
       "       [ 4.47854562,  1.30925414],\n",
       "       [ 4.04844321,  2.27559759],\n",
       "       [-2.71482633,  8.53291977],\n",
       "       [-7.68853844, -6.43415114],\n",
       "       [-6.23544814, -7.49601877],\n",
       "       [-7.09779452, -6.91427697],\n",
       "       [-2.15708337, 10.3285595 ],\n",
       "       [ 5.16255366,  1.77755556],\n",
       "       [-2.06082146,  9.38050829],\n",
       "       [ 4.68629982,  1.45639916],\n",
       "       [ 4.11450788,  1.14348985],\n",
       "       [ 3.41700412,  1.3683179 ],\n",
       "       [-3.06085216,  9.94424677],\n",
       "       [-2.63407097,  8.71848557],\n",
       "       [-6.70810796, -6.67943552],\n",
       "       [-6.99175018, -7.14394823],\n",
       "       [ 4.64302506,  2.00135804],\n",
       "       [-2.4730595 , 10.4922314 ],\n",
       "       [-2.13379721,  8.49999159],\n",
       "       [ 4.47795388,  1.38591145],\n",
       "       [-2.33335414,  8.58567528],\n",
       "       [-2.09744151,  8.04665661],\n",
       "       [-3.04290628,  8.52479996],\n",
       "       [-2.31474724,  8.78323676],\n",
       "       [ 4.47484782,  0.59201699],\n",
       "       [-2.60026868,  9.36727645],\n",
       "       [-7.06429413, -6.7486194 ],\n",
       "       [-2.57858659,  8.83362391],\n",
       "       [-5.88034252, -6.27148755],\n",
       "       [-2.77322432,  9.09273047],\n",
       "       [-2.20016901, 11.32592502],\n",
       "       [-2.29452521,  9.35075684],\n",
       "       [-7.24730041, -7.11273053],\n",
       "       [-3.22397972,  9.40821829],\n",
       "       [ 4.50131812,  2.3908935 ],\n",
       "       [ 4.98612211,  1.85134245],\n",
       "       [ 4.62877095,  1.7999745 ],\n",
       "       [-3.15173312,  9.30376958],\n",
       "       [ 4.78685878,  1.66900378],\n",
       "       [ 4.492433  ,  1.80953554],\n",
       "       [-2.35890191,  9.22215505],\n",
       "       [-3.43959568,  9.05542391],\n",
       "       [ 5.21013314,  1.62702749],\n",
       "       [-6.02732464, -7.22255737],\n",
       "       [-2.64327529,  9.44268642],\n",
       "       [-3.47368756,  9.12506644],\n",
       "       [-3.66046035,  8.9983778 ],\n",
       "       [-2.3406025 ,  8.64066642],\n",
       "       [-6.9289179 , -6.20973209],\n",
       "       [-7.46515114, -6.24792452],\n",
       "       [-1.38973292,  9.29858588],\n",
       "       [ 4.32157815,  1.62767874],\n",
       "       [-2.38976181,  8.654156  ],\n",
       "       [-3.01272814,  8.8287587 ],\n",
       "       [-7.43356714, -7.69112036],\n",
       "       [-2.48185452,  8.62332592],\n",
       "       [ 4.87031811,  1.95355284],\n",
       "       [-6.50018255, -6.29657692],\n",
       "       [ 4.10083003,  2.26832119],\n",
       "       [ 4.74899859,  2.12210204],\n",
       "       [-6.45305121, -6.61355161],\n",
       "       [-2.50139649,  9.88640657],\n",
       "       [-3.54414832,  8.67691361],\n",
       "       [-2.31469781,  8.9362003 ],\n",
       "       [-7.48211165, -7.34078813],\n",
       "       [-4.45395803,  8.39965354],\n",
       "       [-6.71667989, -7.64615874],\n",
       "       [ 3.7307642 ,  2.79329424],\n",
       "       [ 5.59579081,  1.66644028],\n",
       "       [-1.74259869,  8.65934329],\n",
       "       [ 4.92726673,  2.17336695],\n",
       "       [-6.4606932 , -6.64401836],\n",
       "       [ 5.510565  ,  2.54873218],\n",
       "       [ 4.60227138,  2.54625508],\n",
       "       [-1.6224612 ,  8.703324  ],\n",
       "       [ 5.93178831,  1.51276115],\n",
       "       [ 4.75872969,  1.88655344],\n",
       "       [ 4.70551571,  2.40862966],\n",
       "       [ 3.61784937,  1.93984106],\n",
       "       [-1.74905093,  8.58968445],\n",
       "       [ 5.16164239,  2.7865524 ],\n",
       "       [-6.90336028, -6.47120917],\n",
       "       [ 5.61704816,  1.14510881],\n",
       "       [ 5.65216382,  2.50215354],\n",
       "       [ 4.77433433,  1.98072512],\n",
       "       [-7.6478848 , -5.82723308],\n",
       "       [-6.9069788 , -6.73410592],\n",
       "       [ 5.57057002,  2.04257446],\n",
       "       [ 4.57462275,  2.21419672],\n",
       "       [-1.8143311 ,  9.48928374],\n",
       "       [-6.0503318 , -6.49088366],\n",
       "       [ 5.55375328,  2.29651571],\n",
       "       [ 3.68322224,  1.61354467],\n",
       "       [-6.4704923 , -5.7720852 ],\n",
       "       [-6.67399198, -6.60605766],\n",
       "       [-6.84384897, -7.26827166],\n",
       "       [ 5.13752218,  0.6464885 ],\n",
       "       [-7.52826112, -6.24821788],\n",
       "       [-7.26227118, -7.19870777],\n",
       "       [-6.50654121, -7.82224443],\n",
       "       [-6.58363645, -6.76920792],\n",
       "       [-7.02793362, -7.28930014],\n",
       "       [-1.12040248,  7.89392701],\n",
       "       [-6.88948093, -6.16707363],\n",
       "       [-2.10002584,  8.82812607],\n",
       "       [-6.15572181, -7.370271  ],\n",
       "       [-2.93042948,  8.81768884],\n",
       "       [-3.22937547,  8.81358539],\n",
       "       [-6.98579553, -7.35908794],\n",
       "       [-1.92412578,  8.9260517 ],\n",
       "       [ 3.71941033,  2.73977578],\n",
       "       [ 4.62846911,  1.37165207],\n",
       "       [-2.80041575,  9.06341061],\n",
       "       [-2.79416481,  8.62228859],\n",
       "       [ 4.83603526,  1.84170937],\n",
       "       [-3.14657985,  9.29844159],\n",
       "       [ 3.62440006,  2.89089988],\n",
       "       [-1.56166993,  9.47474697],\n",
       "       [ 3.77102823,  1.12869142],\n",
       "       [ 4.60023096,  1.24655996],\n",
       "       [ 4.3473151 ,  1.71363477],\n",
       "       [-1.64443365,  8.15276884],\n",
       "       [ 4.69947822,  2.42400196],\n",
       "       [-6.48450063, -5.67398687],\n",
       "       [-7.70721873, -7.31866762],\n",
       "       [ 4.12363082,  1.74243636],\n",
       "       [-7.17329086, -6.25361307],\n",
       "       [-1.93117195,  9.26195468],\n",
       "       [ 3.15689214,  1.49503253],\n",
       "       [-2.98471007,  8.94544426],\n",
       "       [ 5.34754291,  1.69166429],\n",
       "       [-2.83582726,  9.08083968],\n",
       "       [ 3.75272709,  2.65942211],\n",
       "       [ 5.03249823,  1.93981888],\n",
       "       [-6.48950648, -6.93961511],\n",
       "       [-2.46371489,  8.6079891 ],\n",
       "       [ 3.66335337,  2.00202065],\n",
       "       [ 4.22004353,  2.10155763],\n",
       "       [-2.51654569,  8.47593351],\n",
       "       [-6.38733788, -6.57574517],\n",
       "       [-2.79670217,  8.90289074],\n",
       "       [-6.52376644, -7.06583746],\n",
       "       [-2.29498833,  8.59854037],\n",
       "       [ 4.64823641,  1.95869463],\n",
       "       [-7.22500989, -6.8069037 ],\n",
       "       [-2.66073851,  8.26561622],\n",
       "       [-6.88178871, -7.57512841],\n",
       "       [ 5.00837886,  2.42767431],\n",
       "       [-6.65150848, -6.51375815],\n",
       "       [-7.4805992 , -7.04876977],\n",
       "       [ 5.13378119,  2.01716046],\n",
       "       [-5.80101528, -6.49560388],\n",
       "       [-1.95995635,  9.21153679],\n",
       "       [ 6.18389472,  2.00870074],\n",
       "       [-7.21096102, -6.5003505 ],\n",
       "       [-7.44926652, -5.30068035],\n",
       "       [-2.79088225,  9.33982215],\n",
       "       [ 4.43426628,  1.75030516],\n",
       "       [-6.53776682, -6.61148446],\n",
       "       [ 5.09407201,  1.41987049],\n",
       "       [-7.02436883, -6.66887636],\n",
       "       [ 4.18606839,  1.11981746],\n",
       "       [-3.33579924,  8.4515911 ],\n",
       "       [-1.62980836,  8.87882035],\n",
       "       [ 3.51740368,  1.76226159],\n",
       "       [-6.90220801, -6.21812846],\n",
       "       [ 4.32172427,  1.49744598],\n",
       "       [-2.78558089,  9.64855946],\n",
       "       [-2.99429378,  8.7132319 ],\n",
       "       [-2.06611768,  9.1171071 ],\n",
       "       [ 6.48720732,  2.64491463],\n",
       "       [-6.23962238, -6.17853224],\n",
       "       [ 5.1412941 ,  1.29534557],\n",
       "       [-3.4208196 ,  8.72374568],\n",
       "       [ 4.01753114,  1.85896648],\n",
       "       [ 5.16327122,  2.08317489],\n",
       "       [-6.76756713, -7.33333935],\n",
       "       [-6.52927028, -7.09568485],\n",
       "       [ 5.2624028 ,  1.66715984],\n",
       "       [ 4.79571234,  1.43057971],\n",
       "       [-7.72413421, -7.34679961],\n",
       "       [-2.9791496 ,  8.82104922],\n",
       "       [ 5.81871392,  1.99432782],\n",
       "       [-7.20657864, -6.64062792],\n",
       "       [-2.9062695 ,  9.52574613],\n",
       "       [ 4.24949329,  1.68089445],\n",
       "       [-2.69835917,  9.46966766],\n",
       "       [-3.03951208,  9.10652119],\n",
       "       [ 4.83350997,  1.47683112],\n",
       "       [-2.60596905,  9.25671664],\n",
       "       [-2.18093919,  8.89297054],\n",
       "       [-3.39631082,  8.5823796 ],\n",
       "       [-7.25580743, -5.79264046],\n",
       "       [-6.63467554, -7.90165976],\n",
       "       [ 3.85719714,  2.37497321],\n",
       "       [-2.36402026,  7.86631798],\n",
       "       [ 4.68281858,  1.68657522],\n",
       "       [-6.01144046, -6.76217673],\n",
       "       [-2.91535082,  9.3812919 ],\n",
       "       [-3.00013003, 10.26971849],\n",
       "       [ 3.92992373,  0.74963038],\n",
       "       [-7.8136047 , -6.51650362],\n",
       "       [ 6.10733002,  2.05070239],\n",
       "       [ 3.04929695,  2.6280738 ],\n",
       "       [-6.3792739 , -6.60460155],\n",
       "       [-6.75301671, -6.93813746],\n",
       "       [ 5.34745715,  2.01368077],\n",
       "       [-5.36346774, -7.19863086],\n",
       "       [-2.77710659,  9.5281254 ],\n",
       "       [-4.08104469,  9.50742763],\n",
       "       [-7.64780983, -6.3566352 ],\n",
       "       [ 4.71205622,  2.28183298],\n",
       "       [-7.13173928, -7.04918036],\n",
       "       [-1.52975084,  8.1562013 ],\n",
       "       [-1.66752104,  8.17317549],\n",
       "       [-6.86856683, -6.67156057],\n",
       "       [ 4.67331378,  2.6296846 ],\n",
       "       [-8.12878484, -5.86223577],\n",
       "       [-2.45414116,  7.82174478],\n",
       "       [-2.52173858,  9.08468256],\n",
       "       [ 4.06092476,  2.38480056],\n",
       "       [-6.12617352, -7.41687397],\n",
       "       [-2.65643049,  8.56204443],\n",
       "       [ 4.88793978,  3.09924717],\n",
       "       [ 4.92848438,  2.1075001 ],\n",
       "       [ 4.84297668,  1.72399694],\n",
       "       [ 4.65458494,  2.27196866],\n",
       "       [ 5.76909353,  2.78042171],\n",
       "       [-2.20620526,  9.53373924],\n",
       "       [ 4.85983778,  1.40924181],\n",
       "       [-6.92172662, -7.87668615],\n",
       "       [ 4.82642338,  2.85838341],\n",
       "       [-6.8110906 , -6.78992854],\n",
       "       [ 4.56312828,  1.39984542],\n",
       "       [-2.6246142 ,  9.19521453],\n",
       "       [-2.02148035,  9.39206343],\n",
       "       [-1.44992508,  9.25727515],\n",
       "       [ 4.63509525,  2.86113617],\n",
       "       [ 4.17560532,  1.22637686],\n",
       "       [-1.89059791,  9.5730542 ],\n",
       "       [-6.86263617, -6.86225591],\n",
       "       [-7.63055085, -6.01385083],\n",
       "       [-2.66799172, 10.64638763],\n",
       "       [-2.86958084,  8.83926988],\n",
       "       [-7.49236688, -6.45509572],\n",
       "       [-5.97758821, -6.35369222],\n",
       "       [-2.51729596,  8.37965957],\n",
       "       [-7.203483  , -7.34709243],\n",
       "       [ 4.13604573,  1.6135341 ],\n",
       "       [ 4.37330288,  2.19954998],\n",
       "       [-2.24290597,  9.47906656],\n",
       "       [-2.78724824,  8.73484828],\n",
       "       [-6.75459751, -8.10515051],\n",
       "       [-7.1469287 , -6.00807891],\n",
       "       [-2.30302665,  7.95646203],\n",
       "       [ 4.5450741 ,  1.71704104],\n",
       "       [-6.54375292, -6.23164116],\n",
       "       [-6.77300659, -7.68131621],\n",
       "       [ 5.87632759,  3.02637419],\n",
       "       [-7.22233459, -6.53655992],\n",
       "       [-6.79984539, -7.30018208],\n",
       "       [-3.05401207,  8.16690391],\n",
       "       [-6.45497603, -7.21758966],\n",
       "       [ 4.28444248,  1.45477522],\n",
       "       [-2.47062961,  8.36763926],\n",
       "       [-6.04001393, -6.32532938],\n",
       "       [-2.55545865,  9.21897731],\n",
       "       [ 4.43840802,  2.9745826 ],\n",
       "       [-7.193261  , -6.25070406],\n",
       "       [ 4.95148674,  2.89281303]])"
      ]
     },
     "execution_count": 3,
     "metadata": {},
     "output_type": "execute_result"
    }
   ],
   "execution_count": 3
  },
  {
   "metadata": {
    "ExecuteTime": {
     "end_time": "2025-08-08T17:52:58.643765Z",
     "start_time": "2025-08-08T17:52:58.641512Z"
    }
   },
   "cell_type": "code",
   "source": "df = pd.DataFrame(X, columns=['Feature_1','Feature_2'])",
   "id": "88a20a165d2ca93e",
   "outputs": [],
   "execution_count": 4
  },
  {
   "metadata": {
    "ExecuteTime": {
     "end_time": "2025-08-08T17:52:58.656755Z",
     "start_time": "2025-08-08T17:52:58.649107Z"
    }
   },
   "cell_type": "code",
   "source": "df",
   "id": "78d3570832321980",
   "outputs": [
    {
     "data": {
      "text/plain": [
       "     Feature_1  Feature_2\n",
       "0    -6.190063  -7.302015\n",
       "1     3.021747   1.940593\n",
       "2     5.953761   1.488191\n",
       "3    -2.744463   8.136177\n",
       "4     5.360607   1.728324\n",
       "..         ...        ...\n",
       "495  -6.040014  -6.325329\n",
       "496  -2.555459   9.218977\n",
       "497   4.438408   2.974583\n",
       "498  -7.193261  -6.250704\n",
       "499   4.951487   2.892813\n",
       "\n",
       "[500 rows x 2 columns]"
      ],
      "text/html": [
       "<div>\n",
       "<style scoped>\n",
       "    .dataframe tbody tr th:only-of-type {\n",
       "        vertical-align: middle;\n",
       "    }\n",
       "\n",
       "    .dataframe tbody tr th {\n",
       "        vertical-align: top;\n",
       "    }\n",
       "\n",
       "    .dataframe thead th {\n",
       "        text-align: right;\n",
       "    }\n",
       "</style>\n",
       "<table border=\"1\" class=\"dataframe\">\n",
       "  <thead>\n",
       "    <tr style=\"text-align: right;\">\n",
       "      <th></th>\n",
       "      <th>Feature_1</th>\n",
       "      <th>Feature_2</th>\n",
       "    </tr>\n",
       "  </thead>\n",
       "  <tbody>\n",
       "    <tr>\n",
       "      <th>0</th>\n",
       "      <td>-6.190063</td>\n",
       "      <td>-7.302015</td>\n",
       "    </tr>\n",
       "    <tr>\n",
       "      <th>1</th>\n",
       "      <td>3.021747</td>\n",
       "      <td>1.940593</td>\n",
       "    </tr>\n",
       "    <tr>\n",
       "      <th>2</th>\n",
       "      <td>5.953761</td>\n",
       "      <td>1.488191</td>\n",
       "    </tr>\n",
       "    <tr>\n",
       "      <th>3</th>\n",
       "      <td>-2.744463</td>\n",
       "      <td>8.136177</td>\n",
       "    </tr>\n",
       "    <tr>\n",
       "      <th>4</th>\n",
       "      <td>5.360607</td>\n",
       "      <td>1.728324</td>\n",
       "    </tr>\n",
       "    <tr>\n",
       "      <th>...</th>\n",
       "      <td>...</td>\n",
       "      <td>...</td>\n",
       "    </tr>\n",
       "    <tr>\n",
       "      <th>495</th>\n",
       "      <td>-6.040014</td>\n",
       "      <td>-6.325329</td>\n",
       "    </tr>\n",
       "    <tr>\n",
       "      <th>496</th>\n",
       "      <td>-2.555459</td>\n",
       "      <td>9.218977</td>\n",
       "    </tr>\n",
       "    <tr>\n",
       "      <th>497</th>\n",
       "      <td>4.438408</td>\n",
       "      <td>2.974583</td>\n",
       "    </tr>\n",
       "    <tr>\n",
       "      <th>498</th>\n",
       "      <td>-7.193261</td>\n",
       "      <td>-6.250704</td>\n",
       "    </tr>\n",
       "    <tr>\n",
       "      <th>499</th>\n",
       "      <td>4.951487</td>\n",
       "      <td>2.892813</td>\n",
       "    </tr>\n",
       "  </tbody>\n",
       "</table>\n",
       "<p>500 rows × 2 columns</p>\n",
       "</div>"
      ]
     },
     "execution_count": 5,
     "metadata": {},
     "output_type": "execute_result"
    }
   ],
   "execution_count": 5
  },
  {
   "metadata": {
    "ExecuteTime": {
     "end_time": "2025-08-08T17:52:58.669673Z",
     "start_time": "2025-08-08T17:52:58.665668Z"
    }
   },
   "cell_type": "code",
   "source": [
    "scaler = StandardScaler()\n",
    "x_scaled = scaler.fit_transform(df)"
   ],
   "id": "a9c0fbd0545e007a",
   "outputs": [],
   "execution_count": 6
  },
  {
   "metadata": {
    "ExecuteTime": {
     "end_time": "2025-08-08T17:52:58.673897Z",
     "start_time": "2025-08-08T17:52:58.672598Z"
    }
   },
   "cell_type": "code",
   "source": [
    "inertia = []\n",
    "K_range = range(1,11)"
   ],
   "id": "b33b6b83a36c99b6",
   "outputs": [],
   "execution_count": 7
  },
  {
   "metadata": {
    "ExecuteTime": {
     "end_time": "2025-08-08T17:52:58.712226Z",
     "start_time": "2025-08-08T17:52:58.677288Z"
    }
   },
   "cell_type": "code",
   "source": [
    "for k in K_range:\n",
    "    km = KMeans(n_clusters=k,random_state=42)\n",
    "    km.fit(x_scaled)\n",
    "    inertia.append(km.inertia_)"
   ],
   "id": "4b401987d0571320",
   "outputs": [],
   "execution_count": 8
  },
  {
   "metadata": {
    "ExecuteTime": {
     "end_time": "2025-08-08T17:52:58.719408Z",
     "start_time": "2025-08-08T17:52:58.716900Z"
    }
   },
   "cell_type": "code",
   "source": "inertia",
   "id": "ea95d5dc01b10e19",
   "outputs": [
    {
     "data": {
      "text/plain": [
       "[1000.0000000000002,\n",
       " 297.8954141051722,\n",
       " 11.575484723104978,\n",
       " 9.752067977356838,\n",
       " 8.25717527244628,\n",
       " 6.9175773204167985,\n",
       " 6.334755391595288,\n",
       " 5.70417717790143,\n",
       " 5.0602341335320755,\n",
       " 4.762361898130396]"
      ]
     },
     "execution_count": 9,
     "metadata": {},
     "output_type": "execute_result"
    }
   ],
   "execution_count": 9
  },
  {
   "metadata": {
    "ExecuteTime": {
     "end_time": "2025-08-08T17:52:58.787043Z",
     "start_time": "2025-08-08T17:52:58.729437Z"
    }
   },
   "cell_type": "code",
   "source": "plt.plot(K_range, inertia, marker='o')",
   "id": "b57d1994dc2aa96e",
   "outputs": [
    {
     "data": {
      "text/plain": [
       "[<matplotlib.lines.Line2D at 0x1596fd590>]"
      ]
     },
     "execution_count": 10,
     "metadata": {},
     "output_type": "execute_result"
    },
    {
     "data": {
      "text/plain": [
       "<Figure size 640x480 with 1 Axes>"
      ],
      "image/png": "[encoded data removed]"
     },
     "metadata": {},
     "output_type": "display_data"
    }
   ],
   "execution_count": 10
  },
  {
   "metadata": {
    "ExecuteTime": {
     "end_time": "2025-08-08T17:52:58.795344Z",
     "start_time": "2025-08-08T17:52:58.793789Z"
    }
   },
   "cell_type": "code",
   "source": "kmean_final = KMeans(n_clusters=2, random_state=42)",
   "id": "280fbf504fb90d22",
   "outputs": [],
   "execution_count": 11
  },
  {
   "metadata": {
    "ExecuteTime": {
     "end_time": "2025-08-08T17:52:58.807265Z",
     "start_time": "2025-08-08T17:52:58.803224Z"
    }
   },
   "cell_type": "code",
   "source": "culuster_label = kmean_final.fit_predict(x_scaled)",
   "id": "22df433857ef8555",
   "outputs": [],
   "execution_count": 12
  },
  {
   "metadata": {
    "ExecuteTime": {
     "end_time": "2025-08-08T17:52:58.816640Z",
     "start_time": "2025-08-08T17:52:58.814155Z"
    }
   },
   "cell_type": "code",
   "source": "culuster_label",
   "id": "aadbb76d353b1220",
   "outputs": [
    {
     "data": {
      "text/plain": [
       "array([1, 0, 0, 0, 0, 0, 1, 0, 0, 1, 0, 0, 0, 0, 0, 0, 0, 1, 1, 0, 0, 0,\n",
       "       0, 1, 1, 0, 0, 1, 1, 0, 0, 0, 0, 0, 0, 0, 0, 0, 1, 1, 0, 0, 0, 0,\n",
       "       0, 0, 0, 0, 0, 1, 1, 0, 1, 1, 0, 0, 0, 1, 0, 1, 1, 0, 0, 1, 0, 1,\n",
       "       0, 1, 0, 0, 0, 0, 0, 1, 0, 1, 0, 0, 0, 0, 1, 0, 0, 0, 1, 1, 1, 1,\n",
       "       0, 0, 1, 0, 0, 0, 0, 1, 0, 0, 0, 1, 0, 0, 0, 1, 1, 0, 0, 1, 0, 1,\n",
       "       1, 1, 1, 1, 1, 0, 0, 1, 0, 1, 0, 0, 0, 0, 1, 0, 0, 0, 1, 1, 1, 0,\n",
       "       0, 1, 0, 1, 1, 1, 0, 0, 1, 1, 0, 0, 1, 1, 1, 0, 0, 0, 0, 1, 0, 0,\n",
       "       0, 1, 0, 1, 0, 0, 1, 1, 0, 0, 1, 0, 0, 0, 1, 1, 1, 0, 0, 1, 1, 0,\n",
       "       0, 0, 0, 0, 0, 1, 0, 0, 1, 1, 0, 0, 0, 1, 1, 1, 1, 1, 0, 0, 0, 0,\n",
       "       1, 0, 0, 0, 1, 1, 0, 1, 0, 0, 0, 1, 1, 0, 1, 0, 0, 1, 0, 1, 0, 0,\n",
       "       0, 0, 1, 0, 0, 0, 0, 1, 0, 0, 0, 0, 0, 1, 1, 1, 0, 0, 0, 0, 0, 0,\n",
       "       0, 0, 1, 1, 0, 0, 0, 0, 0, 0, 0, 0, 0, 0, 1, 0, 1, 0, 0, 0, 1, 0,\n",
       "       0, 0, 0, 0, 0, 0, 0, 0, 0, 1, 0, 0, 0, 0, 1, 1, 0, 0, 0, 0, 1, 0,\n",
       "       0, 1, 0, 0, 1, 0, 0, 0, 1, 0, 1, 0, 0, 0, 0, 1, 0, 0, 0, 0, 0, 0,\n",
       "       0, 0, 0, 1, 0, 0, 0, 1, 1, 0, 0, 0, 1, 0, 0, 1, 1, 1, 0, 1, 1, 1,\n",
       "       1, 1, 0, 1, 0, 1, 0, 0, 1, 0, 0, 0, 0, 0, 0, 0, 0, 0, 0, 0, 0, 0,\n",
       "       0, 1, 1, 0, 1, 0, 0, 0, 0, 0, 0, 0, 1, 0, 0, 0, 0, 1, 0, 1, 0, 0,\n",
       "       1, 0, 1, 0, 1, 1, 0, 1, 0, 0, 1, 1, 0, 0, 1, 0, 1, 0, 0, 0, 0, 1,\n",
       "       0, 0, 0, 0, 0, 1, 0, 0, 0, 0, 1, 1, 0, 0, 1, 0, 0, 1, 0, 0, 0, 0,\n",
       "       0, 0, 0, 0, 1, 1, 0, 0, 0, 1, 0, 0, 0, 1, 0, 0, 1, 1, 0, 1, 0, 0,\n",
       "       1, 0, 1, 0, 0, 1, 0, 1, 0, 0, 0, 1, 0, 0, 0, 0, 0, 0, 0, 0, 1, 0,\n",
       "       1, 0, 0, 0, 0, 0, 0, 0, 1, 1, 0, 0, 1, 1, 0, 1, 0, 0, 0, 0, 1, 1,\n",
       "       0, 0, 1, 1, 0, 1, 1, 0, 1, 0, 0, 1, 0, 0, 1, 0], dtype=int32)"
      ]
     },
     "execution_count": 13,
     "metadata": {},
     "output_type": "execute_result"
    }
   ],
   "execution_count": 13
  },
  {
   "metadata": {
    "ExecuteTime": {
     "end_time": "2025-08-08T17:52:58.829010Z",
     "start_time": "2025-08-08T17:52:58.825901Z"
    }
   },
   "cell_type": "code",
   "source": "df['culuster'] = culuster_label",
   "id": "9da4ba9b0c9511b7",
   "outputs": [],
   "execution_count": 14
  },
  {
   "metadata": {
    "ExecuteTime": {
     "end_time": "2025-08-08T17:52:58.889599Z",
     "start_time": "2025-08-08T17:52:58.833818Z"
    }
   },
   "cell_type": "code",
   "source": "sns.scatterplot(x=df['Feature_1'], y=df['culuster'],hue=df['culuster'],palette='viridis')",
   "id": "c1cc32fa2b925218",
   "outputs": [
    {
     "data": {
      "text/plain": [
       "<Axes: xlabel='Feature_1', ylabel='culuster'>"
      ]
     },
     "execution_count": 15,
     "metadata": {},
     "output_type": "execute_result"
    },
    {
     "data": {
      "text/plain": [
       "<Figure size 640x480 with 1 Axes>"
      ],
      "image/png": "[encoded data removed]"
     },
     "metadata": {},
     "output_type": "display_data"
    }
   ],
   "execution_count": 15
  },
  {
   "metadata": {
    "ExecuteTime": {
     "end_time": "2025-08-08T17:52:58.897955Z",
     "start_time": "2025-08-08T17:52:58.896153Z"
    }
   },
   "cell_type": "code",
   "source": "from sklearn.datasets import make_moons",
   "id": "4eb363f126900ea8",
   "outputs": [],
   "execution_count": 16
  },
  {
   "metadata": {
    "ExecuteTime": {
     "end_time": "2025-08-08T17:52:58.907570Z",
     "start_time": "2025-08-08T17:52:58.905106Z"
    }
   },
   "cell_type": "code",
   "source": "X, y_true = make_moons(n_samples=500, noise=0.05, random_state=42)",
   "id": "ccc6c45156d5f087",
   "outputs": [],
   "execution_count": 17
  },
  {
   "metadata": {
    "ExecuteTime": {
     "end_time": "2025-08-08T17:52:58.912611Z",
     "start_time": "2025-08-08T17:52:58.910673Z"
    }
   },
   "cell_type": "code",
   "source": "from sklearn.cluster import KMeans, DBSCAN",
   "id": "1cb66a41a8d991b2",
   "outputs": [],
   "execution_count": 18
  },
  {
   "metadata": {
    "ExecuteTime": {
     "end_time": "2025-08-08T17:52:58.917331Z",
     "start_time": "2025-08-08T17:52:58.915734Z"
    }
   },
   "cell_type": "code",
   "source": "df = pd.DataFrame(X, columns=['Feature_1','Feature_2'])",
   "id": "d81a0cf1d3bacef9",
   "outputs": [],
   "execution_count": 19
  },
  {
   "metadata": {
    "ExecuteTime": {
     "end_time": "2025-08-08T17:52:58.924319Z",
     "start_time": "2025-08-08T17:52:58.921356Z"
    }
   },
   "cell_type": "code",
   "source": [
    "scaler = StandardScaler()\n",
    "x_scaled = scaler.fit_transform(df)"
   ],
   "id": "43db4bf7c54ce013",
   "outputs": [],
   "execution_count": 20
  },
  {
   "metadata": {
    "ExecuteTime": {
     "end_time": "2025-08-08T17:52:58.929380Z",
     "start_time": "2025-08-08T17:52:58.927600Z"
    }
   },
   "cell_type": "code",
   "source": "kmean = KMeans(n_clusters=2, random_state=42)",
   "id": "fd95e251154012a0",
   "outputs": [],
   "execution_count": 21
  },
  {
   "metadata": {
    "ExecuteTime": {
     "end_time": "2025-08-08T17:52:58.937260Z",
     "start_time": "2025-08-08T17:52:58.932732Z"
    }
   },
   "cell_type": "code",
   "source": "kmeans_label = kmean.fit_predict(x_scaled)",
   "id": "3d8ded4e23bea951",
   "outputs": [],
   "execution_count": 22
  },
  {
   "metadata": {
    "ExecuteTime": {
     "end_time": "2025-08-08T17:52:58.944350Z",
     "start_time": "2025-08-08T17:52:58.942148Z"
    }
   },
   "cell_type": "code",
   "source": "df['kmeans_label'] = kmeans_label",
   "id": "e0de596d4974b1b9",
   "outputs": [],
   "execution_count": 23
  },
  {
   "metadata": {
    "ExecuteTime": {
     "end_time": "2025-08-08T17:53:05.969349Z",
     "start_time": "2025-08-08T17:53:05.957724Z"
    }
   },
   "cell_type": "code",
   "source": "df",
   "id": "cbf1de39443d32e4",
   "outputs": [
    {
     "data": {
      "text/plain": [
       "     Feature_1  Feature_2  kmeans_label\n",
       "0     0.830586  -0.447733             1\n",
       "1     0.701678   0.816918             0\n",
       "2     1.022080  -0.492571             1\n",
       "3    -0.316765   0.953438             0\n",
       "4     0.293226   1.057185             0\n",
       "..         ...        ...           ...\n",
       "495   0.239754   0.985462             0\n",
       "496   0.072145   0.184834             0\n",
       "497   0.590273  -0.365577             1\n",
       "498   1.619465  -0.283658             1\n",
       "499   0.228960   1.063974             0\n",
       "\n",
       "[500 rows x 3 columns]"
      ],
      "text/html": [
       "<div>\n",
       "<style scoped>\n",
       "    .dataframe tbody tr th:only-of-type {\n",
       "        vertical-align: middle;\n",
       "    }\n",
       "\n",
       "    .dataframe tbody tr th {\n",
       "        vertical-align: top;\n",
       "    }\n",
       "\n",
       "    .dataframe thead th {\n",
       "        text-align: right;\n",
       "    }\n",
       "</style>\n",
       "<table border=\"1\" class=\"dataframe\">\n",
       "  <thead>\n",
       "    <tr style=\"text-align: right;\">\n",
       "      <th></th>\n",
       "      <th>Feature_1</th>\n",
       "      <th>Feature_2</th>\n",
       "      <th>kmeans_label</th>\n",
       "    </tr>\n",
       "  </thead>\n",
       "  <tbody>\n",
       "    <tr>\n",
       "      <th>0</th>\n",
       "      <td>0.830586</td>\n",
       "      <td>-0.447733</td>\n",
       "      <td>1</td>\n",
       "    </tr>\n",
       "    <tr>\n",
       "      <th>1</th>\n",
       "      <td>0.701678</td>\n",
       "      <td>0.816918</td>\n",
       "      <td>0</td>\n",
       "    </tr>\n",
       "    <tr>\n",
       "      <th>2</th>\n",
       "      <td>1.022080</td>\n",
       "      <td>-0.492571</td>\n",
       "      <td>1</td>\n",
       "    </tr>\n",
       "    <tr>\n",
       "      <th>3</th>\n",
       "      <td>-0.316765</td>\n",
       "      <td>0.953438</td>\n",
       "      <td>0</td>\n",
       "    </tr>\n",
       "    <tr>\n",
       "      <th>4</th>\n",
       "      <td>0.293226</td>\n",
       "      <td>1.057185</td>\n",
       "      <td>0</td>\n",
       "    </tr>\n",
       "    <tr>\n",
       "      <th>...</th>\n",
       "      <td>...</td>\n",
       "      <td>...</td>\n",
       "      <td>...</td>\n",
       "    </tr>\n",
       "    <tr>\n",
       "      <th>495</th>\n",
       "      <td>0.239754</td>\n",
       "      <td>0.985462</td>\n",
       "      <td>0</td>\n",
       "    </tr>\n",
       "    <tr>\n",
       "      <th>496</th>\n",
       "      <td>0.072145</td>\n",
       "      <td>0.184834</td>\n",
       "      <td>0</td>\n",
       "    </tr>\n",
       "    <tr>\n",
       "      <th>497</th>\n",
       "      <td>0.590273</td>\n",
       "      <td>-0.365577</td>\n",
       "      <td>1</td>\n",
       "    </tr>\n",
       "    <tr>\n",
       "      <th>498</th>\n",
       "      <td>1.619465</td>\n",
       "      <td>-0.283658</td>\n",
       "      <td>1</td>\n",
       "    </tr>\n",
       "    <tr>\n",
       "      <th>499</th>\n",
       "      <td>0.228960</td>\n",
       "      <td>1.063974</td>\n",
       "      <td>0</td>\n",
       "    </tr>\n",
       "  </tbody>\n",
       "</table>\n",
       "<p>500 rows × 3 columns</p>\n",
       "</div>"
      ]
     },
     "execution_count": 25,
     "metadata": {},
     "output_type": "execute_result"
    }
   ],
   "execution_count": 25
  },
  {
   "metadata": {
    "ExecuteTime": {
     "end_time": "2025-08-08T17:55:21.360065Z",
     "start_time": "2025-08-08T17:55:21.252946Z"
    }
   },
   "cell_type": "code",
   "source": "sns.scatterplot(x=df['Feature_1'],y=df['Feature_2'],hue=df['kmeans_label'],palette='tab10')",
   "id": "a477994471d953e0",
   "outputs": [
    {
     "data": {
      "text/plain": [
       "<Axes: xlabel='Feature_1', ylabel='Feature_2'>"
      ]
     },
     "execution_count": 27,
     "metadata": {},
     "output_type": "execute_result"
    },
    {
     "data": {
      "text/plain": [
       "<Figure size 640x480 with 1 Axes>"
      ],
      "image/png": "[encoded data removed]"
     },
     "metadata": {},
     "output_type": "display_data"
    }
   ],
   "execution_count": 27
  },
  {
   "metadata": {
    "ExecuteTime": {
     "end_time": "2025-08-08T17:56:27.563531Z",
     "start_time": "2025-08-08T17:56:27.537464Z"
    }
   },
   "cell_type": "code",
   "source": [
    "dbscan = DBSCAN(eps=0.2, min_samples=5)\n",
    "dbscan_label = dbscan.fit_predict(x_scaled)"
   ],
   "id": "967a4078ac49411f",
   "outputs": [],
   "execution_count": 28
  },
  {
   "metadata": {},
   "cell_type": "code",
   "outputs": [],
   "execution_count": null,
   "source": "",
   "id": "53c6f9647e6f0b91"
  }
 ],
 "metadata": {},
 "nbformat": 4,
 "nbformat_minor": 5
}

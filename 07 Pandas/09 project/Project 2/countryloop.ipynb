{
 "cells": [
  {
   "metadata": {
    "ExecuteTime": {
     "end_time": "2025-07-30T20:06:25.049724Z",
     "start_time": "2025-07-30T20:06:24.751535Z"
    }
   },
   "cell_type": "code",
   "source": [
    "import pandas as pd\n",
    "import numpy as np"
   ],
   "id": "46f472b0a48c0e8b",
   "outputs": [],
   "execution_count": 6
  },
  {
   "metadata": {
    "ExecuteTime": {
     "end_time": "2025-07-30T20:06:46.577215Z",
     "start_time": "2025-07-30T20:06:46.560816Z"
    }
   },
   "cell_type": "code",
   "source": [
    "data = pd.read_csv('Countries.csv')\n",
    "data.head()"
   ],
   "id": "4260e1312fd7068",
   "outputs": [
    {
     "data": {
      "text/plain": [
       "       country                             country_long        currency  \\\n",
       "0  Afghanistan             Islamic State of Afghanistan  Afghan afghani   \n",
       "1      Albania                      Republic of Albania    Albanian lek   \n",
       "2      Algeria  People's Democratic Republic of Algeria  Algerian dinar   \n",
       "3      Andorra                  Principality of Andorra            Euro   \n",
       "4       Angola              People's Republic of Angola  Angolan kwanza   \n",
       "\n",
       "       capital_city           region continent   demonym  latitude  longitude  \\\n",
       "0             Kabul    Southern Asia      Asia    Afghan      33.0       65.0   \n",
       "1            Tirana  Southern Europe    Europe  Albanian      41.0       20.0   \n",
       "2           Algiers  Northern Africa    Africa  Algerian      28.0        3.0   \n",
       "3  Andorra la Vella  Southern Europe    Europe  Andorran      42.5        1.5   \n",
       "4            Luanda    Middle Africa    Africa   Angolan     -12.5       18.5   \n",
       "\n",
       "   agricultural_land  ...  population  women_parliament_seats_pct  \\\n",
       "0           383560.0  ...    41128771                    27.01610   \n",
       "1            11655.5  ...     2775634                    35.71430   \n",
       "2           413588.0  ...    44903225                     8.10811   \n",
       "3              187.2  ...       79824                    46.42860   \n",
       "4           569525.0  ...    35588987                    33.63640   \n",
       "\n",
       "   rural_population  urban_population  press  democracy_score  democracy_type  \\\n",
       "0          30181937          10946834   2.14             2.97   Authoritarian   \n",
       "1           1004807           1770827   2.62             5.98   Hybrid regime   \n",
       "2          11328186          33575039   1.71             3.50   Authoritarian   \n",
       "3              9730             70094   3.17             0.00         Unknown   \n",
       "4          11359649          24229338   2.24             3.62   Authoritarian   \n",
       "\n",
       "   median_age      political_leader               title  \n",
       "0        12.9          Ashraf Ghani           President  \n",
       "1        33.7              Edi Rama      Prime Minister  \n",
       "2        24.0  Abdelmadjid Tebboune           President  \n",
       "3        38.9   Xavier Espot Zamora  Head of Government  \n",
       "4        12.4         João Lourenço           President  \n",
       "\n",
       "[5 rows x 64 columns]"
      ],
      "text/html": [
       "<div>\n",
       "<style scoped>\n",
       "    .dataframe tbody tr th:only-of-type {\n",
       "        vertical-align: middle;\n",
       "    }\n",
       "\n",
       "    .dataframe tbody tr th {\n",
       "        vertical-align: top;\n",
       "    }\n",
       "\n",
       "    .dataframe thead th {\n",
       "        text-align: right;\n",
       "    }\n",
       "</style>\n",
       "<table border=\"1\" class=\"dataframe\">\n",
       "  <thead>\n",
       "    <tr style=\"text-align: right;\">\n",
       "      <th></th>\n",
       "      <th>country</th>\n",
       "      <th>country_long</th>\n",
       "      <th>currency</th>\n",
       "      <th>capital_city</th>\n",
       "      <th>region</th>\n",
       "      <th>continent</th>\n",
       "      <th>demonym</th>\n",
       "      <th>latitude</th>\n",
       "      <th>longitude</th>\n",
       "      <th>agricultural_land</th>\n",
       "      <th>...</th>\n",
       "      <th>population</th>\n",
       "      <th>women_parliament_seats_pct</th>\n",
       "      <th>rural_population</th>\n",
       "      <th>urban_population</th>\n",
       "      <th>press</th>\n",
       "      <th>democracy_score</th>\n",
       "      <th>democracy_type</th>\n",
       "      <th>median_age</th>\n",
       "      <th>political_leader</th>\n",
       "      <th>title</th>\n",
       "    </tr>\n",
       "  </thead>\n",
       "  <tbody>\n",
       "    <tr>\n",
       "      <th>0</th>\n",
       "      <td>Afghanistan</td>\n",
       "      <td>Islamic State of Afghanistan</td>\n",
       "      <td>Afghan afghani</td>\n",
       "      <td>Kabul</td>\n",
       "      <td>Southern Asia</td>\n",
       "      <td>Asia</td>\n",
       "      <td>Afghan</td>\n",
       "      <td>33.0</td>\n",
       "      <td>65.0</td>\n",
       "      <td>383560.0</td>\n",
       "      <td>...</td>\n",
       "      <td>41128771</td>\n",
       "      <td>27.01610</td>\n",
       "      <td>30181937</td>\n",
       "      <td>10946834</td>\n",
       "      <td>2.14</td>\n",
       "      <td>2.97</td>\n",
       "      <td>Authoritarian</td>\n",
       "      <td>12.9</td>\n",
       "      <td>Ashraf Ghani</td>\n",
       "      <td>President</td>\n",
       "    </tr>\n",
       "    <tr>\n",
       "      <th>1</th>\n",
       "      <td>Albania</td>\n",
       "      <td>Republic of Albania</td>\n",
       "      <td>Albanian lek</td>\n",
       "      <td>Tirana</td>\n",
       "      <td>Southern Europe</td>\n",
       "      <td>Europe</td>\n",
       "      <td>Albanian</td>\n",
       "      <td>41.0</td>\n",
       "      <td>20.0</td>\n",
       "      <td>11655.5</td>\n",
       "      <td>...</td>\n",
       "      <td>2775634</td>\n",
       "      <td>35.71430</td>\n",
       "      <td>1004807</td>\n",
       "      <td>1770827</td>\n",
       "      <td>2.62</td>\n",
       "      <td>5.98</td>\n",
       "      <td>Hybrid regime</td>\n",
       "      <td>33.7</td>\n",
       "      <td>Edi Rama</td>\n",
       "      <td>Prime Minister</td>\n",
       "    </tr>\n",
       "    <tr>\n",
       "      <th>2</th>\n",
       "      <td>Algeria</td>\n",
       "      <td>People's Democratic Republic of Algeria</td>\n",
       "      <td>Algerian dinar</td>\n",
       "      <td>Algiers</td>\n",
       "      <td>Northern Africa</td>\n",
       "      <td>Africa</td>\n",
       "      <td>Algerian</td>\n",
       "      <td>28.0</td>\n",
       "      <td>3.0</td>\n",
       "      <td>413588.0</td>\n",
       "      <td>...</td>\n",
       "      <td>44903225</td>\n",
       "      <td>8.10811</td>\n",
       "      <td>11328186</td>\n",
       "      <td>33575039</td>\n",
       "      <td>1.71</td>\n",
       "      <td>3.50</td>\n",
       "      <td>Authoritarian</td>\n",
       "      <td>24.0</td>\n",
       "      <td>Abdelmadjid Tebboune</td>\n",
       "      <td>President</td>\n",
       "    </tr>\n",
       "    <tr>\n",
       "      <th>3</th>\n",
       "      <td>Andorra</td>\n",
       "      <td>Principality of Andorra</td>\n",
       "      <td>Euro</td>\n",
       "      <td>Andorra la Vella</td>\n",
       "      <td>Southern Europe</td>\n",
       "      <td>Europe</td>\n",
       "      <td>Andorran</td>\n",
       "      <td>42.5</td>\n",
       "      <td>1.5</td>\n",
       "      <td>187.2</td>\n",
       "      <td>...</td>\n",
       "      <td>79824</td>\n",
       "      <td>46.42860</td>\n",
       "      <td>9730</td>\n",
       "      <td>70094</td>\n",
       "      <td>3.17</td>\n",
       "      <td>0.00</td>\n",
       "      <td>Unknown</td>\n",
       "      <td>38.9</td>\n",
       "      <td>Xavier Espot Zamora</td>\n",
       "      <td>Head of Government</td>\n",
       "    </tr>\n",
       "    <tr>\n",
       "      <th>4</th>\n",
       "      <td>Angola</td>\n",
       "      <td>People's Republic of Angola</td>\n",
       "      <td>Angolan kwanza</td>\n",
       "      <td>Luanda</td>\n",
       "      <td>Middle Africa</td>\n",
       "      <td>Africa</td>\n",
       "      <td>Angolan</td>\n",
       "      <td>-12.5</td>\n",
       "      <td>18.5</td>\n",
       "      <td>569525.0</td>\n",
       "      <td>...</td>\n",
       "      <td>35588987</td>\n",
       "      <td>33.63640</td>\n",
       "      <td>11359649</td>\n",
       "      <td>24229338</td>\n",
       "      <td>2.24</td>\n",
       "      <td>3.62</td>\n",
       "      <td>Authoritarian</td>\n",
       "      <td>12.4</td>\n",
       "      <td>João Lourenço</td>\n",
       "      <td>President</td>\n",
       "    </tr>\n",
       "  </tbody>\n",
       "</table>\n",
       "<p>5 rows × 64 columns</p>\n",
       "</div>"
      ]
     },
     "execution_count": 9,
     "metadata": {},
     "output_type": "execute_result"
    }
   ],
   "execution_count": 9
  },
  {
   "metadata": {
    "ExecuteTime": {
     "end_time": "2025-07-30T20:24:48.611414Z",
     "start_time": "2025-07-30T20:24:48.599301Z"
    }
   },
   "cell_type": "code",
   "source": "data.columns",
   "id": "995072688e2c892a",
   "outputs": [
    {
     "data": {
      "text/plain": [
       "Index(['country', 'country_long', 'currency', 'capital_city', 'region',\n",
       "       'continent', 'demonym', 'latitude', 'longitude', 'agricultural_land',\n",
       "       'forest_area', 'land_area', 'rural_land', 'urban_land',\n",
       "       'central_government_debt_pct_gdp', 'expense_pct_gdp', 'gdp',\n",
       "       'inflation', 'self_employed_pct', 'tax_revenue_pct_gdp',\n",
       "       'unemployment_pct', 'vulnerable_employment_pct',\n",
       "       'electricity_access_pct', 'alternative_nuclear_energy_pct',\n",
       "       'electricty_production_coal_pct',\n",
       "       'electricty_production_hydroelectric_pct',\n",
       "       'electricty_production_gas_pct', 'electricty_production_nuclear_pct',\n",
       "       'electricty_production_oil_pct', 'electricty_production_renewable_pct',\n",
       "       'energy_imports_pct', 'fossil_energy_consumption_pct',\n",
       "       'renewable_energy_consumption_pct', 'co2_emissions',\n",
       "       'methane_emissions', 'nitrous_oxide_emissions',\n",
       "       'greenhouse_other_emissions', 'urban_population_under_5m',\n",
       "       'health_expenditure_pct_gdp', 'health_expenditure_capita',\n",
       "       'hospital_beds', 'hiv_incidence', 'suicide_rate', 'armed_forces',\n",
       "       'internally_displaced_persons', 'military_expenditure_pct_gdp',\n",
       "       'birth_rate', 'death_rate', 'fertility_rate', 'internet_pct',\n",
       "       'life_expectancy', 'net_migration', 'population_female',\n",
       "       'population_male', 'population', 'women_parliament_seats_pct',\n",
       "       'rural_population', 'urban_population', 'press', 'democracy_score',\n",
       "       'democracy_type', 'median_age', 'political_leader', 'title'],\n",
       "      dtype='object')"
      ]
     },
     "execution_count": 27,
     "metadata": {},
     "output_type": "execute_result"
    }
   ],
   "execution_count": 27
  },
  {
   "metadata": {
    "ExecuteTime": {
     "end_time": "2025-07-30T20:08:54.013911Z",
     "start_time": "2025-07-30T20:08:54.007420Z"
    }
   },
   "cell_type": "code",
   "source": "data.shape",
   "id": "45211bf47cdd7979",
   "outputs": [
    {
     "data": {
      "text/plain": [
       "(194, 64)"
      ]
     },
     "execution_count": 12,
     "metadata": {},
     "output_type": "execute_result"
    }
   ],
   "execution_count": 12
  },
  {
   "metadata": {
    "ExecuteTime": {
     "end_time": "2025-07-30T20:10:35.491230Z",
     "start_time": "2025-07-30T20:10:35.470879Z"
    }
   },
   "cell_type": "code",
   "source": "data.info()",
   "id": "491abe9d2d89dbf6",
   "outputs": [
    {
     "name": "stdout",
     "output_type": "stream",
     "text": [
      "<class 'pandas.core.frame.DataFrame'>\n",
      "RangeIndex: 194 entries, 0 to 193\n",
      "Data columns (total 64 columns):\n",
      " #   Column                                   Non-Null Count  Dtype  \n",
      "---  ------                                   --------------  -----  \n",
      " 0   country                                  194 non-null    object \n",
      " 1   country_long                             194 non-null    object \n",
      " 2   currency                                 194 non-null    object \n",
      " 3   capital_city                             194 non-null    object \n",
      " 4   region                                   194 non-null    object \n",
      " 5   continent                                194 non-null    object \n",
      " 6   demonym                                  194 non-null    object \n",
      " 7   latitude                                 194 non-null    float64\n",
      " 8   longitude                                194 non-null    float64\n",
      " 9   agricultural_land                        193 non-null    float64\n",
      " 10  forest_area                              194 non-null    float64\n",
      " 11  land_area                                194 non-null    float64\n",
      " 12  rural_land                               194 non-null    float64\n",
      " 13  urban_land                               194 non-null    float64\n",
      " 14  central_government_debt_pct_gdp          120 non-null    float64\n",
      " 15  expense_pct_gdp                          156 non-null    float64\n",
      " 16  gdp                                      193 non-null    float64\n",
      " 17  inflation                                184 non-null    float64\n",
      " 18  self_employed_pct                        179 non-null    float64\n",
      " 19  tax_revenue_pct_gdp                      159 non-null    float64\n",
      " 20  unemployment_pct                         179 non-null    float64\n",
      " 21  vulnerable_employment_pct                179 non-null    float64\n",
      " 22  electricity_access_pct                   194 non-null    float64\n",
      " 23  alternative_nuclear_energy_pct           138 non-null    float64\n",
      " 24  electricty_production_coal_pct           138 non-null    float64\n",
      " 25  electricty_production_hydroelectric_pct  138 non-null    float64\n",
      " 26  electricty_production_gas_pct            138 non-null    float64\n",
      " 27  electricty_production_nuclear_pct        138 non-null    float64\n",
      " 28  electricty_production_oil_pct            138 non-null    float64\n",
      " 29  electricty_production_renewable_pct      138 non-null    float64\n",
      " 30  energy_imports_pct                       138 non-null    float64\n",
      " 31  fossil_energy_consumption_pct            168 non-null    float64\n",
      " 32  renewable_energy_consumption_pct         192 non-null    float64\n",
      " 33  co2_emissions                            191 non-null    float64\n",
      " 34  methane_emissions                        191 non-null    float64\n",
      " 35  nitrous_oxide_emissions                  191 non-null    float64\n",
      " 36  greenhouse_other_emissions               184 non-null    float64\n",
      " 37  urban_population_under_5m                194 non-null    float64\n",
      " 38  health_expenditure_pct_gdp               190 non-null    float64\n",
      " 39  health_expenditure_capita                190 non-null    float64\n",
      " 40  hospital_beds                            192 non-null    float64\n",
      " 41  hiv_incidence                            133 non-null    float64\n",
      " 42  suicide_rate                             183 non-null    float64\n",
      " 43  armed_forces                             174 non-null    float64\n",
      " 44  internally_displaced_persons             73 non-null     float64\n",
      " 45  military_expenditure_pct_gdp             163 non-null    float64\n",
      " 46  birth_rate                               194 non-null    float64\n",
      " 47  death_rate                               194 non-null    float64\n",
      " 48  fertility_rate                           193 non-null    float64\n",
      " 49  internet_pct                             194 non-null    float64\n",
      " 50  life_expectancy                          191 non-null    float64\n",
      " 51  net_migration                            194 non-null    int64  \n",
      " 52  population_female                        194 non-null    int64  \n",
      " 53  population_male                          194 non-null    int64  \n",
      " 54  population                               194 non-null    int64  \n",
      " 55  women_parliament_seats_pct               193 non-null    float64\n",
      " 56  rural_population                         194 non-null    int64  \n",
      " 57  urban_population                         194 non-null    int64  \n",
      " 58  press                                    194 non-null    float64\n",
      " 59  democracy_score                          194 non-null    float64\n",
      " 60  democracy_type                           194 non-null    object \n",
      " 61  median_age                               194 non-null    float64\n",
      " 62  political_leader                         187 non-null    object \n",
      " 63  title                                    187 non-null    object \n",
      "dtypes: float64(48), int64(6), object(10)\n",
      "memory usage: 97.1+ KB\n"
     ]
    }
   ],
   "execution_count": 14
  },
  {
   "metadata": {
    "ExecuteTime": {
     "end_time": "2025-07-30T20:17:41.331463Z",
     "start_time": "2025-07-30T20:17:41.322044Z"
    }
   },
   "cell_type": "code",
   "source": "data[data['population'] == data['population'].max()]['country']",
   "id": "87979ddcf1f0acda",
   "outputs": [
    {
     "data": {
      "text/plain": [
       "75    India\n",
       "Name: country, dtype: object"
      ]
     },
     "execution_count": 25,
     "metadata": {},
     "output_type": "execute_result"
    }
   ],
   "execution_count": 25
  },
  {
   "metadata": {
    "ExecuteTime": {
     "end_time": "2025-07-30T20:19:14.856430Z",
     "start_time": "2025-07-30T20:19:14.844702Z"
    }
   },
   "cell_type": "code",
   "source": "data[data['population'] == data['population'].max()]['capital_city']",
   "id": "e4a0476f55d3e3b5",
   "outputs": [
    {
     "data": {
      "text/plain": [
       "75    New Delhi\n",
       "Name: capital_city, dtype: object"
      ]
     },
     "execution_count": 26,
     "metadata": {},
     "output_type": "execute_result"
    }
   ],
   "execution_count": 26
  },
  {
   "metadata": {
    "ExecuteTime": {
     "end_time": "2025-07-30T20:28:48.276268Z",
     "start_time": "2025-07-30T20:28:48.256249Z"
    }
   },
   "cell_type": "code",
   "source": [
    "data.sort_values(by = 'democracy_score', ascending=False, inplace=True)\n",
    "data['country'].head(10)"
   ],
   "id": "d41e6f59fee74c30",
   "outputs": [
    {
     "data": {
      "text/plain": [
       "127         Norway\n",
       "74         Iceland\n",
       "164         Sweden\n",
       "122    New Zealand\n",
       "46         Denmark\n",
       "79         Ireland\n",
       "30          Canada\n",
       "59         Finland\n",
       "8        Australia\n",
       "165    Switzerland\n",
       "Name: country, dtype: object"
      ]
     },
     "execution_count": 53,
     "metadata": {},
     "output_type": "execute_result"
    }
   ],
   "execution_count": 53
  },
  {
   "metadata": {
    "ExecuteTime": {
     "end_time": "2025-07-30T20:29:57.196790Z",
     "start_time": "2025-07-30T20:29:57.178766Z"
    }
   },
   "cell_type": "code",
   "source": "data['region'].value_counts().count()",
   "id": "ab6bbdec2caecbc8",
   "outputs": [
    {
     "data": {
      "text/plain": [
       "np.int64(22)"
      ]
     },
     "execution_count": 54,
     "metadata": {},
     "output_type": "execute_result"
    }
   ],
   "execution_count": 54
  },
  {
   "metadata": {
    "ExecuteTime": {
     "end_time": "2025-07-30T20:34:38.948660Z",
     "start_time": "2025-07-30T20:34:38.936057Z"
    }
   },
   "cell_type": "code",
   "source": "data[data['region'] == 'Eastern Europe']['country']",
   "id": "ad16434b05e2eca1",
   "outputs": [
    {
     "data": {
      "text/plain": [
       "43      Czech Republic\n",
       "151    Slovak Republic\n",
       "24            Bulgaria\n",
       "136             Poland\n",
       "73             Hungary\n",
       "139            Romania\n",
       "111            Moldova\n",
       "181            Ukraine\n",
       "14             Belarus\n",
       "140             Russia\n",
       "Name: country, dtype: object"
      ]
     },
     "execution_count": 55,
     "metadata": {},
     "output_type": "execute_result"
    }
   ],
   "execution_count": 55
  },
  {
   "metadata": {
    "ExecuteTime": {
     "end_time": "2025-07-30T20:48:11.602148Z",
     "start_time": "2025-07-30T20:48:11.597131Z"
    }
   },
   "cell_type": "code",
   "source": "data[data['political_leader'].isna()]['country']",
   "id": "64c5c08230b86ebe",
   "outputs": [
    {
     "data": {
      "text/plain": [
       "27                         Cabo Verde\n",
       "172                       Timor-Leste\n",
       "151                   Slovak Republic\n",
       "190                West Bank and Gaza\n",
       "159               St. Kitts and Nevis\n",
       "160                         St. Lucia\n",
       "161    St. Vincent and the Grenadines\n",
       "Name: country, dtype: object"
      ]
     },
     "execution_count": 62,
     "metadata": {},
     "output_type": "execute_result"
    }
   ],
   "execution_count": 62
  },
  {
   "metadata": {
    "ExecuteTime": {
     "end_time": "2025-07-30T21:18:02.868953Z",
     "start_time": "2025-07-30T21:18:02.858778Z"
    }
   },
   "cell_type": "code",
   "source": [
    "count = 0\n",
    "def counting(txt):\n",
    "    global count\n",
    "    if 'republic' in txt.lower():\n",
    "        count += 1\n",
    "        print(txt)\n",
    "    return txt\n",
    "data['country_long'] = data['country_long'].apply(counting)\n"
   ],
   "id": "23d152cac2bae6e4",
   "outputs": [
    {
     "name": "stdout",
     "output_type": "stream",
     "text": [
      "Republic of Iceland\n",
      "Republic of Finland\n",
      "Federal Republic of Germany\n",
      "Oriental Republic of Uruguay\n",
      "Republic of Austria\n",
      "Republic of Mauritius\n",
      "Republic of Malta\n",
      "Republic of Costa Rica\n",
      "Republic of Korea\n",
      "Republic of Estonia\n",
      "Republic of Chile\n",
      "Republic of Cabo Verde\n",
      "Portuguese Republic\n",
      "Republic of Botswana\n",
      "French Republic\n",
      "Italian Republic\n",
      "Czech Republic\n",
      "Republic of Cyprus\n",
      "Republic of Slovenia\n",
      "Republic of Lithuania\n",
      "Republic of Latvia\n",
      "Hellenic Republic\n",
      "Republic of South Africa\n",
      "Republic of India\n",
      "Democratic Republic of Timor-Leste\n",
      "Republic of Trinidad and Tobago\n",
      "Slovak Republic\n",
      "Republic of Panama\n",
      "Republic of Bulgaria\n",
      "Argentine Republic\n",
      "Republic of Suriname\n",
      "Federative Republic of Brazil\n",
      "Republic of Colombia\n",
      "Republic of the Philippines\n",
      "Co-operative Republic of Guyana\n",
      "Republic of Poland\n",
      "Republic of Ghana\n",
      "Republic of Peru\n",
      "Republic of Croatia\n",
      "Dominican Republic\n",
      "Republic of Serbia\n",
      "Republic of Tunisia\n",
      "Republic of Indonesia\n",
      "Republic of Singapore\n",
      "Republic of Ecuador\n",
      "Republic of Namibia\n",
      "Republic of Paraguay\n",
      "Democratic Socialist Republic of Sri Lanka\n",
      "Republic of Senegal\n",
      "Republic of Albania\n",
      "Republic of El Salvador\n",
      "Republic of North Macedonia\n",
      "Republic of Moldova\n",
      "Republic of Fiji\n",
      "Republic of Benin\n",
      "Republic of Honduras\n",
      "Republic of Zambia\n",
      "Republic of Guatemala\n",
      "People's Republic of Bangladesh\n",
      "Republic of Malawi\n",
      "Republic of Mali\n",
      "United Republic of Tanzania\n",
      "Republic of Liberia\n",
      "Republic of Madagascar\n",
      "Republic of Uganda\n",
      "Kyrgyz Republic\n",
      "Republic of Kenya\n",
      "Republic of Haiti\n",
      "Republic of Armenia\n",
      "Republic of Sierra Leone\n",
      "Lebanese Republic\n",
      "Federal Republic of Nigeria\n",
      "Republic of Turkey\n",
      "Republic of The Gambia\n",
      "Islamic Republic of Pakistan\n",
      "Republic of Côte d'Ivoire\n",
      "Republic of Iraq\n",
      "Republic of Mozambique\n",
      "Republic of the Union of Myanmar\n",
      "Islamic Republic of Mauritania\n",
      "Republic of Niger\n",
      "Republic of Nicaragua\n",
      "People's Republic of Angola\n",
      "Gabonese Republic\n",
      "People's Democratic Republic of Algeria\n",
      "Arab Republic of Egypt\n",
      "Federal Democratic Republic of Ethiopia\n",
      "Republic of Rwanda\n",
      "People's Republic of China\n",
      "Republic of Congo\n",
      "Republic of Cameroon\n",
      "Republic of Zimbabwe\n",
      "Republic of Guinea\n",
      "Republic of Belarus\n",
      "Republic of Togo\n",
      "Socialist Republic of Vietnam\n",
      "Republic of Cuba\n",
      "Republic of Kazakhstan\n",
      "Republic of Djibouti\n",
      "Republic of Azerbaijan\n",
      "Islamic Republic of Iran\n",
      "Lao People's Democratic Republic\n",
      "Republic of Burundi\n",
      "Republic of the Sudan\n",
      "Republic of Uzbekistan\n",
      "Republic of Guinea-Bissau\n",
      "Republic of Yemen\n",
      "Republic of Tajikistan\n",
      "Republic of Equatorial Guinea\n",
      "Republic of Chad\n",
      "Central African Republic\n",
      "Democratic Republic of the Congo\n",
      "Syrian Arab Republic\n",
      "Democratic People's Republic of Korea\n",
      "Somali Democratic Republic\n",
      "Republic of Maldives\n",
      "Republic of the Marshall Islands\n",
      "Republic of Nauru\n",
      "Republic of Kiribati\n",
      "Republic of South Sudan\n",
      "Republic of San Marino\n",
      "Republic of Seychelles\n",
      "Democratic Republic of São Tomé and Principe\n",
      "Republic of Vanuatu\n",
      "Republic of Palau\n"
     ]
    }
   ],
   "execution_count": 99
  },
  {
   "metadata": {
    "ExecuteTime": {
     "end_time": "2025-07-30T21:19:31.773753Z",
     "start_time": "2025-07-30T21:19:31.769386Z"
    }
   },
   "cell_type": "code",
   "source": "africa_data = data[data['continent'] == 'Africa']",
   "id": "f676a41e895b6f6",
   "outputs": [],
   "execution_count": 103
  },
  {
   "metadata": {
    "ExecuteTime": {
     "end_time": "2025-07-30T21:19:55.685126Z",
     "start_time": "2025-07-30T21:19:55.674140Z"
    }
   },
   "cell_type": "code",
   "source": "africa_data[africa_data['population'] == africa_data['population'].max()]['country']\n",
   "id": "58c8ca39a74ae57a",
   "outputs": [
    {
     "data": {
      "text/plain": [
       "125    Nigeria\n",
       "Name: country, dtype: object"
      ]
     },
     "execution_count": 104,
     "metadata": {},
     "output_type": "execute_result"
    }
   ],
   "execution_count": 104
  }
 ],
 "metadata": {},
 "nbformat": 4,
 "nbformat_minor": 5
}

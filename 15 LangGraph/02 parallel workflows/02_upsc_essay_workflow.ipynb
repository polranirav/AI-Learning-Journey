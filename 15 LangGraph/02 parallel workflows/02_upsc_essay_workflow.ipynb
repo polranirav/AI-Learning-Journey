{
 "cells": [
  {
   "cell_type": "code",
   "execution_count": 49,
   "id": "ac4fb24a",
   "metadata": {},
   "outputs": [],
   "source": [
    "from langgraph.graph import StateGraph, START, END\n",
    "from typing import TypedDict\n",
    "from langchain_openai import ChatOpenAI\n",
    "from dotenv import load_dotenv\n",
    "from pydantic import BaseModel, Field\n",
    "from typing_extensions import Annotated\n",
    "import operator"
   ]
  },
  {
   "cell_type": "code",
   "execution_count": 50,
   "id": "f285bc4f",
   "metadata": {},
   "outputs": [],
   "source": [
    "load_dotenv()\n",
    "model = ChatOpenAI(model=\"gpt-4o-mini\")"
   ]
  },
  {
   "cell_type": "code",
   "execution_count": 51,
   "id": "ec33b527",
   "metadata": {},
   "outputs": [],
   "source": [
    "class EvaluationSchema(BaseModel):\n",
    "\n",
    "    feedback: str = Field(description=\"Detailed feedback on the essay\")\n",
    "    score : int = Field(description=\"Score out of 10\", ge=0, le=10)\n",
    "    \n",
    "    "
   ]
  },
  {
   "cell_type": "code",
   "execution_count": 52,
   "id": "bc8894e4",
   "metadata": {},
   "outputs": [],
   "source": [
    "structured_modal = model.with_structured_output(EvaluationSchema)"
   ]
  },
  {
   "cell_type": "code",
   "execution_count": 53,
   "id": "6662b537",
   "metadata": {},
   "outputs": [],
   "source": [
    "essay = \"\"\"The COVID-19 pandemic has had a profound impact on global health, economies, and societies. It has exposed vulnerabilities in healthcare systems, highlighted the importance of public health infrastructure, and accelerated the adoption of digital technologies. The pandemic has also underscored the need for international cooperation in addressing global health crises. As we move forward, it is crucial to learn from the experiences of the pandemic to build more resilient systems that can better respond to future health emergencies.\"\"\""
   ]
  },
  {
   "cell_type": "code",
   "execution_count": 54,
   "id": "e89b0862",
   "metadata": {},
   "outputs": [],
   "source": [
    "prompt = f\"Provide a detailed feedback and score out of 10 for the following essay: {essay}\"\n",
    "result = structured_modal.invoke(prompt)"
   ]
  },
  {
   "cell_type": "code",
   "execution_count": 55,
   "id": "f4447be5",
   "metadata": {},
   "outputs": [
    {
     "data": {
      "text/plain": [
       "7"
      ]
     },
     "execution_count": 55,
     "metadata": {},
     "output_type": "execute_result"
    }
   ],
   "source": [
    "result.score"
   ]
  },
  {
   "cell_type": "code",
   "execution_count": 56,
   "id": "bc6c3d00",
   "metadata": {},
   "outputs": [],
   "source": [
    "class UpscState(TypedDict):\n",
    "    essay: str\n",
    "    language_feedback: str\n",
    "    analysis_feedback: str\n",
    "    clarity_feedback: str\n",
    "    overall_score: int\n",
    "    individual_scores: Annotated[list[int], operator.add]\n",
    "    average_score: float\n"
   ]
  },
  {
   "cell_type": "code",
   "execution_count": 57,
   "id": "954e6151",
   "metadata": {},
   "outputs": [],
   "source": [
    "def evaluate_language(state: UpscState) -> UpscState:\n",
    "    \n",
    "    prompt = f\"Evaluate the following essay for language quality, grammar, and coherence. Provide detailed feedback and a score out of 10.\\n\\nEssay: {state['essay']}\"\n",
    "    result = structured_modal.invoke(prompt)\n",
    "    \n",
    "    return {\"language_feedback\": result.feedback, \"individual_scores\": [result.score]}"
   ]
  },
  {
   "cell_type": "code",
   "execution_count": 58,
   "id": "9c711216",
   "metadata": {},
   "outputs": [],
   "source": [
    "def evaluate_analysis(state: UpscState) -> UpscState:\n",
    "\n",
    "    prompt = f\"Evaluate the following essay for analytical depth, argument strength, and use of evidence. Provide detailed feedback and a score out of 10.\\n\\nEssay: {state['essay']}\"\n",
    "    result = structured_modal.invoke(prompt)\n",
    "\n",
    "    return {\"analysis_feedback\": result.feedback, \"individual_scores\": [result.score]}"
   ]
  },
  {
   "cell_type": "code",
   "execution_count": 59,
   "id": "6bf749fe",
   "metadata": {},
   "outputs": [],
   "source": [
    "def evaluate_clarity(state: UpscState) -> UpscState:\n",
    "\n",
    "    prompt = f\"Evaluate the following essay for clarity of expression, organization of ideas, and overall readability. Provide detailed feedback and a score out of 10.\\n\\nEssay: {state['essay']}\"\n",
    "    result = structured_modal.invoke(prompt)\n",
    "\n",
    "    return {\"clarity_feedback\": result.feedback, \"individual_scores\": [result.score]}"
   ]
  },
  {
   "cell_type": "code",
   "execution_count": 65,
   "id": "1e350cca",
   "metadata": {},
   "outputs": [],
   "source": [
    "def final_evaluation(state: UpscState) -> UpscState:\n",
    "\n",
    "    prompt = f\"Based on the following individual feedbacks and scores, provide an overall evaluation of the essay. Summarize the strengths and weaknesses, and provide an overall score out of 10.\\n\\nLanguage Feedback: {state['language_feedback']}\\nAnalysis Feedback: {state['analysis_feedback']}\\nClarity Feedback: {state['clarity_feedback']}\\nIndividual Scores: {state['individual_scores']}\"\n",
    "    \n",
    "    overall_score = model.invoke(prompt)\n",
    "    \n",
    "    #avage calculate average score\n",
    "    average_score = sum(state['individual_scores']) / len(state['individual_scores'])\n",
    "    \n",
    "    return {\"overall_score\": overall_score, \"average_score\": average_score}"
   ]
  },
  {
   "cell_type": "code",
   "execution_count": 66,
   "id": "f65e1e9f",
   "metadata": {},
   "outputs": [],
   "source": [
    "graph = StateGraph(UpscState)\n",
    "\n",
    "graph.add_node('evaluate_language', evaluate_language)\n",
    "graph.add_node('evaluate_analysis', evaluate_analysis)\n",
    "graph.add_node('evaluate_clarity', evaluate_clarity)   \n",
    "graph.add_node('final_evaluation', final_evaluation)\n",
    "\n",
    "\n",
    "#edge\n",
    "graph.add_edge(START, 'evaluate_language')\n",
    "graph.add_edge(START, 'evaluate_analysis')\n",
    "graph.add_edge(START, 'evaluate_clarity')\n",
    "\n",
    "graph.add_edge('evaluate_analysis', 'final_evaluation')\n",
    "graph.add_edge('evaluate_language', 'final_evaluation')\n",
    "graph.add_edge('evaluate_clarity', 'final_evaluation')\n",
    "graph.add_edge('final_evaluation', END)\n",
    "\n",
    "workflow = graph.compile()\n"
   ]
  },
  {
   "cell_type": "code",
   "execution_count": 67,
   "id": "74a4af3b",
   "metadata": {},
   "outputs": [
    {
     "data": {
      "image/png": "[encoded data removed]",
      "text/plain": [
       "<langgraph.graph.state.CompiledStateGraph object at 0x110f07890>"
      ]
     },
     "execution_count": 67,
     "metadata": {},
     "output_type": "execute_result"
    }
   ],
   "source": [
    "workflow"
   ]
  },
  {
   "cell_type": "code",
   "execution_count": 68,
   "id": "ae0cb692",
   "metadata": {},
   "outputs": [
    {
     "data": {
      "text/plain": [
       "{'essay': 'The COVID-19 pandemic has had a profound impact on global health, economies, and societies. It has exposed vulnerabilities in healthcare systems, highlighted the importance of public health infrastructure, and accelerated the adoption of digital technologies. The pandemic has also underscored the need for international cooperation in addressing global health crises. As we move forward, it is crucial to learn from the experiences of the pandemic to build more resilient systems that can better respond to future health emergencies.',\n",
       " 'language_feedback': \"The essay effectively communicates the significant impacts of the COVID-19 pandemic across various sectors, including health, economies, and societies. The language used is clear and formal, appropriate for an informative essay. The grammatical structure is correct throughout, with no evident errors. The transitions between ideas are smooth, enhancing the overall coherence of the text. However, the essay could benefit from more specific examples or evidence to support the claims made, such as citing particular vulnerabilities in healthcare systems or instances of international cooperation. Additionally, expanding on what 'building more resilient systems' entails could add depth to the conclusion.\",\n",
       " 'analysis_feedback': 'The essay presents a broad overview of the impact of the COVID-19 pandemic, touching on several key areas: healthcare vulnerabilities, public health infrastructure, digital technology adoption, and international cooperation. However, it lacks analytical depth and specificity, which would strengthen its arguments. \\n\\n1. **Analytical Depth**: The essay provides a general outline but misses deeper analyses. For instance, it mentions the exposure of vulnerabilities in healthcare systems but does not discuss specific examples or data that illustrate these vulnerabilities. A closer examination of particular countries or case studies would provide a richer context and allow for a more nuanced argument. \\n\\n2. **Argument Strength**: While the thesis is relevant and timely, the essay needs to bolster its arguments with more substantial claims. For example, while it states the importance of public health infrastructure, it could also argue why some countries fared better during the pandemic based on their pre-existing health systems. Strengthening the argument about international cooperation could also use specific examples of successful collaborations or failures during the pandemic that led to significant outcomes.\\n\\n3. **Use of Evidence**: The essay does not employ specific evidence or examples to support its claims. Integrating statistics, studies, or expert opinions would significantly enhance credibility and persuasiveness. For instance, citing data on economic impacts, healthcare efficacy, or advancements in technology adoption due to the pandemic would provide a solid foundation for the assertions made.\\n\\nOverall, while the essay identifies important themes related to the pandemic, it lacks the necessary analytical depth, persuasive argumentation, and concrete evidence to make a compelling case.  Enhancing these areas could lead to a more engaging and informative piece.',\n",
       " 'clarity_feedback': \"Overall, the essay presents a clear and coherent argument about the impact of the COVID-19 pandemic. The sentences are well-structured, and the ideas flow logically from one to the next. The use of phrases like 'profound impact,' 'exposed vulnerabilities,' and 'underscored the need' effectively conveys the seriousness of the pandemic's effects and the need for action. The organization is straightforward, first identifying key areas affected by the pandemic and then moving towards the implications for the future. \\n\\nHowever, there are areas where clarity could be improved. For example, while the essay mentions the adoption of digital technologies, it does not specify which technologies or how they were accelerated during the pandemic. Adding such details could enhance the argument's specificity and depth.\\n\\nAdditionally, phrases like 'crucial to learn from the experiences' could be made more specific; what particular experiences are being referred to? Providing specific examples could strengthen the argument and make it more relatable.\\n\\nThe essay could also benefit from an introduction that presents the thesis more clearly and a conclusion that reinforces the main ideas and suggests actionable steps or considerations for the future. \\n\\nIn summary, while the essay demonstrates clarity and organization, it lacks depth in certain areas. More specific examples and a more robust framing of the argument would enhance overall readability and engagement.\\n\\nScore: 7/10\",\n",
       " 'overall_score': AIMessage(content=\"**Overall Evaluation of the Essay**\\n\\nThe essay presents a coherent overview of the impact of the COVID-19 pandemic across various sectors, showcasing clear communication, formal language, and a logical structure. However, it falls short in analytical depth, specificity, and the use of evidence, which undermines the strength of its arguments.\\n\\n**Strengths:**\\n1. **Clarity and Structure**: The essay is well organized, moving logically from identifying key areas affected by the pandemic to discussing implications for the future. The language is clear and formal, suitable for an informative piece.\\n2. **Smooth Transitions**: Transitions between ideas are smooth, contributing to the overall coherence of the text.\\n3. **Grammatical Accuracy**: The grammatical structure is correct throughout, with no evident errors, enhancing readability.\\n\\n**Weaknesses:**\\n1. **Lack of Analytical Depth**: The essay provides a broad overview but lacks in-depth analysis. It mentions healthcare vulnerabilities without diving into specific examples or detailing their implications.\\n2. **Insufficient Use of Evidence**: The absence of specific data, statistics, or case studies detracts from the credibility of the claims made. The inclusion of concrete evidence would solidify the arguments and enhance persuasiveness.\\n3. **Need for Specific Examples**: While some themes are identified, the essay could have benefited from examples that illustrate key points—such as technologies adopted during the pandemic or instances of successful international cooperation.\\n4. **Weak Argument Strength**: The essay's arguments could be strengthened by presenting more substantial claims supported by evidence, particularly concerning public health systems and international collaboration.\\n5. **Improvement Areas**: The introduction and conclusion could be revised to reinforce the main thesis and suggest actionable steps for the future, enhancing the overall impact.\\n\\n**Overall Score: 7/10**\\n\\nThe score reflects the clear communication and structure of the essay while acknowledging the need for deeper analysis and evidence to create a more compelling argument.  Enhancing these areas would elevate the overall quality and engagement of the piece.\", additional_kwargs={'refusal': None}, response_metadata={'token_usage': {'completion_tokens': 410, 'prompt_tokens': 776, 'total_tokens': 1186, 'completion_tokens_details': {'accepted_prediction_tokens': 0, 'audio_tokens': 0, 'reasoning_tokens': 0, 'rejected_prediction_tokens': 0}, 'prompt_tokens_details': {'audio_tokens': 0, 'cached_tokens': 0}}, 'model_name': 'gpt-4o-mini-2024-07-18', 'system_fingerprint': 'fp_560af6e559', 'id': 'chatcmpl-CGzl6PoH4yjudJP8OEo1TWwKcNGRA', 'service_tier': 'default', 'finish_reason': 'stop', 'logprobs': None}, id='run--3fc4a7f3-23d8-4179-9393-c5d44f08739b-0', usage_metadata={'input_tokens': 776, 'output_tokens': 410, 'total_tokens': 1186, 'input_token_details': {'audio': 0, 'cache_read': 0}, 'output_token_details': {'audio': 0, 'reasoning': 0}}),\n",
       " 'individual_scores': [5, 7, 8],\n",
       " 'average_score': 6.666666666666667}"
      ]
     },
     "execution_count": 68,
     "metadata": {},
     "output_type": "execute_result"
    }
   ],
   "source": [
    "initial_state = {\n",
    "    \"essay\": essay\n",
    "}\n",
    "\n",
    "workflow.invoke(initial_state)\n"
   ]
  },
  {
   "cell_type": "code",
   "execution_count": null,
   "id": "c831be62",
   "metadata": {},
   "outputs": [],
   "source": []
  }
 ],
 "metadata": {
  "kernelspec": {
   "display_name": "venv (3.13.7)",
   "language": "python",
   "name": "python3"
  },
  "language_info": {
   "codemirror_mode": {
    "name": "ipython",
    "version": 3
   },
   "file_extension": ".py",
   "mimetype": "text/x-python",
   "name": "python",
   "nbconvert_exporter": "python",
   "pygments_lexer": "ipython3",
   "version": "3.13.7"
  }
 },
 "nbformat": 4,
 "nbformat_minor": 5
}

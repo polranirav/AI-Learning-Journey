{
 "cells": [
  {
   "cell_type": "code",
   "execution_count": 27,
   "id": "33e72545",
   "metadata": {},
   "outputs": [],
   "source": [
    "from langgraph.graph import StateGraph, START, END\n",
    "from typing import TypedDict"
   ]
  },
  {
   "cell_type": "code",
   "execution_count": 28,
   "id": "22033cc5",
   "metadata": {},
   "outputs": [],
   "source": [
    "class BatmanState(TypedDict):\n",
    "    \n",
    "    runs : int\n",
    "    balls : int\n",
    "    fours : int\n",
    "    sixes : int   \n",
    "    \n",
    "    strike_rate : float\n",
    "    boll_per_boundary : float\n",
    "    boundary_percentage : float\n",
    "    summary : str\n",
    "    \n",
    "    "
   ]
  },
  {
   "cell_type": "code",
   "execution_count": 29,
   "id": "48ab92a7",
   "metadata": {},
   "outputs": [],
   "source": [
    "def calculate_strike_rate(state: BatmanState) -> BatmanState:\n",
    "    \n",
    "    strike = (state['runs'] / state['balls']) * 100\n",
    "    return {'strike_rate': strike}"
   ]
  },
  {
   "cell_type": "code",
   "execution_count": 30,
   "id": "bb58da1d",
   "metadata": {},
   "outputs": [],
   "source": [
    "import re\n",
    "\n",
    "\n",
    "def calculate_boll_per_boundary(state: BatmanState) -> BatmanState:\n",
    "    \n",
    "    boll_per_boundary = state['balls'] / (state['fours'] + state['sixes'])\n",
    "    \n",
    "    return {'boll_per_boundary': boll_per_boundary}"
   ]
  },
  {
   "cell_type": "code",
   "execution_count": 31,
   "id": "38ea7a5c",
   "metadata": {},
   "outputs": [],
   "source": [
    "def calculate_boundary_percentage(state: BatmanState) -> BatmanState:\n",
    "\n",
    "    boundary_percentage = (((state['fours'] * 4) + (state['sixes'] * 6))/ state['runs']) * 100\n",
    "    \n",
    "    return {'boundary_percentage': boundary_percentage} "
   ]
  },
  {
   "cell_type": "code",
   "execution_count": 32,
   "id": "079e2ab9",
   "metadata": {},
   "outputs": [],
   "source": [
    "def summary(state: BatmanState) -> BatmanState:\n",
    "    \n",
    "    summary = (f\"Runs: {state['runs']}, Balls: {state['balls']}, Fours: {state['fours']}, Sixes: {state['sixes']}, \"\n",
    "                f\"Strike Rate: {state['strike_rate']:.2f}, Balls per Boundary: {state['boll_per_boundary']:.2f}, \"\n",
    "                f\"Boundary Percentage: {state['boundary_percentage']:.2f}%\")\n",
    "    return {'summary': summary}"
   ]
  },
  {
   "cell_type": "code",
   "execution_count": 33,
   "id": "2e913eba",
   "metadata": {},
   "outputs": [],
   "source": [
    "graph = StateGraph(BatmanState)\n",
    "\n",
    "graph.add_node('calculate_strike_rate', calculate_strike_rate)\n",
    "graph.add_node('calculate_boll_per_boundary', calculate_boll_per_boundary)\n",
    "graph.add_node('calculate_boundary_percentage', calculate_boundary_percentage)\n",
    "graph.add_node('summary', summary)\n",
    "\n",
    "\n",
    "graph.add_edge(START, 'calculate_strike_rate')\n",
    "graph.add_edge(START, 'calculate_boll_per_boundary')\n",
    "graph.add_edge(START, 'calculate_boundary_percentage')\n",
    "\n",
    "graph.add_edge('calculate_strike_rate', 'summary')\n",
    "graph.add_edge('calculate_boll_per_boundary', 'summary')\n",
    "graph.add_edge('calculate_boundary_percentage', 'summary')\n",
    "graph.add_edge('summary', END)\n",
    "\n",
    "workflow = graph.compile()"
   ]
  },
  {
   "cell_type": "code",
   "execution_count": 34,
   "id": "21ce8624",
   "metadata": {},
   "outputs": [
    {
     "data": {
      "image/png": "[encoded data removed]",
      "text/plain": [
       "<langgraph.graph.state.CompiledStateGraph object at 0x1228fe710>"
      ]
     },
     "execution_count": 34,
     "metadata": {},
     "output_type": "execute_result"
    }
   ],
   "source": [
    "workflow"
   ]
  },
  {
   "cell_type": "code",
   "execution_count": 36,
   "id": "04d06b5f",
   "metadata": {},
   "outputs": [],
   "source": [
    "initial_state: BatmanState = {\n",
    "    'runs': 86,\n",
    "    'balls': 65,\n",
    "    'fours': 8,\n",
    "    'sixes': 3,\n",
    "}\n"
   ]
  },
  {
   "cell_type": "code",
   "execution_count": 38,
   "id": "05df5d2d",
   "metadata": {},
   "outputs": [
    {
     "data": {
      "text/plain": [
       "{'runs': 86,\n",
       " 'balls': 65,\n",
       " 'fours': 8,\n",
       " 'sixes': 3,\n",
       " 'strike_rate': 132.3076923076923,\n",
       " 'boll_per_boundary': 5.909090909090909,\n",
       " 'boundary_percentage': 58.139534883720934,\n",
       " 'summary': 'Runs: 86, Balls: 65, Fours: 8, Sixes: 3, Strike Rate: 132.31, Balls per Boundary: 5.91, Boundary Percentage: 58.14%'}"
      ]
     },
     "execution_count": 38,
     "metadata": {},
     "output_type": "execute_result"
    }
   ],
   "source": [
    "final_state = workflow.invoke(initial_state)\n",
    "final_state"
   ]
  },
  {
   "cell_type": "code",
   "execution_count": null,
   "id": "7aa599eb",
   "metadata": {},
   "outputs": [],
   "source": []
  }
 ],
 "metadata": {
  "kernelspec": {
   "display_name": "venv (3.13.7)",
   "language": "python",
   "name": "python3"
  },
  "language_info": {
   "codemirror_mode": {
    "name": "ipython",
    "version": 3
   },
   "file_extension": ".py",
   "mimetype": "text/x-python",
   "name": "python",
   "nbconvert_exporter": "python",
   "pygments_lexer": "ipython3",
   "version": "3.13.7"
  }
 },
 "nbformat": 4,
 "nbformat_minor": 5
}

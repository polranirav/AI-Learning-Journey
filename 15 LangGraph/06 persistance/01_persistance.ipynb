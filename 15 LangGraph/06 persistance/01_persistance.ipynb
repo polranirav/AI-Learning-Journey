{
 "cells": [
  {
   "cell_type": "code",
   "execution_count": 2,
   "id": "b4b8009f",
   "metadata": {},
   "outputs": [],
   "source": [
    "from langgraph.graph import StateGraph, START, END\n",
    "from typing import TypedDict, Literal, Annotated\n",
    "from langchain_core.messages import BaseMessage, HumanMessage\n",
    "from langchain_openai import ChatOpenAI\n",
    "from dotenv import load_dotenv\n",
    "from langgraph.checkpoint.memory import InMemorySaver\n",
    "\n"
   ]
  },
  {
   "cell_type": "code",
   "execution_count": 3,
   "id": "1f0336c3",
   "metadata": {},
   "outputs": [],
   "source": [
    "load_dotenv()\n",
    "llm = ChatOpenAI()\n"
   ]
  },
  {
   "cell_type": "code",
   "execution_count": 7,
   "id": "4b663d89",
   "metadata": {},
   "outputs": [],
   "source": [
    "class jokestate(TypedDict):\n",
    "    \n",
    "    topic : str\n",
    "    joke: str\n",
    "    explanation: str\n",
    "    "
   ]
  },
  {
   "cell_type": "code",
   "execution_count": 8,
   "id": "17d2fc3a",
   "metadata": {},
   "outputs": [],
   "source": [
    "def generate_joke(state: jokestate) -> jokestate:\n",
    "\n",
    "    prompt = f\"generate joke on the {state['topic']}.\"\n",
    "    joke = llm.invoke(prompt).content\n",
    "    return {'joke': joke}"
   ]
  },
  {
   "cell_type": "code",
   "execution_count": 9,
   "id": "0fe819cc",
   "metadata": {},
   "outputs": [],
   "source": [
    "def generate_explanation(state: jokestate) -> jokestate:\n",
    "    prompt = f\"Explain the joke: {state['joke']}\"\n",
    "    explanation = llm.invoke(prompt).content\n",
    "    return {'explanation': explanation}"
   ]
  },
  {
   "cell_type": "code",
   "execution_count": 15,
   "id": "a02305c8",
   "metadata": {},
   "outputs": [],
   "source": [
    "graph = StateGraph(jokestate)\n",
    "\n",
    "graph.add_node('generate_joke', generate_joke)\n",
    "graph.add_node('generate_explanation', generate_explanation)\n",
    "\n",
    "\n",
    "graph.add_edge(START, 'generate_joke')\n",
    "graph.add_edge('generate_joke', 'generate_explanation')\n",
    "graph.add_edge('generate_explanation', END)\n",
    "\n",
    "checkpointer = InMemorySaver()\n",
    "\n",
    "workflow = graph.compile(checkpointer=checkpointer)\n"
   ]
  },
  {
   "cell_type": "code",
   "execution_count": 20,
   "id": "d719a115",
   "metadata": {},
   "outputs": [
    {
     "data": {
      "text/plain": [
       "{'topic': 'technology',\n",
       " 'joke': 'Why did the computer go to the doctor? Because it had a bad case of a virus!',\n",
       " 'explanation': 'This joke plays on the double meaning of the word \"virus.\" In the context of computers, a virus refers to malicious software that can infect and harm a computer system. By saying the computer had a \"bad case of a virus,\" it is suggesting that the computer is sick in a humorous way, as if it were a living being that could visit a doctor for treatment.'}"
      ]
     },
     "execution_count": 20,
     "metadata": {},
     "output_type": "execute_result"
    }
   ],
   "source": [
    "config1 = {'configurable': {\"thread_id\": \"1\"}}\n",
    "workflow.invoke({'topic': 'technology'}, config=config1)"
   ]
  },
  {
   "cell_type": "code",
   "execution_count": 21,
   "id": "7b1138fe",
   "metadata": {},
   "outputs": [
    {
     "data": {
      "text/plain": [
       "StateSnapshot(values={'topic': 'technology', 'joke': 'Why did the computer go to the doctor? Because it had a bad case of a virus!', 'explanation': 'This joke plays on the double meaning of the word \"virus.\" In the context of computers, a virus refers to malicious software that can infect and harm a computer system. By saying the computer had a \"bad case of a virus,\" it is suggesting that the computer is sick in a humorous way, as if it were a living being that could visit a doctor for treatment.'}, next=(), config={'configurable': {'thread_id': '1', 'checkpoint_ns': '', 'checkpoint_id': '1f094cfc-e5ff-66b6-8003-f65bf2c14390'}}, metadata={'source': 'loop', 'step': 3, 'parents': {}}, created_at='2025-09-18T20:41:09.002188+00:00', parent_config={'configurable': {'thread_id': '1', 'checkpoint_ns': '', 'checkpoint_id': '1f094cfc-d977-627c-8002-9427c5fc5e25'}}, tasks=(), interrupts=())"
      ]
     },
     "execution_count": 21,
     "metadata": {},
     "output_type": "execute_result"
    }
   ],
   "source": [
    "workflow.get_state(config=config1)"
   ]
  },
  {
   "cell_type": "code",
   "execution_count": 22,
   "id": "1a3680f3",
   "metadata": {},
   "outputs": [
    {
     "data": {
      "text/plain": [
       "[StateSnapshot(values={'topic': 'technology', 'joke': 'Why did the computer go to the doctor? Because it had a bad case of a virus!', 'explanation': 'This joke plays on the double meaning of the word \"virus.\" In the context of computers, a virus refers to malicious software that can infect and harm a computer system. By saying the computer had a \"bad case of a virus,\" it is suggesting that the computer is sick in a humorous way, as if it were a living being that could visit a doctor for treatment.'}, next=(), config={'configurable': {'thread_id': '1', 'checkpoint_ns': '', 'checkpoint_id': '1f094cfc-e5ff-66b6-8003-f65bf2c14390'}}, metadata={'source': 'loop', 'step': 3, 'parents': {}}, created_at='2025-09-18T20:41:09.002188+00:00', parent_config={'configurable': {'thread_id': '1', 'checkpoint_ns': '', 'checkpoint_id': '1f094cfc-d977-627c-8002-9427c5fc5e25'}}, tasks=(), interrupts=()),\n",
       " StateSnapshot(values={'topic': 'technology', 'joke': 'Why did the computer go to the doctor? Because it had a bad case of a virus!'}, next=('generate_explanation',), config={'configurable': {'thread_id': '1', 'checkpoint_ns': '', 'checkpoint_id': '1f094cfc-d977-627c-8002-9427c5fc5e25'}}, metadata={'source': 'loop', 'step': 2, 'parents': {}}, created_at='2025-09-18T20:41:07.688092+00:00', parent_config={'configurable': {'thread_id': '1', 'checkpoint_ns': '', 'checkpoint_id': '1f094cfc-ce92-65d2-8001-1d0615d4e071'}}, tasks=(PregelTask(id='393f531d-de42-1ca0-710a-c12e841d9405', name='generate_explanation', path=('__pregel_pull', 'generate_explanation'), error=None, interrupts=(), state=None, result={'explanation': 'This joke plays on the double meaning of the word \"virus.\" In the context of computers, a virus refers to malicious software that can infect and harm a computer system. By saying the computer had a \"bad case of a virus,\" it is suggesting that the computer is sick in a humorous way, as if it were a living being that could visit a doctor for treatment.'}),), interrupts=()),\n",
       " StateSnapshot(values={'topic': 'technology'}, next=('generate_joke',), config={'configurable': {'thread_id': '1', 'checkpoint_ns': '', 'checkpoint_id': '1f094cfc-ce92-65d2-8001-1d0615d4e071'}}, metadata={'source': 'loop', 'step': 1, 'parents': {}}, created_at='2025-09-18T20:41:06.545807+00:00', parent_config={'configurable': {'thread_id': '1', 'checkpoint_ns': '', 'checkpoint_id': '1f094cfc-ce90-6dc2-8000-47b236e479ae'}}, tasks=(PregelTask(id='a3a9d49c-433b-300e-2141-99dfd0736ef8', name='generate_joke', path=('__pregel_pull', 'generate_joke'), error=None, interrupts=(), state=None, result={'joke': 'Why did the computer go to the doctor? Because it had a bad case of a virus!'}),), interrupts=()),\n",
       " StateSnapshot(values={}, next=('__start__',), config={'configurable': {'thread_id': '1', 'checkpoint_ns': '', 'checkpoint_id': '1f094cfc-ce90-6dc2-8000-47b236e479ae'}}, metadata={'source': 'input', 'step': 0, 'parents': {}}, created_at='2025-09-18T20:41:06.545189+00:00', parent_config={'configurable': {'thread_id': '1', 'checkpoint_ns': '', 'checkpoint_id': '1f094cfb-cd22-61da-bfff-c38832637cab'}}, tasks=(PregelTask(id='a960b278-060a-950d-4859-cae99c6657c7', name='__start__', path=('__pregel_pull', '__start__'), error=None, interrupts=(), state=None, result={'topic': 'technology'}),), interrupts=()),\n",
       " StateSnapshot(values={}, next=('__start__',), config={'configurable': {'thread_id': '1', 'checkpoint_ns': '', 'checkpoint_id': '1f094cfb-cd22-61da-bfff-c38832637cab'}}, metadata={'source': 'input', 'step': -1, 'parents': {}}, created_at='2025-09-18T20:40:39.551421+00:00', parent_config=None, tasks=(PregelTask(id='c2ee347b-ee4b-1599-b94c-70422d6c8fa3', name='__start__', path=('__pregel_pull', '__start__'), error='InvalidUpdateError(\"Expected dict, got [{\\'topic\\': \\'technology\\'}]\\\\nFor troubleshooting, visit: https://python.langchain.com/docs/troubleshooting/errors/INVALID_GRAPH_NODE_RETURN_VALUE\")', interrupts=(), state=None, result=None),), interrupts=())]"
      ]
     },
     "execution_count": 22,
     "metadata": {},
     "output_type": "execute_result"
    }
   ],
   "source": [
    "list(workflow.get_state_history(config1))"
   ]
  },
  {
   "cell_type": "code",
   "execution_count": 23,
   "id": "1a13effa",
   "metadata": {},
   "outputs": [
    {
     "data": {
      "text/plain": [
       "{'topic': 'kasta',\n",
       " 'joke': 'Why did the kasta go to therapy? Because it was feeling a little emotionally unstable!',\n",
       " 'explanation': 'This joke is a play on words with the word \"kasta\" sounding similar to the word \"caste\" which refers to a social class or ranking in society. The joke suggests that the kasta went to therapy because it was feeling emotionally unstable due to its social status or position in society. This is a humorous way of pointing out the idea that even inanimate objects or concepts like social hierarchies can have emotions and may need therapy to cope with them.'}"
      ]
     },
     "execution_count": 23,
     "metadata": {},
     "output_type": "execute_result"
    }
   ],
   "source": [
    "config2 = {'configurable': {\"thread_id\": \"2\"}}\n",
    "workflow.invoke({'topic': 'kasta'}, config=config2)"
   ]
  },
  {
   "cell_type": "code",
   "execution_count": 24,
   "id": "8b06ec17",
   "metadata": {},
   "outputs": [
    {
     "data": {
      "text/plain": [
       "[StateSnapshot(values={'topic': 'kasta', 'joke': 'Why did the kasta go to therapy? Because it was feeling a little emotionally unstable!', 'explanation': 'This joke is a play on words with the word \"kasta\" sounding similar to the word \"caste\" which refers to a social class or ranking in society. The joke suggests that the kasta went to therapy because it was feeling emotionally unstable due to its social status or position in society. This is a humorous way of pointing out the idea that even inanimate objects or concepts like social hierarchies can have emotions and may need therapy to cope with them.'}, next=(), config={'configurable': {'thread_id': '2', 'checkpoint_ns': '', 'checkpoint_id': '1f094d11-f4b1-6910-8002-6e876a69f1b0'}}, metadata={'source': 'loop', 'step': 2, 'parents': {}}, created_at='2025-09-18T20:50:34.257602+00:00', parent_config={'configurable': {'thread_id': '2', 'checkpoint_ns': '', 'checkpoint_id': '1f094d11-e525-6bd6-8001-1d373ac73730'}}, tasks=(), interrupts=()),\n",
       " StateSnapshot(values={'topic': 'kasta', 'joke': 'Why did the kasta go to therapy? Because it was feeling a little emotionally unstable!'}, next=('generate_explanation',), config={'configurable': {'thread_id': '2', 'checkpoint_ns': '', 'checkpoint_id': '1f094d11-e525-6bd6-8001-1d373ac73730'}}, metadata={'source': 'loop', 'step': 1, 'parents': {}}, created_at='2025-09-18T20:50:32.627492+00:00', parent_config={'configurable': {'thread_id': '2', 'checkpoint_ns': '', 'checkpoint_id': '1f094d11-d68a-63ec-8000-8fb6d36ea0f9'}}, tasks=(PregelTask(id='8ca2d93c-704b-6d89-dc0e-bc516d459bcd', name='generate_explanation', path=('__pregel_pull', 'generate_explanation'), error=None, interrupts=(), state=None, result={'explanation': 'This joke is a play on words with the word \"kasta\" sounding similar to the word \"caste\" which refers to a social class or ranking in society. The joke suggests that the kasta went to therapy because it was feeling emotionally unstable due to its social status or position in society. This is a humorous way of pointing out the idea that even inanimate objects or concepts like social hierarchies can have emotions and may need therapy to cope with them.'}),), interrupts=()),\n",
       " StateSnapshot(values={'topic': 'kasta'}, next=('generate_joke',), config={'configurable': {'thread_id': '2', 'checkpoint_ns': '', 'checkpoint_id': '1f094d11-d68a-63ec-8000-8fb6d36ea0f9'}}, metadata={'source': 'loop', 'step': 0, 'parents': {}}, created_at='2025-09-18T20:50:31.095718+00:00', parent_config={'configurable': {'thread_id': '2', 'checkpoint_ns': '', 'checkpoint_id': '1f094d11-d67b-623e-bfff-4278bfe72615'}}, tasks=(PregelTask(id='4c844c3d-eecb-10d1-e97d-290287b336b6', name='generate_joke', path=('__pregel_pull', 'generate_joke'), error=None, interrupts=(), state=None, result={'joke': 'Why did the kasta go to therapy? Because it was feeling a little emotionally unstable!'}),), interrupts=()),\n",
       " StateSnapshot(values={}, next=('__start__',), config={'configurable': {'thread_id': '2', 'checkpoint_ns': '', 'checkpoint_id': '1f094d11-d67b-623e-bfff-4278bfe72615'}}, metadata={'source': 'input', 'step': -1, 'parents': {}}, created_at='2025-09-18T20:50:31.089574+00:00', parent_config=None, tasks=(PregelTask(id='3721b57e-d74f-70ad-7622-e2e0c6c90409', name='__start__', path=('__pregel_pull', '__start__'), error=None, interrupts=(), state=None, result={'topic': 'kasta'}),), interrupts=())]"
      ]
     },
     "execution_count": 24,
     "metadata": {},
     "output_type": "execute_result"
    }
   ],
   "source": [
    "list(workflow.get_state_history(config2))"
   ]
  },
  {
   "cell_type": "markdown",
   "id": "98749cbe",
   "metadata": {},
   "source": [
    "Time Travel"
   ]
  },
  {
   "cell_type": "code",
   "execution_count": 25,
   "id": "fd0314ef",
   "metadata": {},
   "outputs": [
    {
     "data": {
      "text/plain": [
       "StateSnapshot(values={'topic': 'technology'}, next=('generate_joke',), config={'configurable': {'thread_id': '1', 'checkpoint_id': '1f094cfc-ce92-65d2-8001-1d0615d4e071'}}, metadata={'source': 'loop', 'step': 1, 'parents': {}}, created_at='2025-09-18T20:41:06.545807+00:00', parent_config={'configurable': {'thread_id': '1', 'checkpoint_ns': '', 'checkpoint_id': '1f094cfc-ce90-6dc2-8000-47b236e479ae'}}, tasks=(PregelTask(id='a3a9d49c-433b-300e-2141-99dfd0736ef8', name='generate_joke', path=('__pregel_pull', 'generate_joke'), error=None, interrupts=(), state=None, result={'joke': 'Why did the computer go to the doctor? Because it had a bad case of a virus!'}),), interrupts=())"
      ]
     },
     "execution_count": 25,
     "metadata": {},
     "output_type": "execute_result"
    }
   ],
   "source": [
    "workflow.get_state({\"configurable\": {\"thread_id\": \"1\", \"checkpoint_id\": \"1f094cfc-ce92-65d2-8001-1d0615d4e071\"}})"
   ]
  },
  {
   "cell_type": "code",
   "execution_count": 26,
   "id": "af358b83",
   "metadata": {},
   "outputs": [
    {
     "data": {
      "text/plain": [
       "{'topic': 'technology',\n",
       " 'joke': 'Why was the computer cold?\\nBecause it left its Windows open!',\n",
       " 'explanation': 'This joke is based on a play on words. In reality, a computer cannot feel temperature, so it cannot actually be cold. However, the joke plays on the idea of a computer having \"Windows\" (referring to the operating system) open, which could let in cold air from the outside and make the computer feel cold. It is a humorous way to personify the computer and make a pun about the popular operating system.'}"
      ]
     },
     "execution_count": 26,
     "metadata": {},
     "output_type": "execute_result"
    }
   ],
   "source": [
    "workflow.invoke(None, {\"configurable\": {\"thread_id\": \"1\", \"checkpoint_id\": \"1f094cfc-ce92-65d2-8001-1d0615d4e071\"}})"
   ]
  },
  {
   "cell_type": "code",
   "execution_count": 27,
   "id": "5849682c",
   "metadata": {},
   "outputs": [
    {
     "data": {
      "text/plain": [
       "[StateSnapshot(values={'topic': 'technology', 'joke': 'Why was the computer cold?\\nBecause it left its Windows open!', 'explanation': 'This joke is based on a play on words. In reality, a computer cannot feel temperature, so it cannot actually be cold. However, the joke plays on the idea of a computer having \"Windows\" (referring to the operating system) open, which could let in cold air from the outside and make the computer feel cold. It is a humorous way to personify the computer and make a pun about the popular operating system.'}, next=(), config={'configurable': {'thread_id': '1', 'checkpoint_ns': '', 'checkpoint_id': '1f094d39-6c59-6a54-8003-42a88b32834a'}}, metadata={'source': 'loop', 'step': 3, 'parents': {}}, created_at='2025-09-18T21:08:13.702784+00:00', parent_config={'configurable': {'thread_id': '1', 'checkpoint_ns': '', 'checkpoint_id': '1f094d39-5e38-6592-8002-53b10fbe61f5'}}, tasks=(), interrupts=()),\n",
       " StateSnapshot(values={'topic': 'technology', 'joke': 'Why was the computer cold?\\nBecause it left its Windows open!'}, next=('generate_explanation',), config={'configurable': {'thread_id': '1', 'checkpoint_ns': '', 'checkpoint_id': '1f094d39-5e38-6592-8002-53b10fbe61f5'}}, metadata={'source': 'loop', 'step': 2, 'parents': {}}, created_at='2025-09-18T21:08:12.221127+00:00', parent_config={'configurable': {'thread_id': '1', 'checkpoint_ns': '', 'checkpoint_id': '1f094cfc-ce92-65d2-8001-1d0615d4e071'}}, tasks=(PregelTask(id='d5f69f36-388f-8548-5ed2-f2afaaa49c63', name='generate_explanation', path=('__pregel_pull', 'generate_explanation'), error=None, interrupts=(), state=None, result={'explanation': 'This joke is based on a play on words. In reality, a computer cannot feel temperature, so it cannot actually be cold. However, the joke plays on the idea of a computer having \"Windows\" (referring to the operating system) open, which could let in cold air from the outside and make the computer feel cold. It is a humorous way to personify the computer and make a pun about the popular operating system.'}),), interrupts=()),\n",
       " StateSnapshot(values={'topic': 'technology', 'joke': 'Why did the computer go to the doctor? Because it had a bad case of a virus!', 'explanation': 'This joke plays on the double meaning of the word \"virus.\" In the context of computers, a virus refers to malicious software that can infect and harm a computer system. By saying the computer had a \"bad case of a virus,\" it is suggesting that the computer is sick in a humorous way, as if it were a living being that could visit a doctor for treatment.'}, next=(), config={'configurable': {'thread_id': '1', 'checkpoint_ns': '', 'checkpoint_id': '1f094cfc-e5ff-66b6-8003-f65bf2c14390'}}, metadata={'source': 'loop', 'step': 3, 'parents': {}}, created_at='2025-09-18T20:41:09.002188+00:00', parent_config={'configurable': {'thread_id': '1', 'checkpoint_ns': '', 'checkpoint_id': '1f094cfc-d977-627c-8002-9427c5fc5e25'}}, tasks=(), interrupts=()),\n",
       " StateSnapshot(values={'topic': 'technology', 'joke': 'Why did the computer go to the doctor? Because it had a bad case of a virus!'}, next=('generate_explanation',), config={'configurable': {'thread_id': '1', 'checkpoint_ns': '', 'checkpoint_id': '1f094cfc-d977-627c-8002-9427c5fc5e25'}}, metadata={'source': 'loop', 'step': 2, 'parents': {}}, created_at='2025-09-18T20:41:07.688092+00:00', parent_config={'configurable': {'thread_id': '1', 'checkpoint_ns': '', 'checkpoint_id': '1f094cfc-ce92-65d2-8001-1d0615d4e071'}}, tasks=(PregelTask(id='393f531d-de42-1ca0-710a-c12e841d9405', name='generate_explanation', path=('__pregel_pull', 'generate_explanation'), error=None, interrupts=(), state=None, result={'explanation': 'This joke plays on the double meaning of the word \"virus.\" In the context of computers, a virus refers to malicious software that can infect and harm a computer system. By saying the computer had a \"bad case of a virus,\" it is suggesting that the computer is sick in a humorous way, as if it were a living being that could visit a doctor for treatment.'}),), interrupts=()),\n",
       " StateSnapshot(values={'topic': 'technology'}, next=('generate_joke',), config={'configurable': {'thread_id': '1', 'checkpoint_ns': '', 'checkpoint_id': '1f094cfc-ce92-65d2-8001-1d0615d4e071'}}, metadata={'source': 'loop', 'step': 1, 'parents': {}}, created_at='2025-09-18T20:41:06.545807+00:00', parent_config={'configurable': {'thread_id': '1', 'checkpoint_ns': '', 'checkpoint_id': '1f094cfc-ce90-6dc2-8000-47b236e479ae'}}, tasks=(PregelTask(id='a3a9d49c-433b-300e-2141-99dfd0736ef8', name='generate_joke', path=('__pregel_pull', 'generate_joke'), error=None, interrupts=(), state=None, result={'joke': 'Why did the computer go to the doctor? Because it had a bad case of a virus!'}),), interrupts=()),\n",
       " StateSnapshot(values={}, next=('__start__',), config={'configurable': {'thread_id': '1', 'checkpoint_ns': '', 'checkpoint_id': '1f094cfc-ce90-6dc2-8000-47b236e479ae'}}, metadata={'source': 'input', 'step': 0, 'parents': {}}, created_at='2025-09-18T20:41:06.545189+00:00', parent_config={'configurable': {'thread_id': '1', 'checkpoint_ns': '', 'checkpoint_id': '1f094cfb-cd22-61da-bfff-c38832637cab'}}, tasks=(PregelTask(id='a960b278-060a-950d-4859-cae99c6657c7', name='__start__', path=('__pregel_pull', '__start__'), error=None, interrupts=(), state=None, result={'topic': 'technology'}),), interrupts=()),\n",
       " StateSnapshot(values={}, next=('__start__',), config={'configurable': {'thread_id': '1', 'checkpoint_ns': '', 'checkpoint_id': '1f094cfb-cd22-61da-bfff-c38832637cab'}}, metadata={'source': 'input', 'step': -1, 'parents': {}}, created_at='2025-09-18T20:40:39.551421+00:00', parent_config=None, tasks=(PregelTask(id='c2ee347b-ee4b-1599-b94c-70422d6c8fa3', name='__start__', path=('__pregel_pull', '__start__'), error='InvalidUpdateError(\"Expected dict, got [{\\'topic\\': \\'technology\\'}]\\\\nFor troubleshooting, visit: https://python.langchain.com/docs/troubleshooting/errors/INVALID_GRAPH_NODE_RETURN_VALUE\")', interrupts=(), state=None, result=None),), interrupts=())]"
      ]
     },
     "execution_count": 27,
     "metadata": {},
     "output_type": "execute_result"
    }
   ],
   "source": [
    "list(workflow.get_state_history(config1))"
   ]
  },
  {
   "cell_type": "code",
   "execution_count": 28,
   "id": "b9bc7aa1",
   "metadata": {},
   "outputs": [
    {
     "data": {
      "text/plain": [
       "{'configurable': {'thread_id': '1',\n",
       "  'checkpoint_ns': '',\n",
       "  'checkpoint_id': '1f094d57-cf50-691e-8002-3e71ddee6210'}}"
      ]
     },
     "execution_count": 28,
     "metadata": {},
     "output_type": "execute_result"
    }
   ],
   "source": [
    "workflow.update_state({\"configurable\": {\"thread_id\": \"1\", \"checkpoint_id\": \"1f094cfc-ce92-65d2-8001-1d0615d4e071\", \"checkpoint_ns\": \"\"}}, {'topic':'samosa'})\n"
   ]
  },
  {
   "cell_type": "code",
   "execution_count": 29,
   "id": "9f29e561",
   "metadata": {},
   "outputs": [
    {
     "data": {
      "text/plain": [
       "[StateSnapshot(values={'topic': 'samosa'}, next=('generate_joke',), config={'configurable': {'thread_id': '1', 'checkpoint_ns': '', 'checkpoint_id': '1f094d57-cf50-691e-8002-3e71ddee6210'}}, metadata={'source': 'update', 'step': 2, 'parents': {}}, created_at='2025-09-18T21:21:49.386359+00:00', parent_config={'configurable': {'thread_id': '1', 'checkpoint_ns': '', 'checkpoint_id': '1f094cfc-ce92-65d2-8001-1d0615d4e071'}}, tasks=(PregelTask(id='a286b8fa-f940-d1df-bd66-be341b835e62', name='generate_joke', path=('__pregel_pull', 'generate_joke'), error=None, interrupts=(), state=None, result=None),), interrupts=()),\n",
       " StateSnapshot(values={'topic': 'technology', 'joke': 'Why was the computer cold?\\nBecause it left its Windows open!', 'explanation': 'This joke is based on a play on words. In reality, a computer cannot feel temperature, so it cannot actually be cold. However, the joke plays on the idea of a computer having \"Windows\" (referring to the operating system) open, which could let in cold air from the outside and make the computer feel cold. It is a humorous way to personify the computer and make a pun about the popular operating system.'}, next=(), config={'configurable': {'thread_id': '1', 'checkpoint_ns': '', 'checkpoint_id': '1f094d39-6c59-6a54-8003-42a88b32834a'}}, metadata={'source': 'loop', 'step': 3, 'parents': {}}, created_at='2025-09-18T21:08:13.702784+00:00', parent_config={'configurable': {'thread_id': '1', 'checkpoint_ns': '', 'checkpoint_id': '1f094d39-5e38-6592-8002-53b10fbe61f5'}}, tasks=(), interrupts=()),\n",
       " StateSnapshot(values={'topic': 'technology', 'joke': 'Why was the computer cold?\\nBecause it left its Windows open!'}, next=('generate_explanation',), config={'configurable': {'thread_id': '1', 'checkpoint_ns': '', 'checkpoint_id': '1f094d39-5e38-6592-8002-53b10fbe61f5'}}, metadata={'source': 'loop', 'step': 2, 'parents': {}}, created_at='2025-09-18T21:08:12.221127+00:00', parent_config={'configurable': {'thread_id': '1', 'checkpoint_ns': '', 'checkpoint_id': '1f094cfc-ce92-65d2-8001-1d0615d4e071'}}, tasks=(PregelTask(id='d5f69f36-388f-8548-5ed2-f2afaaa49c63', name='generate_explanation', path=('__pregel_pull', 'generate_explanation'), error=None, interrupts=(), state=None, result={'explanation': 'This joke is based on a play on words. In reality, a computer cannot feel temperature, so it cannot actually be cold. However, the joke plays on the idea of a computer having \"Windows\" (referring to the operating system) open, which could let in cold air from the outside and make the computer feel cold. It is a humorous way to personify the computer and make a pun about the popular operating system.'}),), interrupts=()),\n",
       " StateSnapshot(values={'topic': 'technology', 'joke': 'Why did the computer go to the doctor? Because it had a bad case of a virus!', 'explanation': 'This joke plays on the double meaning of the word \"virus.\" In the context of computers, a virus refers to malicious software that can infect and harm a computer system. By saying the computer had a \"bad case of a virus,\" it is suggesting that the computer is sick in a humorous way, as if it were a living being that could visit a doctor for treatment.'}, next=(), config={'configurable': {'thread_id': '1', 'checkpoint_ns': '', 'checkpoint_id': '1f094cfc-e5ff-66b6-8003-f65bf2c14390'}}, metadata={'source': 'loop', 'step': 3, 'parents': {}}, created_at='2025-09-18T20:41:09.002188+00:00', parent_config={'configurable': {'thread_id': '1', 'checkpoint_ns': '', 'checkpoint_id': '1f094cfc-d977-627c-8002-9427c5fc5e25'}}, tasks=(), interrupts=()),\n",
       " StateSnapshot(values={'topic': 'technology', 'joke': 'Why did the computer go to the doctor? Because it had a bad case of a virus!'}, next=('generate_explanation',), config={'configurable': {'thread_id': '1', 'checkpoint_ns': '', 'checkpoint_id': '1f094cfc-d977-627c-8002-9427c5fc5e25'}}, metadata={'source': 'loop', 'step': 2, 'parents': {}}, created_at='2025-09-18T20:41:07.688092+00:00', parent_config={'configurable': {'thread_id': '1', 'checkpoint_ns': '', 'checkpoint_id': '1f094cfc-ce92-65d2-8001-1d0615d4e071'}}, tasks=(PregelTask(id='393f531d-de42-1ca0-710a-c12e841d9405', name='generate_explanation', path=('__pregel_pull', 'generate_explanation'), error=None, interrupts=(), state=None, result={'explanation': 'This joke plays on the double meaning of the word \"virus.\" In the context of computers, a virus refers to malicious software that can infect and harm a computer system. By saying the computer had a \"bad case of a virus,\" it is suggesting that the computer is sick in a humorous way, as if it were a living being that could visit a doctor for treatment.'}),), interrupts=()),\n",
       " StateSnapshot(values={'topic': 'technology'}, next=('generate_joke',), config={'configurable': {'thread_id': '1', 'checkpoint_ns': '', 'checkpoint_id': '1f094cfc-ce92-65d2-8001-1d0615d4e071'}}, metadata={'source': 'loop', 'step': 1, 'parents': {}}, created_at='2025-09-18T20:41:06.545807+00:00', parent_config={'configurable': {'thread_id': '1', 'checkpoint_ns': '', 'checkpoint_id': '1f094cfc-ce90-6dc2-8000-47b236e479ae'}}, tasks=(PregelTask(id='a3a9d49c-433b-300e-2141-99dfd0736ef8', name='generate_joke', path=('__pregel_pull', 'generate_joke'), error=None, interrupts=(), state=None, result={'joke': 'Why did the computer go to the doctor? Because it had a bad case of a virus!'}),), interrupts=()),\n",
       " StateSnapshot(values={}, next=('__start__',), config={'configurable': {'thread_id': '1', 'checkpoint_ns': '', 'checkpoint_id': '1f094cfc-ce90-6dc2-8000-47b236e479ae'}}, metadata={'source': 'input', 'step': 0, 'parents': {}}, created_at='2025-09-18T20:41:06.545189+00:00', parent_config={'configurable': {'thread_id': '1', 'checkpoint_ns': '', 'checkpoint_id': '1f094cfb-cd22-61da-bfff-c38832637cab'}}, tasks=(PregelTask(id='a960b278-060a-950d-4859-cae99c6657c7', name='__start__', path=('__pregel_pull', '__start__'), error=None, interrupts=(), state=None, result={'topic': 'technology'}),), interrupts=()),\n",
       " StateSnapshot(values={}, next=('__start__',), config={'configurable': {'thread_id': '1', 'checkpoint_ns': '', 'checkpoint_id': '1f094cfb-cd22-61da-bfff-c38832637cab'}}, metadata={'source': 'input', 'step': -1, 'parents': {}}, created_at='2025-09-18T20:40:39.551421+00:00', parent_config=None, tasks=(PregelTask(id='c2ee347b-ee4b-1599-b94c-70422d6c8fa3', name='__start__', path=('__pregel_pull', '__start__'), error='InvalidUpdateError(\"Expected dict, got [{\\'topic\\': \\'technology\\'}]\\\\nFor troubleshooting, visit: https://python.langchain.com/docs/troubleshooting/errors/INVALID_GRAPH_NODE_RETURN_VALUE\")', interrupts=(), state=None, result=None),), interrupts=())]"
      ]
     },
     "execution_count": 29,
     "metadata": {},
     "output_type": "execute_result"
    }
   ],
   "source": [
    "list(workflow.get_state_history(config1))"
   ]
  },
  {
   "cell_type": "code",
   "execution_count": 30,
   "id": "81215fc9",
   "metadata": {},
   "outputs": [
    {
     "data": {
      "text/plain": [
       "{'topic': 'samosa',\n",
       " 'joke': 'Why did the samosa go to the doctor?\\nBecause it was feeling a little deep fried!',\n",
       " 'explanation': 'This joke plays on the idea of food being \"sick\" or in need of medical attention. The samosa, a fried pastry with savory fillings, is jokingly portrayed as feeling \"deep fried\" in a literal and humorous sense, prompting it to seek help from a doctor. Overall, the joke is a play on words and a lighthearted way to personify the samosa.'}"
      ]
     },
     "execution_count": 30,
     "metadata": {},
     "output_type": "execute_result"
    }
   ],
   "source": [
    "workflow.invoke(None, {\"configurable\": {\"thread_id\": \"1\", \"checkpoint_id\": \"1f094d57-cf50-691e-8002-3e71ddee6210\"}})"
   ]
  },
  {
   "cell_type": "code",
   "execution_count": 31,
   "id": "aaf0754d",
   "metadata": {},
   "outputs": [
    {
     "data": {
      "text/plain": [
       "[StateSnapshot(values={'topic': 'samosa', 'joke': 'Why did the samosa go to the doctor?\\nBecause it was feeling a little deep fried!', 'explanation': 'This joke plays on the idea of food being \"sick\" or in need of medical attention. The samosa, a fried pastry with savory fillings, is jokingly portrayed as feeling \"deep fried\" in a literal and humorous sense, prompting it to seek help from a doctor. Overall, the joke is a play on words and a lighthearted way to personify the samosa.'}, next=(), config={'configurable': {'thread_id': '1', 'checkpoint_ns': '', 'checkpoint_id': '1f094d59-9f9c-6f54-8004-c1b4804348df'}}, metadata={'source': 'loop', 'step': 4, 'parents': {}}, created_at='2025-09-18T21:22:38.071455+00:00', parent_config={'configurable': {'thread_id': '1', 'checkpoint_ns': '', 'checkpoint_id': '1f094d59-96b8-60fa-8003-f8877f890b84'}}, tasks=(), interrupts=()),\n",
       " StateSnapshot(values={'topic': 'samosa', 'joke': 'Why did the samosa go to the doctor?\\nBecause it was feeling a little deep fried!'}, next=('generate_explanation',), config={'configurable': {'thread_id': '1', 'checkpoint_ns': '', 'checkpoint_id': '1f094d59-96b8-60fa-8003-f8877f890b84'}}, metadata={'source': 'loop', 'step': 3, 'parents': {}}, created_at='2025-09-18T21:22:37.138956+00:00', parent_config={'configurable': {'thread_id': '1', 'checkpoint_ns': '', 'checkpoint_id': '1f094d57-cf50-691e-8002-3e71ddee6210'}}, tasks=(PregelTask(id='d0d28729-bd24-b064-a2b4-0341cd02bc16', name='generate_explanation', path=('__pregel_pull', 'generate_explanation'), error=None, interrupts=(), state=None, result={'explanation': 'This joke plays on the idea of food being \"sick\" or in need of medical attention. The samosa, a fried pastry with savory fillings, is jokingly portrayed as feeling \"deep fried\" in a literal and humorous sense, prompting it to seek help from a doctor. Overall, the joke is a play on words and a lighthearted way to personify the samosa.'}),), interrupts=()),\n",
       " StateSnapshot(values={'topic': 'samosa'}, next=('generate_joke',), config={'configurable': {'thread_id': '1', 'checkpoint_ns': '', 'checkpoint_id': '1f094d57-cf50-691e-8002-3e71ddee6210'}}, metadata={'source': 'update', 'step': 2, 'parents': {}}, created_at='2025-09-18T21:21:49.386359+00:00', parent_config={'configurable': {'thread_id': '1', 'checkpoint_ns': '', 'checkpoint_id': '1f094cfc-ce92-65d2-8001-1d0615d4e071'}}, tasks=(PregelTask(id='a286b8fa-f940-d1df-bd66-be341b835e62', name='generate_joke', path=('__pregel_pull', 'generate_joke'), error=None, interrupts=(), state=None, result={'joke': 'Why did the samosa go to the doctor?\\nBecause it was feeling a little deep fried!'}),), interrupts=()),\n",
       " StateSnapshot(values={'topic': 'technology', 'joke': 'Why was the computer cold?\\nBecause it left its Windows open!', 'explanation': 'This joke is based on a play on words. In reality, a computer cannot feel temperature, so it cannot actually be cold. However, the joke plays on the idea of a computer having \"Windows\" (referring to the operating system) open, which could let in cold air from the outside and make the computer feel cold. It is a humorous way to personify the computer and make a pun about the popular operating system.'}, next=(), config={'configurable': {'thread_id': '1', 'checkpoint_ns': '', 'checkpoint_id': '1f094d39-6c59-6a54-8003-42a88b32834a'}}, metadata={'source': 'loop', 'step': 3, 'parents': {}}, created_at='2025-09-18T21:08:13.702784+00:00', parent_config={'configurable': {'thread_id': '1', 'checkpoint_ns': '', 'checkpoint_id': '1f094d39-5e38-6592-8002-53b10fbe61f5'}}, tasks=(), interrupts=()),\n",
       " StateSnapshot(values={'topic': 'technology', 'joke': 'Why was the computer cold?\\nBecause it left its Windows open!'}, next=('generate_explanation',), config={'configurable': {'thread_id': '1', 'checkpoint_ns': '', 'checkpoint_id': '1f094d39-5e38-6592-8002-53b10fbe61f5'}}, metadata={'source': 'loop', 'step': 2, 'parents': {}}, created_at='2025-09-18T21:08:12.221127+00:00', parent_config={'configurable': {'thread_id': '1', 'checkpoint_ns': '', 'checkpoint_id': '1f094cfc-ce92-65d2-8001-1d0615d4e071'}}, tasks=(PregelTask(id='d5f69f36-388f-8548-5ed2-f2afaaa49c63', name='generate_explanation', path=('__pregel_pull', 'generate_explanation'), error=None, interrupts=(), state=None, result={'explanation': 'This joke is based on a play on words. In reality, a computer cannot feel temperature, so it cannot actually be cold. However, the joke plays on the idea of a computer having \"Windows\" (referring to the operating system) open, which could let in cold air from the outside and make the computer feel cold. It is a humorous way to personify the computer and make a pun about the popular operating system.'}),), interrupts=()),\n",
       " StateSnapshot(values={'topic': 'technology', 'joke': 'Why did the computer go to the doctor? Because it had a bad case of a virus!', 'explanation': 'This joke plays on the double meaning of the word \"virus.\" In the context of computers, a virus refers to malicious software that can infect and harm a computer system. By saying the computer had a \"bad case of a virus,\" it is suggesting that the computer is sick in a humorous way, as if it were a living being that could visit a doctor for treatment.'}, next=(), config={'configurable': {'thread_id': '1', 'checkpoint_ns': '', 'checkpoint_id': '1f094cfc-e5ff-66b6-8003-f65bf2c14390'}}, metadata={'source': 'loop', 'step': 3, 'parents': {}}, created_at='2025-09-18T20:41:09.002188+00:00', parent_config={'configurable': {'thread_id': '1', 'checkpoint_ns': '', 'checkpoint_id': '1f094cfc-d977-627c-8002-9427c5fc5e25'}}, tasks=(), interrupts=()),\n",
       " StateSnapshot(values={'topic': 'technology', 'joke': 'Why did the computer go to the doctor? Because it had a bad case of a virus!'}, next=('generate_explanation',), config={'configurable': {'thread_id': '1', 'checkpoint_ns': '', 'checkpoint_id': '1f094cfc-d977-627c-8002-9427c5fc5e25'}}, metadata={'source': 'loop', 'step': 2, 'parents': {}}, created_at='2025-09-18T20:41:07.688092+00:00', parent_config={'configurable': {'thread_id': '1', 'checkpoint_ns': '', 'checkpoint_id': '1f094cfc-ce92-65d2-8001-1d0615d4e071'}}, tasks=(PregelTask(id='393f531d-de42-1ca0-710a-c12e841d9405', name='generate_explanation', path=('__pregel_pull', 'generate_explanation'), error=None, interrupts=(), state=None, result={'explanation': 'This joke plays on the double meaning of the word \"virus.\" In the context of computers, a virus refers to malicious software that can infect and harm a computer system. By saying the computer had a \"bad case of a virus,\" it is suggesting that the computer is sick in a humorous way, as if it were a living being that could visit a doctor for treatment.'}),), interrupts=()),\n",
       " StateSnapshot(values={'topic': 'technology'}, next=('generate_joke',), config={'configurable': {'thread_id': '1', 'checkpoint_ns': '', 'checkpoint_id': '1f094cfc-ce92-65d2-8001-1d0615d4e071'}}, metadata={'source': 'loop', 'step': 1, 'parents': {}}, created_at='2025-09-18T20:41:06.545807+00:00', parent_config={'configurable': {'thread_id': '1', 'checkpoint_ns': '', 'checkpoint_id': '1f094cfc-ce90-6dc2-8000-47b236e479ae'}}, tasks=(PregelTask(id='a3a9d49c-433b-300e-2141-99dfd0736ef8', name='generate_joke', path=('__pregel_pull', 'generate_joke'), error=None, interrupts=(), state=None, result={'joke': 'Why did the computer go to the doctor? Because it had a bad case of a virus!'}),), interrupts=()),\n",
       " StateSnapshot(values={}, next=('__start__',), config={'configurable': {'thread_id': '1', 'checkpoint_ns': '', 'checkpoint_id': '1f094cfc-ce90-6dc2-8000-47b236e479ae'}}, metadata={'source': 'input', 'step': 0, 'parents': {}}, created_at='2025-09-18T20:41:06.545189+00:00', parent_config={'configurable': {'thread_id': '1', 'checkpoint_ns': '', 'checkpoint_id': '1f094cfb-cd22-61da-bfff-c38832637cab'}}, tasks=(PregelTask(id='a960b278-060a-950d-4859-cae99c6657c7', name='__start__', path=('__pregel_pull', '__start__'), error=None, interrupts=(), state=None, result={'topic': 'technology'}),), interrupts=()),\n",
       " StateSnapshot(values={}, next=('__start__',), config={'configurable': {'thread_id': '1', 'checkpoint_ns': '', 'checkpoint_id': '1f094cfb-cd22-61da-bfff-c38832637cab'}}, metadata={'source': 'input', 'step': -1, 'parents': {}}, created_at='2025-09-18T20:40:39.551421+00:00', parent_config=None, tasks=(PregelTask(id='c2ee347b-ee4b-1599-b94c-70422d6c8fa3', name='__start__', path=('__pregel_pull', '__start__'), error='InvalidUpdateError(\"Expected dict, got [{\\'topic\\': \\'technology\\'}]\\\\nFor troubleshooting, visit: https://python.langchain.com/docs/troubleshooting/errors/INVALID_GRAPH_NODE_RETURN_VALUE\")', interrupts=(), state=None, result=None),), interrupts=())]"
      ]
     },
     "execution_count": 31,
     "metadata": {},
     "output_type": "execute_result"
    }
   ],
   "source": [
    "list(workflow.get_state_history(config1))"
   ]
  },
  {
   "cell_type": "code",
   "execution_count": null,
   "id": "e3dd2a4c",
   "metadata": {},
   "outputs": [],
   "source": []
  }
 ],
 "metadata": {
  "kernelspec": {
   "display_name": "venv (3.13.7)",
   "language": "python",
   "name": "python3"
  },
  "language_info": {
   "codemirror_mode": {
    "name": "ipython",
    "version": 3
   },
   "file_extension": ".py",
   "mimetype": "text/x-python",
   "name": "python",
   "nbconvert_exporter": "python",
   "pygments_lexer": "ipython3",
   "version": "3.13.7"
  }
 },
 "nbformat": 4,
 "nbformat_minor": 5
}

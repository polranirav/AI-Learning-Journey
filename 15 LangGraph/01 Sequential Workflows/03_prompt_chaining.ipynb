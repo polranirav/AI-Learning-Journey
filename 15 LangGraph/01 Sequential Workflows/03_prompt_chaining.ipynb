{
 "cells": [
  {
   "cell_type": "code",
   "execution_count": 1,
   "id": "4c905fe5",
   "metadata": {},
   "outputs": [
    {
     "name": "stderr",
     "output_type": "stream",
     "text": [
      "/Users/niravpolara/PycharmProjects/AI-Learning-Journey/venv/lib/python3.13/site-packages/tqdm/auto.py:21: TqdmWarning: IProgress not found. Please update jupyter and ipywidgets. See https://ipywidgets.readthedocs.io/en/stable/user_install.html\n",
      "  from .autonotebook import tqdm as notebook_tqdm\n"
     ]
    }
   ],
   "source": [
    "from langgraph.graph import StateGraph, START, END\n",
    "from typing import TypedDict\n",
    "from langchain_openai import ChatOpenAI\n",
    "from dotenv import load_dotenv"
   ]
  },
  {
   "cell_type": "code",
   "execution_count": 2,
   "id": "5ac7cbbd",
   "metadata": {},
   "outputs": [],
   "source": [
    "load_dotenv()\n",
    "model = ChatOpenAI()"
   ]
  },
  {
   "cell_type": "code",
   "execution_count": 3,
   "id": "1e6f47a1",
   "metadata": {},
   "outputs": [],
   "source": [
    "class blogsState(TypedDict):\n",
    "\n",
    "    title: str\n",
    "    outline: str\n",
    "    content: str"
   ]
  },
  {
   "cell_type": "code",
   "execution_count": 4,
   "id": "75e6eb54",
   "metadata": {},
   "outputs": [],
   "source": [
    "def create_outline(state: blogsState) -> blogsState:\n",
    "    \n",
    "    #fatch the title from the state\n",
    "    title = state['title']\n",
    "    \n",
    "    #call the model to create an outline\n",
    "    prompt = f\"Create a detailed outline for a blog post titled '{title}'\"\n",
    "    outline = model.invoke(prompt).content\n",
    "    \n",
    "    #update the state with the outline\n",
    "    state['outline'] = outline\n",
    "    return state"
   ]
  },
  {
   "cell_type": "code",
   "execution_count": 6,
   "id": "f17cc7ea",
   "metadata": {},
   "outputs": [],
   "source": [
    "def create_blog(state: blogsState) -> blogsState:\n",
    "    \n",
    "    #fatch the title and outline from the state\n",
    "    title = state['title']\n",
    "    outline = state['outline']\n",
    "    \n",
    "    #call the model to create a blog post\n",
    "    prompt = f\"Write a detailed blog post based on the following title and outline.\\n\\nTitle: {title}\\n\\nOutline: {outline}\"\n",
    "    content = model.invoke(prompt).content\n",
    "    \n",
    "    #update the state with the content\n",
    "    state['content'] = content\n",
    "    return state"
   ]
  },
  {
   "cell_type": "code",
   "execution_count": 7,
   "id": "b2d2ebec",
   "metadata": {},
   "outputs": [],
   "source": [
    "graph = StateGraph(blogsState)\n",
    "\n",
    "graph.add_node('create_outline', create_outline)\n",
    "graph.add_node('create_blog', create_blog)\n",
    "\n",
    "graph.add_edge(START, 'create_outline')\n",
    "graph.add_edge('create_outline', 'create_blog')\n",
    "graph.add_edge('create_blog', END)\n",
    "\n",
    "workflow = graph.compile()  # Compiles the graph into an executable workflow\n"
   ]
  },
  {
   "cell_type": "code",
   "execution_count": 8,
   "id": "331c3ced",
   "metadata": {},
   "outputs": [
    {
     "name": "stdout",
     "output_type": "stream",
     "text": [
      "{'title': 'The Future of AI in Healthcare', 'outline': 'I. Introduction\\nA. Introduce the topic and the growing role of AI in healthcare\\nB. Provide a brief overview of AI technology and its potential impact on the healthcare industry\\n\\nII. Current Applications of AI in Healthcare\\nA. Discuss the current use of AI in areas such as medical imaging, predictive analytics, and virtual health assistants\\nB. Provide examples of AI technologies currently being used in healthcare settings\\nC. Highlight the benefits of AI in improving patient outcomes and healthcare delivery\\n\\nIII. Future Trends in AI Healthcare Technology\\nA. Discuss the potential future applications of AI in healthcare, such as personalized medicine, drug discovery, and genomics\\nB. Explore the use of AI in optimizing hospital operations, reducing administrative burdens, and streamlining healthcare workflows\\nC. Address potential challenges and ethical considerations associated with the widespread adoption of AI in healthcare\\n\\nIV. The Impact of AI on Healthcare Professionals\\nA. Discuss how AI technology is changing the roles and responsibilities of healthcare professionals\\nB. Highlight the importance of physician education and training in AI technology\\nC. Address concerns surrounding job displacement and workforce changes due to AI integration in healthcare\\n\\nV. Regulatory and Ethical Considerations\\nA. Discuss the importance of regulations and guidelines in governing the use of AI in healthcare\\nB. Address ethical considerations such as patient data privacy, algorithm bias, and the potential for AI to exacerbate healthcare disparities\\nC. Highlight the need for transparency and accountability in AI-driven healthcare decision-making\\n\\nVI. Conclusion\\nA. Summarize key points on the future of AI in healthcare\\nB. Offer insights on the potential benefits and challenges of integrating AI technologies into the healthcare system\\nC. Provide recommendations for healthcare professionals, policymakers, and technology developers to ensure the responsible and ethical use of AI in the healthcare industry.', 'content': 'The Future of AI in Healthcare\\n\\nIntroduction\\n\\nAs technology continues to advance, the use of artificial intelligence (AI) in healthcare is becoming increasingly prevalent. AI has the potential to revolutionize the healthcare industry by improving patient outcomes, increasing efficiency, and transforming the way healthcare is delivered. In this blog post, we will explore the current applications of AI in healthcare, discuss future trends in AI technology, examine the impact of AI on healthcare professionals, and address regulatory and ethical considerations associated with the use of AI in healthcare.\\n\\nCurrent Applications of AI in Healthcare\\n\\nAI is currently being used in a variety of ways in healthcare settings. Medical imaging, predictive analytics, and virtual health assistants are just a few examples of how AI is being incorporated into different aspects of healthcare. For example, AI algorithms can analyze medical images to detect abnormalities and assist in diagnosing diseases such as cancer. Virtual health assistants powered by AI technology can provide patients with information about their health conditions, answer questions, and schedule appointments. The benefits of AI in healthcare are vast, including improving diagnostic accuracy, optimizing treatment plans, and enhancing patient engagement.\\n\\nFuture Trends in AI Healthcare Technology\\n\\nThe future of AI in healthcare holds even more promise. AI has the potential to revolutionize personalized medicine, drug discovery, and genomics by analyzing vast amounts of data to tailor treatments to individual patients. AI can also optimize hospital operations by automating administrative tasks, reducing paperwork, and streamlining healthcare workflows. However, challenges such as data privacy, algorithm bias, and potential healthcare disparities must be addressed as AI becomes more integrated into the healthcare system.\\n\\nThe Impact of AI on Healthcare Professionals\\n\\nAs AI technology continues to advance, the roles and responsibilities of healthcare professionals are being reshaped. Healthcare professionals must be educated and trained in AI technology to effectively integrate it into their practice. Concerns surrounding job displacement and workforce changes due to AI integration must also be addressed to ensure a smooth transition to a more technology-driven healthcare system.\\n\\nRegulatory and Ethical Considerations\\n\\nRegulations and guidelines are crucial in governing the use of AI in healthcare to protect patient data privacy and ensure the ethical use of AI technology. Ethical considerations such as algorithm bias and the potential for AI to exacerbate healthcare disparities must be addressed to ensure that AI-driven healthcare decision-making is fair and unbiased. Transparency and accountability are key principles that must be integrated into the development and use of AI technologies in healthcare.\\n\\nConclusion\\n\\nThe future of AI in healthcare is bright, with the potential to improve patient outcomes, increase efficiency, and transform the way healthcare is delivered. However, challenges such as data privacy, algorithm bias, and workforce changes must be addressed to ensure the responsible and ethical use of AI in the healthcare industry. Healthcare professionals, policymakers, and technology developers must work together to navigate these challenges and ensure that AI technology is integrated into the healthcare system in a way that benefits patients and healthcare professionals alike.'}\n"
     ]
    }
   ],
   "source": [
    "intial_state = {\"title\": \"The Future of AI in Healthcare\"}\n",
    "final_state = workflow.invoke(intial_state)    \n",
    "print(final_state)  # Output will include the generated blog content"
   ]
  },
  {
   "cell_type": "code",
   "execution_count": 9,
   "id": "8e4da19e",
   "metadata": {},
   "outputs": [
    {
     "name": "stdout",
     "output_type": "stream",
     "text": [
      "The Future of AI in Healthcare\n",
      "\n",
      "Introduction\n",
      "\n",
      "As technology continues to advance, the use of artificial intelligence (AI) in healthcare is becoming increasingly prevalent. AI has the potential to revolutionize the healthcare industry by improving patient outcomes, increasing efficiency, and transforming the way healthcare is delivered. In this blog post, we will explore the current applications of AI in healthcare, discuss future trends in AI technology, examine the impact of AI on healthcare professionals, and address regulatory and ethical considerations associated with the use of AI in healthcare.\n",
      "\n",
      "Current Applications of AI in Healthcare\n",
      "\n",
      "AI is currently being used in a variety of ways in healthcare settings. Medical imaging, predictive analytics, and virtual health assistants are just a few examples of how AI is being incorporated into different aspects of healthcare. For example, AI algorithms can analyze medical images to detect abnormalities and assist in diagnosing diseases such as cancer. Virtual health assistants powered by AI technology can provide patients with information about their health conditions, answer questions, and schedule appointments. The benefits of AI in healthcare are vast, including improving diagnostic accuracy, optimizing treatment plans, and enhancing patient engagement.\n",
      "\n",
      "Future Trends in AI Healthcare Technology\n",
      "\n",
      "The future of AI in healthcare holds even more promise. AI has the potential to revolutionize personalized medicine, drug discovery, and genomics by analyzing vast amounts of data to tailor treatments to individual patients. AI can also optimize hospital operations by automating administrative tasks, reducing paperwork, and streamlining healthcare workflows. However, challenges such as data privacy, algorithm bias, and potential healthcare disparities must be addressed as AI becomes more integrated into the healthcare system.\n",
      "\n",
      "The Impact of AI on Healthcare Professionals\n",
      "\n",
      "As AI technology continues to advance, the roles and responsibilities of healthcare professionals are being reshaped. Healthcare professionals must be educated and trained in AI technology to effectively integrate it into their practice. Concerns surrounding job displacement and workforce changes due to AI integration must also be addressed to ensure a smooth transition to a more technology-driven healthcare system.\n",
      "\n",
      "Regulatory and Ethical Considerations\n",
      "\n",
      "Regulations and guidelines are crucial in governing the use of AI in healthcare to protect patient data privacy and ensure the ethical use of AI technology. Ethical considerations such as algorithm bias and the potential for AI to exacerbate healthcare disparities must be addressed to ensure that AI-driven healthcare decision-making is fair and unbiased. Transparency and accountability are key principles that must be integrated into the development and use of AI technologies in healthcare.\n",
      "\n",
      "Conclusion\n",
      "\n",
      "The future of AI in healthcare is bright, with the potential to improve patient outcomes, increase efficiency, and transform the way healthcare is delivered. However, challenges such as data privacy, algorithm bias, and workforce changes must be addressed to ensure the responsible and ethical use of AI in the healthcare industry. Healthcare professionals, policymakers, and technology developers must work together to navigate these challenges and ensure that AI technology is integrated into the healthcare system in a way that benefits patients and healthcare professionals alike.\n"
     ]
    }
   ],
   "source": [
    "print(final_state['content'])  # Output will include the generated blog content"
   ]
  },
  {
   "cell_type": "code",
   "execution_count": 10,
   "id": "a06b7414",
   "metadata": {},
   "outputs": [
    {
     "name": "stdout",
     "output_type": "stream",
     "text": [
      "I. Introduction\n",
      "A. Introduce the topic and the growing role of AI in healthcare\n",
      "B. Provide a brief overview of AI technology and its potential impact on the healthcare industry\n",
      "\n",
      "II. Current Applications of AI in Healthcare\n",
      "A. Discuss the current use of AI in areas such as medical imaging, predictive analytics, and virtual health assistants\n",
      "B. Provide examples of AI technologies currently being used in healthcare settings\n",
      "C. Highlight the benefits of AI in improving patient outcomes and healthcare delivery\n",
      "\n",
      "III. Future Trends in AI Healthcare Technology\n",
      "A. Discuss the potential future applications of AI in healthcare, such as personalized medicine, drug discovery, and genomics\n",
      "B. Explore the use of AI in optimizing hospital operations, reducing administrative burdens, and streamlining healthcare workflows\n",
      "C. Address potential challenges and ethical considerations associated with the widespread adoption of AI in healthcare\n",
      "\n",
      "IV. The Impact of AI on Healthcare Professionals\n",
      "A. Discuss how AI technology is changing the roles and responsibilities of healthcare professionals\n",
      "B. Highlight the importance of physician education and training in AI technology\n",
      "C. Address concerns surrounding job displacement and workforce changes due to AI integration in healthcare\n",
      "\n",
      "V. Regulatory and Ethical Considerations\n",
      "A. Discuss the importance of regulations and guidelines in governing the use of AI in healthcare\n",
      "B. Address ethical considerations such as patient data privacy, algorithm bias, and the potential for AI to exacerbate healthcare disparities\n",
      "C. Highlight the need for transparency and accountability in AI-driven healthcare decision-making\n",
      "\n",
      "VI. Conclusion\n",
      "A. Summarize key points on the future of AI in healthcare\n",
      "B. Offer insights on the potential benefits and challenges of integrating AI technologies into the healthcare system\n",
      "C. Provide recommendations for healthcare professionals, policymakers, and technology developers to ensure the responsible and ethical use of AI in the healthcare industry.\n"
     ]
    }
   ],
   "source": [
    "print(final_state['outline'])  # Output will include the generated blog content"
   ]
  },
  {
   "cell_type": "code",
   "execution_count": null,
   "id": "aa1eda7e",
   "metadata": {},
   "outputs": [],
   "source": []
  }
 ],
 "metadata": {
  "kernelspec": {
   "display_name": "venv (3.13.7)",
   "language": "python",
   "name": "python3"
  },
  "language_info": {
   "codemirror_mode": {
    "name": "ipython",
    "version": 3
   },
   "file_extension": ".py",
   "mimetype": "text/x-python",
   "name": "python",
   "nbconvert_exporter": "python",
   "pygments_lexer": "ipython3",
   "version": "3.13.7"
  }
 },
 "nbformat": 4,
 "nbformat_minor": 5
}

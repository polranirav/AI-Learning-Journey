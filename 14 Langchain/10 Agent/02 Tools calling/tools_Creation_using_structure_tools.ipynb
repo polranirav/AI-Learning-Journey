{
  "nbformat": 4,
  "nbformat_minor": 0,
  "metadata": {
    "colab": {
      "provenance": []
    },
    "kernelspec": {
      "name": "python3",
      "display_name": "Python 3"
    },
    "language_info": {
      "name": "python"
    }
  },
  "cells": [
    {
      "cell_type": "code",
      "execution_count": 8,
      "metadata": {
        "id": "H1nZ68vA8Uvh"
      },
      "outputs": [],
      "source": [
        "import os\n",
        "os.environ[\"OPENAI_API_KEY\"] = \"sk-proj-sds-j1lbPsoQT3bBiANjizMJH995OtfybS6Unih6v91_MA\""
      ]
    },
    {
      "cell_type": "code",
      "source": [
        "!pip install -q langchain-openai langchain-core requests"
      ],
      "metadata": {
        "id": "pTU2rPGh81oD"
      },
      "execution_count": 9,
      "outputs": []
    },
    {
      "cell_type": "code",
      "source": [
        "from langchain_openai import ChatOpenAI\n",
        "from langchain_core.tools import tool\n",
        "from langchain_core.messages import HumanMessage\n",
        "import requests"
      ],
      "metadata": {
        "id": "1uB6SPnnPK15"
      },
      "execution_count": 7,
      "outputs": []
    },
    {
      "cell_type": "code",
      "source": [
        "#tool create\n",
        "\n",
        "@tool\n",
        "def multiplication(a: int, b: int) -> int:\n",
        "    \"\"\"Multiply two integers\"\"\"\n",
        "    return a * b\n"
      ],
      "metadata": {
        "id": "59QN512RPNDX"
      },
      "execution_count": 10,
      "outputs": []
    },
    {
      "cell_type": "code",
      "source": [
        "print(multiplication.invoke({\"a\": 2, \"b\": 3}))"
      ],
      "metadata": {
        "colab": {
          "base_uri": "https://localhost:8080/"
        },
        "id": "E77TSPQpPkhf",
        "outputId": "9e2f5753-0407-432b-fc9c-65c7678a434d"
      },
      "execution_count": 11,
      "outputs": [
        {
          "output_type": "stream",
          "name": "stdout",
          "text": [
            "6\n"
          ]
        }
      ]
    },
    {
      "cell_type": "code",
      "source": [
        "multiplication.name"
      ],
      "metadata": {
        "colab": {
          "base_uri": "https://localhost:8080/",
          "height": 35
        },
        "id": "Ls9vlvF0PpZO",
        "outputId": "a1e4b27c-8240-41f0-e207-cfee900dc6a4"
      },
      "execution_count": 12,
      "outputs": [
        {
          "output_type": "execute_result",
          "data": {
            "text/plain": [
              "'multiplication'"
            ],
            "application/vnd.google.colaboratory.intrinsic+json": {
              "type": "string"
            }
          },
          "metadata": {},
          "execution_count": 12
        }
      ]
    },
    {
      "cell_type": "code",
      "source": [
        "multiplication.description"
      ],
      "metadata": {
        "colab": {
          "base_uri": "https://localhost:8080/",
          "height": 35
        },
        "id": "P0b4ybBJPuC3",
        "outputId": "03722f9d-23f4-436d-f425-74fd0f10dddd"
      },
      "execution_count": 13,
      "outputs": [
        {
          "output_type": "execute_result",
          "data": {
            "text/plain": [
              "'Multiply two integers'"
            ],
            "application/vnd.google.colaboratory.intrinsic+json": {
              "type": "string"
            }
          },
          "metadata": {},
          "execution_count": 13
        }
      ]
    },
    {
      "cell_type": "code",
      "source": [
        "multiplication.args"
      ],
      "metadata": {
        "colab": {
          "base_uri": "https://localhost:8080/"
        },
        "id": "4R72KipYPxF6",
        "outputId": "8d77fe4b-cbd0-4bd1-f3cd-f055aa2b6b96"
      },
      "execution_count": 14,
      "outputs": [
        {
          "output_type": "execute_result",
          "data": {
            "text/plain": [
              "{'a': {'title': 'A', 'type': 'integer'},\n",
              " 'b': {'title': 'B', 'type': 'integer'}}"
            ]
          },
          "metadata": {},
          "execution_count": 14
        }
      ]
    },
    {
      "cell_type": "code",
      "source": [
        "llm = ChatOpenAI()"
      ],
      "metadata": {
        "id": "0ec5INCbPzTC"
      },
      "execution_count": 15,
      "outputs": []
    },
    {
      "cell_type": "code",
      "source": [
        "llm_with_tools = llm.bind_tools([multiplication])"
      ],
      "metadata": {
        "id": "japVpycVP6B4"
      },
      "execution_count": 16,
      "outputs": []
    },
    {
      "cell_type": "code",
      "source": [
        "llm_with_tools.invoke('hi how are you')"
      ],
      "metadata": {
        "colab": {
          "base_uri": "https://localhost:8080/"
        },
        "id": "4BBKs8nbP_Ry",
        "outputId": "1e598d0b-764e-4b98-f530-09d4b26742cc"
      },
      "execution_count": 17,
      "outputs": [
        {
          "output_type": "execute_result",
          "data": {
            "text/plain": [
              "AIMessage(content=\"I'm here and ready to assist you! How can I help you today?\", additional_kwargs={'refusal': None}, response_metadata={'token_usage': {'completion_tokens': 17, 'prompt_tokens': 49, 'total_tokens': 66, 'completion_tokens_details': {'accepted_prediction_tokens': 0, 'audio_tokens': 0, 'reasoning_tokens': 0, 'rejected_prediction_tokens': 0}, 'prompt_tokens_details': {'audio_tokens': 0, 'cached_tokens': 0}}, 'model_name': 'gpt-3.5-turbo-0125', 'system_fingerprint': None, 'id': 'chatcmpl-CGYJiHQjmnoQJ5s1YUM9tbd4eznpA', 'service_tier': 'default', 'finish_reason': 'stop', 'logprobs': None}, id='run--78a6c877-4884-4751-a09e-b58b22b9a730-0', usage_metadata={'input_tokens': 49, 'output_tokens': 17, 'total_tokens': 66, 'input_token_details': {'audio': 0, 'cache_read': 0}, 'output_token_details': {'audio': 0, 'reasoning': 0}})"
            ]
          },
          "metadata": {},
          "execution_count": 17
        }
      ]
    },
    {
      "cell_type": "code",
      "source": [
        "llm_with_tools.invoke('can you multiple 3 with 25')"
      ],
      "metadata": {
        "colab": {
          "base_uri": "https://localhost:8080/"
        },
        "id": "ejoOqY6yRj2I",
        "outputId": "33dc0cc1-0a69-458c-ced4-b628261df55b"
      },
      "execution_count": 18,
      "outputs": [
        {
          "output_type": "execute_result",
          "data": {
            "text/plain": [
              "AIMessage(content='', additional_kwargs={'tool_calls': [{'id': 'call_hEcEVli1fefrLnPVUKD5Imvh', 'function': {'arguments': '{\"a\":3,\"b\":25}', 'name': 'multiplication'}, 'type': 'function'}], 'refusal': None}, response_metadata={'token_usage': {'completion_tokens': 19, 'prompt_tokens': 53, 'total_tokens': 72, 'completion_tokens_details': {'accepted_prediction_tokens': 0, 'audio_tokens': 0, 'reasoning_tokens': 0, 'rejected_prediction_tokens': 0}, 'prompt_tokens_details': {'audio_tokens': 0, 'cached_tokens': 0}}, 'model_name': 'gpt-3.5-turbo-0125', 'system_fingerprint': None, 'id': 'chatcmpl-CGYJjlldrc3btOLtiBX2RJ4LxdB6s', 'service_tier': 'default', 'finish_reason': 'tool_calls', 'logprobs': None}, id='run--0b9b6bac-2a72-4569-bb5a-a432de82a63a-0', tool_calls=[{'name': 'multiplication', 'args': {'a': 3, 'b': 25}, 'id': 'call_hEcEVli1fefrLnPVUKD5Imvh', 'type': 'tool_call'}], usage_metadata={'input_tokens': 53, 'output_tokens': 19, 'total_tokens': 72, 'input_token_details': {'audio': 0, 'cache_read': 0}, 'output_token_details': {'audio': 0, 'reasoning': 0}})"
            ]
          },
          "metadata": {},
          "execution_count": 18
        }
      ]
    },
    {
      "cell_type": "code",
      "source": [
        "query = HumanMessage('can you multiple 3 with 25')"
      ],
      "metadata": {
        "id": "kL4Z9-OJV-pQ"
      },
      "execution_count": 19,
      "outputs": []
    },
    {
      "cell_type": "code",
      "source": [
        "messages = [query]"
      ],
      "metadata": {
        "id": "IGHDeLUmWBTm"
      },
      "execution_count": 20,
      "outputs": []
    },
    {
      "cell_type": "code",
      "source": [
        "messages"
      ],
      "metadata": {
        "colab": {
          "base_uri": "https://localhost:8080/"
        },
        "id": "EBtfhWvwWToL",
        "outputId": "4b52acdd-efb4-4e69-be06-571c5f8bd03c"
      },
      "execution_count": 21,
      "outputs": [
        {
          "output_type": "execute_result",
          "data": {
            "text/plain": [
              "[HumanMessage(content='can you multiple 3 with 25', additional_kwargs={}, response_metadata={})]"
            ]
          },
          "metadata": {},
          "execution_count": 21
        }
      ]
    },
    {
      "cell_type": "code",
      "source": [
        "result = llm_with_tools.invoke(messages)"
      ],
      "metadata": {
        "id": "YpVfNjirR0_a"
      },
      "execution_count": 22,
      "outputs": []
    },
    {
      "cell_type": "code",
      "source": [
        "messages.append(result)"
      ],
      "metadata": {
        "id": "XCbXrpnSR4l3"
      },
      "execution_count": 23,
      "outputs": []
    },
    {
      "cell_type": "code",
      "source": [
        "tool_result = multiplication.invoke(result.tool_calls[0])"
      ],
      "metadata": {
        "id": "SBhtJvAeULLx"
      },
      "execution_count": 24,
      "outputs": []
    },
    {
      "cell_type": "code",
      "source": [
        "messages.append(tool_result)"
      ],
      "metadata": {
        "id": "LxQFsJeGUXQU"
      },
      "execution_count": 25,
      "outputs": []
    },
    {
      "cell_type": "code",
      "source": [
        "messages"
      ],
      "metadata": {
        "colab": {
          "base_uri": "https://localhost:8080/"
        },
        "id": "VxQwbYN5XU9q",
        "outputId": "5c657401-399e-451b-9c6c-347eb033eebf"
      },
      "execution_count": 26,
      "outputs": [
        {
          "output_type": "execute_result",
          "data": {
            "text/plain": [
              "[HumanMessage(content='can you multiple 3 with 25', additional_kwargs={}, response_metadata={}),\n",
              " AIMessage(content='', additional_kwargs={'tool_calls': [{'id': 'call_qLvXND83bpZOK4rVZRAasDyY', 'function': {'arguments': '{\"a\":3,\"b\":25}', 'name': 'multiplication'}, 'type': 'function'}], 'refusal': None}, response_metadata={'token_usage': {'completion_tokens': 19, 'prompt_tokens': 53, 'total_tokens': 72, 'completion_tokens_details': {'accepted_prediction_tokens': 0, 'audio_tokens': 0, 'reasoning_tokens': 0, 'rejected_prediction_tokens': 0}, 'prompt_tokens_details': {'audio_tokens': 0, 'cached_tokens': 0}}, 'model_name': 'gpt-3.5-turbo-0125', 'system_fingerprint': None, 'id': 'chatcmpl-CGYJkt8Qbj67FA6kBDNCmjBREW2ji', 'service_tier': 'default', 'finish_reason': 'tool_calls', 'logprobs': None}, id='run--f27b343d-0962-4bb3-b1d1-b983fcb2bd99-0', tool_calls=[{'name': 'multiplication', 'args': {'a': 3, 'b': 25}, 'id': 'call_qLvXND83bpZOK4rVZRAasDyY', 'type': 'tool_call'}], usage_metadata={'input_tokens': 53, 'output_tokens': 19, 'total_tokens': 72, 'input_token_details': {'audio': 0, 'cache_read': 0}, 'output_token_details': {'audio': 0, 'reasoning': 0}}),\n",
              " ToolMessage(content='75', name='multiplication', tool_call_id='call_qLvXND83bpZOK4rVZRAasDyY')]"
            ]
          },
          "metadata": {},
          "execution_count": 26
        }
      ]
    },
    {
      "cell_type": "code",
      "source": [
        "llm_with_tools.invoke(messages).content"
      ],
      "metadata": {
        "colab": {
          "base_uri": "https://localhost:8080/",
          "height": 35
        },
        "id": "tprcuo7TXVtJ",
        "outputId": "218eb246-1234-4f84-8112-3266b6c11e26"
      },
      "execution_count": 27,
      "outputs": [
        {
          "output_type": "execute_result",
          "data": {
            "text/plain": [
              "'The result of multiplying 3 with 25 is 75.'"
            ],
            "application/vnd.google.colaboratory.intrinsic+json": {
              "type": "string"
            }
          },
          "metadata": {},
          "execution_count": 27
        }
      ]
    },
    {
      "cell_type": "code",
      "source": [
        "# tool create\n",
        "\n",
        "from langchain_core.tools import InjectedToolArg\n",
        "from typing import Annotated\n",
        "\n",
        "@tool\n",
        "def get_conversion_factor(base_currency: str, target_currency: str) -> float:\n",
        "  \"\"\"\n",
        "  This function fetches the currency conversion factor between a given base currency and a target currency\n",
        "  \"\"\"\n",
        "  url = f'https://v6.exchangerate-api.com/v6/c754eab14ffab33112e380ca/pair/{base_currency}/{target_currency}'\n",
        "\n",
        "  response = requests.get(url)\n",
        "\n",
        "  return response.json()\n",
        "\n",
        "@tool\n",
        "def convert(base_currency_value: int, conversion_rate: Annotated[float, InjectedToolArg]) -> float:\n",
        "  \"\"\"\n",
        "  given a currency conversion rate this function calculates the target currency value from a given base currency value\n",
        "  \"\"\"\n",
        "\n",
        "  return base_currency_value * conversion_rate"
      ],
      "metadata": {
        "id": "XbEMxKiPXnpo"
      },
      "execution_count": 28,
      "outputs": []
    },
    {
      "cell_type": "code",
      "source": [
        "convert.args"
      ],
      "metadata": {
        "colab": {
          "base_uri": "https://localhost:8080/"
        },
        "id": "_jmc9sG9bJVb",
        "outputId": "314d9ab9-6a62-42d8-8d1f-e9ae326e5e8a"
      },
      "execution_count": 29,
      "outputs": [
        {
          "output_type": "execute_result",
          "data": {
            "text/plain": [
              "{'base_currency_value': {'title': 'Base Currency Value', 'type': 'integer'},\n",
              " 'conversion_rate': {'title': 'Conversion Rate', 'type': 'number'}}"
            ]
          },
          "metadata": {},
          "execution_count": 29
        }
      ]
    },
    {
      "cell_type": "code",
      "source": [
        "get_conversion_factor.invoke({'base_currency':'USD','target_currency':'INR'})"
      ],
      "metadata": {
        "colab": {
          "base_uri": "https://localhost:8080/"
        },
        "id": "H0DMArFSbJou",
        "outputId": "7c841e9f-46f1-4237-869c-c50bd3e6ed39"
      },
      "execution_count": 30,
      "outputs": [
        {
          "output_type": "execute_result",
          "data": {
            "text/plain": [
              "{'result': 'success',\n",
              " 'documentation': 'https://www.exchangerate-api.com/docs',\n",
              " 'terms_of_use': 'https://www.exchangerate-api.com/terms',\n",
              " 'time_last_update_unix': 1757980801,\n",
              " 'time_last_update_utc': 'Tue, 16 Sep 2025 00:00:01 +0000',\n",
              " 'time_next_update_unix': 1758067201,\n",
              " 'time_next_update_utc': 'Wed, 17 Sep 2025 00:00:01 +0000',\n",
              " 'base_code': 'USD',\n",
              " 'target_code': 'INR',\n",
              " 'conversion_rate': 88.197}"
            ]
          },
          "metadata": {},
          "execution_count": 30
        }
      ]
    },
    {
      "cell_type": "code",
      "source": [
        "convert.invoke({'base_currency_value':10, 'conversion_rate':88.197})"
      ],
      "metadata": {
        "colab": {
          "base_uri": "https://localhost:8080/"
        },
        "id": "ugiGX7MJbQxb",
        "outputId": "28278b18-7879-4f69-85bb-93128f652512"
      },
      "execution_count": 31,
      "outputs": [
        {
          "output_type": "execute_result",
          "data": {
            "text/plain": [
              "881.97"
            ]
          },
          "metadata": {},
          "execution_count": 31
        }
      ]
    },
    {
      "cell_type": "code",
      "source": [
        "llm = ChatOpenAI()"
      ],
      "metadata": {
        "id": "nsgJ9LglchEf"
      },
      "execution_count": 32,
      "outputs": []
    },
    {
      "cell_type": "code",
      "source": [
        "llm_with_tools = llm.bind_tools([get_conversion_factor, convert])"
      ],
      "metadata": {
        "id": "93LlXA5IbWH1"
      },
      "execution_count": 33,
      "outputs": []
    },
    {
      "cell_type": "code",
      "source": [
        "messages = [HumanMessage('What is the conversion factor between INR and USD, and based on that can you convert 10 inr to usd')]"
      ],
      "metadata": {
        "id": "n38fi4dkb311"
      },
      "execution_count": 34,
      "outputs": []
    },
    {
      "cell_type": "code",
      "source": [
        "messages"
      ],
      "metadata": {
        "colab": {
          "base_uri": "https://localhost:8080/"
        },
        "id": "8iMVKKdYb4Ve",
        "outputId": "a5a7946d-1ff0-403f-9199-2800dd733217"
      },
      "execution_count": 35,
      "outputs": [
        {
          "output_type": "execute_result",
          "data": {
            "text/plain": [
              "[HumanMessage(content='What is the conversion factor between INR and USD, and based on that can you convert 10 inr to usd', additional_kwargs={}, response_metadata={})]"
            ]
          },
          "metadata": {},
          "execution_count": 35
        }
      ]
    },
    {
      "cell_type": "code",
      "source": [
        "ai_message = llm_with_tools.invoke(messages)"
      ],
      "metadata": {
        "id": "RcUUFWCJb7gZ"
      },
      "execution_count": 36,
      "outputs": []
    },
    {
      "cell_type": "code",
      "source": [
        "messages.append(ai_message)"
      ],
      "metadata": {
        "id": "UCb1RtKib9pl"
      },
      "execution_count": 37,
      "outputs": []
    },
    {
      "cell_type": "code",
      "source": [
        "ai_message.tool_calls"
      ],
      "metadata": {
        "colab": {
          "base_uri": "https://localhost:8080/"
        },
        "id": "HAi773Ajb_gS",
        "outputId": "d1666549-c400-478c-fe4e-e4027de539fa"
      },
      "execution_count": 38,
      "outputs": [
        {
          "output_type": "execute_result",
          "data": {
            "text/plain": [
              "[{'name': 'get_conversion_factor',\n",
              "  'args': {'base_currency': 'INR', 'target_currency': 'USD'},\n",
              "  'id': 'call_V6RHPNsx6HzkH8GGEKmbAJgs',\n",
              "  'type': 'tool_call'},\n",
              " {'name': 'convert',\n",
              "  'args': {'base_currency_value': 10},\n",
              "  'id': 'call_xmKFOAVLn0noDPA7uENie4P2',\n",
              "  'type': 'tool_call'}]"
            ]
          },
          "metadata": {},
          "execution_count": 38
        }
      ]
    },
    {
      "cell_type": "code",
      "source": [
        "import json\n",
        "for tool_call in ai_message.tool_calls:\n",
        "  # execute the 1st tool and get the value of conversion rate\n",
        "  if tool_call['name'] == 'get_conversion_factor':\n",
        "    tool_message1 = get_conversion_factor.invoke(tool_call)\n",
        "    # fetch this conversion rate\n",
        "    conversion_rate = json.loads(tool_message1.content)['conversion_rate']\n",
        "    # append this tool message to messages list\n",
        "    messages.append(tool_message1)\n",
        "  # execute the 2nd tool using the conversion rate from tool 1\n",
        "  if tool_call['name'] == 'convert':\n",
        "    # fetch the current arg\n",
        "    tool_call['args']['conversion_rate'] = conversion_rate\n",
        "    tool_message2 = convert.invoke(tool_call)\n",
        "    messages.append(tool_message2)"
      ],
      "metadata": {
        "id": "DpeP7VC1cBCH"
      },
      "execution_count": 39,
      "outputs": []
    },
    {
      "cell_type": "code",
      "source": [
        "messages"
      ],
      "metadata": {
        "colab": {
          "base_uri": "https://localhost:8080/"
        },
        "id": "_SCgphungMRh",
        "outputId": "62aa6840-9be0-44d1-96df-5de1e7d8d4cc"
      },
      "execution_count": 40,
      "outputs": [
        {
          "output_type": "execute_result",
          "data": {
            "text/plain": [
              "[HumanMessage(content='What is the conversion factor between INR and USD, and based on that can you convert 10 inr to usd', additional_kwargs={}, response_metadata={}),\n",
              " AIMessage(content='', additional_kwargs={'tool_calls': [{'id': 'call_V6RHPNsx6HzkH8GGEKmbAJgs', 'function': {'arguments': '{\"base_currency\": \"INR\", \"target_currency\": \"USD\"}', 'name': 'get_conversion_factor'}, 'type': 'function'}, {'id': 'call_xmKFOAVLn0noDPA7uENie4P2', 'function': {'arguments': '{\"base_currency_value\": 10}', 'name': 'convert'}, 'type': 'function'}], 'refusal': None}, response_metadata={'token_usage': {'completion_tokens': 52, 'prompt_tokens': 123, 'total_tokens': 175, 'completion_tokens_details': {'accepted_prediction_tokens': 0, 'audio_tokens': 0, 'reasoning_tokens': 0, 'rejected_prediction_tokens': 0}, 'prompt_tokens_details': {'audio_tokens': 0, 'cached_tokens': 0}}, 'model_name': 'gpt-3.5-turbo-0125', 'system_fingerprint': None, 'id': 'chatcmpl-CGYJnErL9ZBdMes6awSdI6Wl8mk3q', 'service_tier': 'default', 'finish_reason': 'tool_calls', 'logprobs': None}, id='run--67ee07f9-5599-47c8-bd57-ec73d85048c5-0', tool_calls=[{'name': 'get_conversion_factor', 'args': {'base_currency': 'INR', 'target_currency': 'USD'}, 'id': 'call_V6RHPNsx6HzkH8GGEKmbAJgs', 'type': 'tool_call'}, {'name': 'convert', 'args': {'base_currency_value': 10, 'conversion_rate': 0.01134}, 'id': 'call_xmKFOAVLn0noDPA7uENie4P2', 'type': 'tool_call'}], usage_metadata={'input_tokens': 123, 'output_tokens': 52, 'total_tokens': 175, 'input_token_details': {'audio': 0, 'cache_read': 0}, 'output_token_details': {'audio': 0, 'reasoning': 0}}),\n",
              " ToolMessage(content='{\"result\": \"success\", \"documentation\": \"https://www.exchangerate-api.com/docs\", \"terms_of_use\": \"https://www.exchangerate-api.com/terms\", \"time_last_update_unix\": 1757980801, \"time_last_update_utc\": \"Tue, 16 Sep 2025 00:00:01 +0000\", \"time_next_update_unix\": 1758067201, \"time_next_update_utc\": \"Wed, 17 Sep 2025 00:00:01 +0000\", \"base_code\": \"INR\", \"target_code\": \"USD\", \"conversion_rate\": 0.01134}', name='get_conversion_factor', tool_call_id='call_V6RHPNsx6HzkH8GGEKmbAJgs'),\n",
              " ToolMessage(content='0.1134', name='convert', tool_call_id='call_xmKFOAVLn0noDPA7uENie4P2')]"
            ]
          },
          "metadata": {},
          "execution_count": 40
        }
      ]
    },
    {
      "cell_type": "code",
      "source": [
        "llm_with_tools.invoke(messages).content"
      ],
      "metadata": {
        "colab": {
          "base_uri": "https://localhost:8080/",
          "height": 35
        },
        "id": "gkuy-WCsgMoT",
        "outputId": "8aff713b-eb5c-4bc2-92fd-e057cbb9320d"
      },
      "execution_count": 41,
      "outputs": [
        {
          "output_type": "execute_result",
          "data": {
            "text/plain": [
              "'The conversion factor between INR and USD is 0.01134. \\n\\nBased on this conversion factor, the value of 10 INR is approximately 0.1134 USD.'"
            ],
            "application/vnd.google.colaboratory.intrinsic+json": {
              "type": "string"
            }
          },
          "metadata": {},
          "execution_count": 41
        }
      ]
    },
    {
      "cell_type": "code",
      "source": [
        "from langchain.agents import initialize_agent, AgentType\n",
        "\n",
        "# Step 5: Initialize the Agent ---\n",
        "agent_executor = initialize_agent(\n",
        "    tools=[get_conversion_factor, convert],\n",
        "    llm=llm,\n",
        "    agent=AgentType.STRUCTURED_CHAT_ZERO_SHOT_REACT_DESCRIPTION,  # using ReAct pattern\n",
        "    verbose=True  # shows internal thinking\n",
        ")"
      ],
      "metadata": {
        "colab": {
          "base_uri": "https://localhost:8080/"
        },
        "id": "_jXwKYHGgTEo",
        "outputId": "2ac5dd51-8274-41fe-a653-5c813ab8f62d"
      },
      "execution_count": 42,
      "outputs": [
        {
          "output_type": "stream",
          "name": "stderr",
          "text": [
            "/tmp/ipython-input-627313024.py:4: LangChainDeprecationWarning: LangChain agents will continue to be supported, but it is recommended for new use cases to be built with LangGraph. LangGraph offers a more flexible and full-featured framework for building agents, including support for tool-calling, persistence of state, and human-in-the-loop workflows. For details, refer to the `LangGraph documentation <https://langchain-ai.github.io/langgraph/>`_ as well as guides for `Migrating from AgentExecutor <https://python.langchain.com/docs/how_to/migrate_agent/>`_ and LangGraph's `Pre-built ReAct agent <https://langchain-ai.github.io/langgraph/how-tos/create-react-agent/>`_.\n",
            "  agent_executor = initialize_agent(\n"
          ]
        }
      ]
    },
    {
      "cell_type": "code",
      "source": [
        "# --- Step 6: Run the Agent ---\n",
        "user_query = \"Hi how are you?\"\n",
        "\n",
        "response = agent_executor.invoke({\"input\": user_query})"
      ],
      "metadata": {
        "colab": {
          "base_uri": "https://localhost:8080/"
        },
        "id": "X9Jse9q0negb",
        "outputId": "d62b49e7-b35b-4f8c-eb45-941a7d32bba8"
      },
      "execution_count": 43,
      "outputs": [
        {
          "output_type": "stream",
          "name": "stdout",
          "text": [
            "\n",
            "\n",
            "\u001b[1m> Entering new AgentExecutor chain...\u001b[0m\n",
            "\u001b[32;1m\u001b[1;3mI'm here to assist you with any questions or tasks you have. How can I help you today?\u001b[0m\n",
            "\n",
            "\u001b[1m> Finished chain.\u001b[0m\n"
          ]
        }
      ]
    },
    {
      "cell_type": "code",
      "source": [],
      "metadata": {
        "id": "uxtoJXzOnfg9"
      },
      "execution_count": null,
      "outputs": []
    }
  ]
}
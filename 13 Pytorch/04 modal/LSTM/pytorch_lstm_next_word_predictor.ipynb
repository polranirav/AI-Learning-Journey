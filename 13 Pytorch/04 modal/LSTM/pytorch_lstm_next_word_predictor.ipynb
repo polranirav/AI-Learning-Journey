{
  "nbformat": 4,
  "nbformat_minor": 0,
  "metadata": {
    "colab": {
      "provenance": []
    },
    "kernelspec": {
      "name": "python3",
      "display_name": "Python 3"
    },
    "language_info": {
      "name": "python"
    }
  },
  "cells": [
    {
      "cell_type": "code",
      "execution_count": 1,
      "metadata": {
        "colab": {
          "base_uri": "https://localhost:8080/"
        },
        "id": "5NfcpnluzLzo",
        "outputId": "17e7fb06-21cb-4945-cd83-90966cc372d5"
      },
      "outputs": [
        {
          "output_type": "stream",
          "name": "stdout",
          "text": [
            "Requirement already satisfied: nltk in /usr/local/lib/python3.12/dist-packages (3.9.1)\n",
            "Requirement already satisfied: click in /usr/local/lib/python3.12/dist-packages (from nltk) (8.2.1)\n",
            "Requirement already satisfied: joblib in /usr/local/lib/python3.12/dist-packages (from nltk) (1.5.2)\n",
            "Requirement already satisfied: regex>=2021.8.3 in /usr/local/lib/python3.12/dist-packages (from nltk) (2024.11.6)\n",
            "Requirement already satisfied: tqdm in /usr/local/lib/python3.12/dist-packages (from nltk) (4.67.1)\n"
          ]
        }
      ],
      "source": [
        "!pip install nltk"
      ]
    },
    {
      "cell_type": "code",
      "source": [
        "import torch\n",
        "import torch.nn as nn\n",
        "import torch.optim as optim\n",
        "import numpy as np\n",
        "from collections import Counter\n",
        "from torch.utils.data import Dataset, DataLoader\n",
        "from nltk.tokenize import word_tokenize\n",
        "import nltk"
      ],
      "metadata": {
        "id": "ae7dunqczT8Q"
      },
      "execution_count": 2,
      "outputs": []
    },
    {
      "cell_type": "code",
      "source": [
        "document = \"\"\"About the Program\n",
        "This program follows a monthly subscription model at Rs 799 per month.\n",
        "The total duration of the DSMP is seven months.\n",
        "The approximate overall fee across seven months is Rs 5600.\n",
        "You can join anytime without waiting for a new batch to start.\n",
        "All live sessions are recorded for later viewing.\n",
        "Session recordings appear in your dashboard after class.\n",
        "Typical live sessions run for about two hours.\n",
        "The teaching language used in class is Hinglish.\n",
        "Non-technical learners are welcome to enroll and start from basics.\n",
        "Joining mid-way still grants access to past recordings during validity.\n",
        "\n",
        "Syllabus Overview\n",
        "The syllabus covers Python Fundamentals for complete beginners.\n",
        "You will learn Python libraries used in Data Science work.\n",
        "Data Analysis modules focus on EDA and storytelling with data.\n",
        "SQL for Data Science includes joins and window functions.\n",
        "Maths for Machine Learning keeps intuition first and formulas second.\n",
        "ML Algorithms include supervised and unsupervised techniques.\n",
        "Practical ML focuses on pipelines, validation, and feature engineering.\n",
        "MLOps introduces experiment tracking, packaging, and simple CI/CD.\n",
        "Case studies simulate realistic business problems and decisions.\n",
        "Deep Learning and NLP are not part of this curriculum.\n",
        "\n",
        "Links and Resources\n",
        "You can check detailed syllabus on the official course page.\n",
        "The monthly timetable is shared through a public Google Sheet.\n",
        "Official payments are made only through the course website.\n",
        "Reminder emails are sent before each paid session.\n",
        "Dashboard access shows recordings, notes, and the doubt form.\n",
        "\n",
        "Live Sessions\n",
        "If you miss a session, you can watch the recording later.\n",
        "Most sessions last roughly one hundred and twenty minutes.\n",
        "Slides are primarily in English with Hinglish explanations.\n",
        "Q&A time is reserved at the end of the session.\n",
        "Weekly schedules are announced on the shared sheet.\n",
        "\n",
        "Access and Validity\n",
        "Your subscription is valid for thirty days from purchase time.\n",
        "Renewals extend your access window by another thirty days.\n",
        "During an active cycle, past paid content remains unlocked.\n",
        "If your validity lapses, you will need to renew to continue.\n",
        "Joining on any date shifts your next renewal to that date.\n",
        "\n",
        "Refund Policy\n",
        "A seven-day refund window starts from your payment date.\n",
        "Refunds requested after seven days are not eligible.\n",
        "Plan your first week to evaluate fit before the window closes.\n",
        "Contact support if you need help initiating a refund request.\n",
        "Refunds apply to the latest payment within policy limits.\n",
        "\n",
        "Payments\n",
        "Monthly payments must be made on the official website.\n",
        "Do not pay through third-party links or private messages.\n",
        "Receipts are emailed after successful payment processing.\n",
        "International payment issues can be escalated by email.\n",
        "Include your registered email and phone number when writing support.\n",
        "\n",
        "Eligibility and Onboarding\n",
        "Beginners from non-tech backgrounds can join confidently.\n",
        "The course starts from Python basics and builds gradually.\n",
        "You can jump in mid-month and begin with recordings.\n",
        "Your dashboard unlocks immediately after successful payment.\n",
        "Orientation notes help you navigate the platform quickly.\n",
        "\n",
        "Doubt Support\n",
        "You can fill a doubt form through the dashboard.\n",
        "The team schedules one-on-one clarity calls for complex issues.\n",
        "Past-week doubts can still be raised using the form option.\n",
        "Provide examples or screenshots to speed up resolution.\n",
        "Response times are communicated after form submission.\n",
        "\n",
        "Certificate Criteria\n",
        "You must complete full fee payment across seven months.\n",
        "You must attempt all course assessments to qualify.\n",
        "Certificates are issued to learners who meet both criteria.\n",
        "Assessments emphasize applied understanding over rote math.\n",
        "Keep submission notes concise and clearly structured.\n",
        "\n",
        "Placement Assistance\n",
        "Placement assistance does not imply a placement guarantee.\n",
        "Job offers or interviews are not guaranteed by the program.\n",
        "Assistance includes portfolio building and resume guidance.\n",
        "Soft-skill sessions improve communication and interviews.\n",
        "Mentor sessions add real-world perspective and feedback.\n",
        "Job hunting strategies cover ATS keywords and outreach.\n",
        "You should expect guidance, not assured outcomes.\n",
        "\n",
        "Content Emphasis\n",
        "Python Fundamentals cover syntax, control flow, and functions.\n",
        "Libraries for DS include NumPy, Pandas, and Matplotlib.\n",
        "Data Analysis focuses on tidy data and reproducible EDA.\n",
        "SQL practice builds confidence with joins and aggregates.\n",
        "Maths for ML develops intuition for vectors and gradients.\n",
        "Algorithms include linear models, trees, and clustering.\n",
        "Practical ML stresses pipelines and validation rigor.\n",
        "MLOps introduces tracking, packaging, and deployments.\n",
        "Case studies connect methods to business decisions.\n",
        "\n",
        "Recordings and Dashboard\n",
        "Recordings are your safety net for missed classes.\n",
        "Videos appear in the dashboard within the validity period.\n",
        "Downloadable resources are attached where permitted.\n",
        "You can rewatch tricky segments at your own pace.\n",
        "Keep personal notes aligned to each module outcome.\n",
        "\n",
        "Scheduling\n",
        "Typical classes run in the evening IST schedule.\n",
        "Exact start times are posted on the weekly sheet.\n",
        "Reminder emails arrive before each live session.\n",
        "Calendar links may be provided for convenience.\n",
        "Check the sheet regularly for any timing updates.\n",
        "\n",
        "Policies and Safety\n",
        "Always pay only through the official website link.\n",
        "Never share OTPs or passwords with anyone.\n",
        "Support will never ask for your confidential info.\n",
        "Use the listed emails for payment-related queries.\n",
        "Verify URLs before completing a transaction.\n",
        "\n",
        "International Learners\n",
        "If cards fail, contact support for alternatives.\n",
        "Share transaction error screenshots for faster help.\n",
        "Confirm time zone differences for live sessions.\n",
        "Recordings help when time zones are challenging.\n",
        "Support provides guidance tailored to your region.\n",
        "\n",
        "Learning Approach\n",
        "Focus on clarity and reproducibility over complexity.\n",
        "Start with baseline models before heavy tuning.\n",
        "Use proper validation to avoid leakage pitfalls.\n",
        "Document assumptions at the top of each notebook.\n",
        "Prefer readable code and clear variable names.\n",
        "\n",
        "Evaluation Style\n",
        "Assessments are short and focused on application.\n",
        "Rubrics reward reasoning and decision justification.\n",
        "Error analysis is valued alongside metric scores.\n",
        "Write concise summaries of your modeling choices.\n",
        "Link metrics to practical business costs where possible.\n",
        "\n",
        "Practical Tips\n",
        "Pin library versions to stabilize your environment.\n",
        "Seed randomness to reproduce key results consistently.\n",
        "Keep datasets versioned as experiments progress.\n",
        "Use checklists to reduce last-minute mistakes.\n",
        "Save artifacts with consistent naming conventions.\n",
        "\n",
        "SQL Module Highlights\n",
        "Practice joins across fact and dimension tables.\n",
        "Use window functions for rankings and rolling stats.\n",
        "Write groupby summaries at meaningful aggregation levels.\n",
        "Consider indexes and query plans for performance.\n",
        "Write clear SQL with consistent formatting.\n",
        "\n",
        "Pandas and Visualization\n",
        "Indexing and selection patterns improve readability.\n",
        "Groupby pipelines summarize behavior effectively.\n",
        "Avoid chained operations when clarity suffers.\n",
        "Label axes and titles for meaningful charts.\n",
        "Choose appropriate scales for honest visuals.\n",
        "\n",
        "Maths Essentials\n",
        "Vectors and matrices are introduced with intuition.\n",
        "Gradients are linked to simple geometric ideas.\n",
        "Bias-variance tradeoff is explained with examples.\n",
        "Probability basics support reasoning under uncertainty.\n",
        "You learn enough math to use models responsibly.\n",
        "\n",
        "ML Algorithms\n",
        "Begin with linear and logistic regression baselines.\n",
        "Move to trees and ensembles for nonlinear structure.\n",
        "Try clustering for unsupervised pattern discovery.\n",
        "Use cross-validation to compare model families.\n",
        "Tune hyperparameters only after strong baselines.\n",
        "\n",
        "MLOps Basics\n",
        "Track experiments with simple run identifiers.\n",
        "Package code for predictable training and inference.\n",
        "Capture environment details for reproducibility.\n",
        "Automate small checks in a lightweight CI step.\n",
        "Log decisions and metrics for future audits.\n",
        "\n",
        "Case Studies\n",
        "Start with a crisp problem statement and success metric.\n",
        "Explore data visually to form testable hypotheses.\n",
        "Engineer features grounded in domain intuition.\n",
        "Validate with appropriate temporal splits when needed.\n",
        "Present tradeoffs and a pragmatic recommendation.\n",
        "\n",
        "Communication\n",
        "Use plain language in reports and presentations.\n",
        "Prefer few clear plots over many noisy ones.\n",
        "Explain why a metric was chosen for the task.\n",
        "State assumptions and limitations openly.\n",
        "Outline next steps with realistic timelines.\n",
        "\n",
        "Enrollment Flexibility\n",
        "Mid-month joins are supported by rolling validity.\n",
        "Renewals occur thirty days after your payment date.\n",
        "Access continues until the current cycle ends.\n",
        "Rejoining later restores your dashboard promptly.\n",
        "You can learn at a pace that fits your schedule.\n",
        "\n",
        "Support Channels\n",
        "Email support for payment or access issues.\n",
        "Include registered email and phone in messages.\n",
        "Attach relevant screenshots for context.\n",
        "Expect confirmation and estimated response windows.\n",
        "Escalations are available for unresolved cases.\n",
        "\n",
        "What’s Not Included\n",
        "Deep Learning is outside the current scope.\n",
        "NLP topics are not covered in this program.\n",
        "Placement guarantees are not offered by the team.\n",
        "Lifetime access is not provided due to low fees.\n",
        "Advanced research topics are out of scope here.\n",
        "\n",
        "After Course Access\n",
        "After completing seven payments you keep access until the stated end date.\n",
        "Final access windows are communicated near course completion.\n",
        "Policies may update; refer to official pages for changes.\n",
        "Timelines align with the published DSMP cohort information.\n",
        "Use the dashboard to check your current validity dates.\n",
        "\n",
        "Study Habits\n",
        "Block time after each class to review notes.\n",
        "Rewatch complex parts of recordings at higher speed.\n",
        "Practice SQL and Pandas daily for fluency.\n",
        "Summarize each module in your own words.\n",
        "Share doubts early through the form.\n",
        "\n",
        "Quality and Integrity\n",
        "Cite data sources when using external datasets.\n",
        "Avoid leaking information across data splits.\n",
        "Prefer interpretable baselines before complex stacks.\n",
        "Use calibration where thresholds matter to outcomes.\n",
        "Keep feedback loops open with mentors and peers.\n",
        "\n",
        "Community and Mentorship\n",
        "Portfolio sessions cover project curation and impact framing.\n",
        "Soft-skill exercises include STAR answers and mock interviews.\n",
        "Mentor talks reveal real constraints from industry work.\n",
        "Networking tips center on targeted outreach and follow-ups.\n",
        "Job strategies emphasize ATS alignment to job descriptions.\n",
        "\n",
        "Admin Reminders\n",
        "All payments are processed on the official website.\n",
        "Refunds are handled only within the seven-day window.\n",
        "Schedules are updated in the shared Google Sheet.\n",
        "Official updates are sent via registered email.\n",
        "Keep your profile details accurate in the dashboard.\n",
        "\n",
        "Contact\n",
        "For payments and access, write to nitish.campusx@gmail.com.\n",
        "Use clear subject lines describing your issue briefly.\n",
        "Include your registered email and transaction details.\n",
        "Do not share sensitive information in emails.\n",
        "Expect a response with next steps and timelines.\n",
        "\n",
        "Wrapping Up\n",
        "The DSMP focuses on solid DS foundations and practical ML.\n",
        "You will learn Python, SQL, Maths, and core ML methods.\n",
        "MLOps adds tracking and simple deployment discipline.\n",
        "Case studies tie methods to decisions stakeholders care about.\n",
        "Recordings, rolling validity, and guidance keep learning flexible.\"\"\"\n"
      ],
      "metadata": {
        "id": "fLwm0Y_MzVuh"
      },
      "execution_count": 3,
      "outputs": []
    },
    {
      "cell_type": "code",
      "source": [
        "# Tokenization\n",
        "nltk.download('punkt')\n",
        "nltk.download('punkt_tab')"
      ],
      "metadata": {
        "colab": {
          "base_uri": "https://localhost:8080/"
        },
        "id": "MMU_RwfbzXt4",
        "outputId": "9959fa22-f32b-431d-baeb-5fb20d70ba3e"
      },
      "execution_count": 4,
      "outputs": [
        {
          "output_type": "stream",
          "name": "stderr",
          "text": [
            "[nltk_data] Downloading package punkt to /root/nltk_data...\n",
            "[nltk_data]   Unzipping tokenizers/punkt.zip.\n",
            "[nltk_data] Downloading package punkt_tab to /root/nltk_data...\n",
            "[nltk_data]   Unzipping tokenizers/punkt_tab.zip.\n"
          ]
        },
        {
          "output_type": "execute_result",
          "data": {
            "text/plain": [
              "True"
            ]
          },
          "metadata": {},
          "execution_count": 4
        }
      ]
    },
    {
      "cell_type": "code",
      "source": [
        "# tokenize\n",
        "tokens = word_tokenize(document.lower())"
      ],
      "metadata": {
        "id": "t28bgAcszaHl"
      },
      "execution_count": 5,
      "outputs": []
    },
    {
      "cell_type": "code",
      "source": [
        "# build vocab\n",
        "vocab = {'<unk>':0}\n",
        "\n",
        "for token in Counter(tokens).keys():\n",
        "  if token not in vocab:\n",
        "    vocab[token] = len(vocab)\n",
        "\n",
        "vocab"
      ],
      "metadata": {
        "colab": {
          "base_uri": "https://localhost:8080/"
        },
        "id": "G30GxEjgzcfY",
        "outputId": "722b17e0-e590-4c55-c252-1ad3ac0a8cc1"
      },
      "execution_count": 6,
      "outputs": [
        {
          "output_type": "execute_result",
          "data": {
            "text/plain": [
              "{'<unk>': 0,\n",
              " 'about': 1,\n",
              " 'the': 2,\n",
              " 'program': 3,\n",
              " 'this': 4,\n",
              " 'follows': 5,\n",
              " 'a': 6,\n",
              " 'monthly': 7,\n",
              " 'subscription': 8,\n",
              " 'model': 9,\n",
              " 'at': 10,\n",
              " 'rs': 11,\n",
              " '799': 12,\n",
              " 'per': 13,\n",
              " 'month': 14,\n",
              " '.': 15,\n",
              " 'total': 16,\n",
              " 'duration': 17,\n",
              " 'of': 18,\n",
              " 'dsmp': 19,\n",
              " 'is': 20,\n",
              " 'seven': 21,\n",
              " 'months': 22,\n",
              " 'approximate': 23,\n",
              " 'overall': 24,\n",
              " 'fee': 25,\n",
              " 'across': 26,\n",
              " '5600.': 27,\n",
              " 'you': 28,\n",
              " 'can': 29,\n",
              " 'join': 30,\n",
              " 'anytime': 31,\n",
              " 'without': 32,\n",
              " 'waiting': 33,\n",
              " 'for': 34,\n",
              " 'new': 35,\n",
              " 'batch': 36,\n",
              " 'to': 37,\n",
              " 'start': 38,\n",
              " 'all': 39,\n",
              " 'live': 40,\n",
              " 'sessions': 41,\n",
              " 'are': 42,\n",
              " 'recorded': 43,\n",
              " 'later': 44,\n",
              " 'viewing': 45,\n",
              " 'session': 46,\n",
              " 'recordings': 47,\n",
              " 'appear': 48,\n",
              " 'in': 49,\n",
              " 'your': 50,\n",
              " 'dashboard': 51,\n",
              " 'after': 52,\n",
              " 'class': 53,\n",
              " 'typical': 54,\n",
              " 'run': 55,\n",
              " 'two': 56,\n",
              " 'hours': 57,\n",
              " 'teaching': 58,\n",
              " 'language': 59,\n",
              " 'used': 60,\n",
              " 'hinglish': 61,\n",
              " 'non-technical': 62,\n",
              " 'learners': 63,\n",
              " 'welcome': 64,\n",
              " 'enroll': 65,\n",
              " 'and': 66,\n",
              " 'from': 67,\n",
              " 'basics': 68,\n",
              " 'joining': 69,\n",
              " 'mid-way': 70,\n",
              " 'still': 71,\n",
              " 'grants': 72,\n",
              " 'access': 73,\n",
              " 'past': 74,\n",
              " 'during': 75,\n",
              " 'validity': 76,\n",
              " 'syllabus': 77,\n",
              " 'overview': 78,\n",
              " 'covers': 79,\n",
              " 'python': 80,\n",
              " 'fundamentals': 81,\n",
              " 'complete': 82,\n",
              " 'beginners': 83,\n",
              " 'will': 84,\n",
              " 'learn': 85,\n",
              " 'libraries': 86,\n",
              " 'data': 87,\n",
              " 'science': 88,\n",
              " 'work': 89,\n",
              " 'analysis': 90,\n",
              " 'modules': 91,\n",
              " 'focus': 92,\n",
              " 'on': 93,\n",
              " 'eda': 94,\n",
              " 'storytelling': 95,\n",
              " 'with': 96,\n",
              " 'sql': 97,\n",
              " 'includes': 98,\n",
              " 'joins': 99,\n",
              " 'window': 100,\n",
              " 'functions': 101,\n",
              " 'maths': 102,\n",
              " 'machine': 103,\n",
              " 'learning': 104,\n",
              " 'keeps': 105,\n",
              " 'intuition': 106,\n",
              " 'first': 107,\n",
              " 'formulas': 108,\n",
              " 'second': 109,\n",
              " 'ml': 110,\n",
              " 'algorithms': 111,\n",
              " 'include': 112,\n",
              " 'supervised': 113,\n",
              " 'unsupervised': 114,\n",
              " 'techniques': 115,\n",
              " 'practical': 116,\n",
              " 'focuses': 117,\n",
              " 'pipelines': 118,\n",
              " ',': 119,\n",
              " 'validation': 120,\n",
              " 'feature': 121,\n",
              " 'engineering': 122,\n",
              " 'mlops': 123,\n",
              " 'introduces': 124,\n",
              " 'experiment': 125,\n",
              " 'tracking': 126,\n",
              " 'packaging': 127,\n",
              " 'simple': 128,\n",
              " 'ci/cd': 129,\n",
              " 'case': 130,\n",
              " 'studies': 131,\n",
              " 'simulate': 132,\n",
              " 'realistic': 133,\n",
              " 'business': 134,\n",
              " 'problems': 135,\n",
              " 'decisions': 136,\n",
              " 'deep': 137,\n",
              " 'nlp': 138,\n",
              " 'not': 139,\n",
              " 'part': 140,\n",
              " 'curriculum': 141,\n",
              " 'links': 142,\n",
              " 'resources': 143,\n",
              " 'check': 144,\n",
              " 'detailed': 145,\n",
              " 'official': 146,\n",
              " 'course': 147,\n",
              " 'page': 148,\n",
              " 'timetable': 149,\n",
              " 'shared': 150,\n",
              " 'through': 151,\n",
              " 'public': 152,\n",
              " 'google': 153,\n",
              " 'sheet': 154,\n",
              " 'payments': 155,\n",
              " 'made': 156,\n",
              " 'only': 157,\n",
              " 'website': 158,\n",
              " 'reminder': 159,\n",
              " 'emails': 160,\n",
              " 'sent': 161,\n",
              " 'before': 162,\n",
              " 'each': 163,\n",
              " 'paid': 164,\n",
              " 'shows': 165,\n",
              " 'notes': 166,\n",
              " 'doubt': 167,\n",
              " 'form': 168,\n",
              " 'if': 169,\n",
              " 'miss': 170,\n",
              " 'watch': 171,\n",
              " 'recording': 172,\n",
              " 'most': 173,\n",
              " 'last': 174,\n",
              " 'roughly': 175,\n",
              " 'one': 176,\n",
              " 'hundred': 177,\n",
              " 'twenty': 178,\n",
              " 'minutes': 179,\n",
              " 'slides': 180,\n",
              " 'primarily': 181,\n",
              " 'english': 182,\n",
              " 'explanations': 183,\n",
              " 'q': 184,\n",
              " '&': 185,\n",
              " 'time': 186,\n",
              " 'reserved': 187,\n",
              " 'end': 188,\n",
              " 'weekly': 189,\n",
              " 'schedules': 190,\n",
              " 'announced': 191,\n",
              " 'valid': 192,\n",
              " 'thirty': 193,\n",
              " 'days': 194,\n",
              " 'purchase': 195,\n",
              " 'renewals': 196,\n",
              " 'extend': 197,\n",
              " 'by': 198,\n",
              " 'another': 199,\n",
              " 'an': 200,\n",
              " 'active': 201,\n",
              " 'cycle': 202,\n",
              " 'content': 203,\n",
              " 'remains': 204,\n",
              " 'unlocked': 205,\n",
              " 'lapses': 206,\n",
              " 'need': 207,\n",
              " 'renew': 208,\n",
              " 'continue': 209,\n",
              " 'any': 210,\n",
              " 'date': 211,\n",
              " 'shifts': 212,\n",
              " 'next': 213,\n",
              " 'renewal': 214,\n",
              " 'that': 215,\n",
              " 'refund': 216,\n",
              " 'policy': 217,\n",
              " 'seven-day': 218,\n",
              " 'starts': 219,\n",
              " 'payment': 220,\n",
              " 'refunds': 221,\n",
              " 'requested': 222,\n",
              " 'eligible': 223,\n",
              " 'plan': 224,\n",
              " 'week': 225,\n",
              " 'evaluate': 226,\n",
              " 'fit': 227,\n",
              " 'closes': 228,\n",
              " 'contact': 229,\n",
              " 'support': 230,\n",
              " 'help': 231,\n",
              " 'initiating': 232,\n",
              " 'request': 233,\n",
              " 'apply': 234,\n",
              " 'latest': 235,\n",
              " 'within': 236,\n",
              " 'limits': 237,\n",
              " 'must': 238,\n",
              " 'be': 239,\n",
              " 'do': 240,\n",
              " 'pay': 241,\n",
              " 'third-party': 242,\n",
              " 'or': 243,\n",
              " 'private': 244,\n",
              " 'messages': 245,\n",
              " 'receipts': 246,\n",
              " 'emailed': 247,\n",
              " 'successful': 248,\n",
              " 'processing': 249,\n",
              " 'international': 250,\n",
              " 'issues': 251,\n",
              " 'escalated': 252,\n",
              " 'email': 253,\n",
              " 'registered': 254,\n",
              " 'phone': 255,\n",
              " 'number': 256,\n",
              " 'when': 257,\n",
              " 'writing': 258,\n",
              " 'eligibility': 259,\n",
              " 'onboarding': 260,\n",
              " 'non-tech': 261,\n",
              " 'backgrounds': 262,\n",
              " 'confidently': 263,\n",
              " 'builds': 264,\n",
              " 'gradually': 265,\n",
              " 'jump': 266,\n",
              " 'mid-month': 267,\n",
              " 'begin': 268,\n",
              " 'unlocks': 269,\n",
              " 'immediately': 270,\n",
              " 'orientation': 271,\n",
              " 'navigate': 272,\n",
              " 'platform': 273,\n",
              " 'quickly': 274,\n",
              " 'fill': 275,\n",
              " 'team': 276,\n",
              " 'one-on-one': 277,\n",
              " 'clarity': 278,\n",
              " 'calls': 279,\n",
              " 'complex': 280,\n",
              " 'past-week': 281,\n",
              " 'doubts': 282,\n",
              " 'raised': 283,\n",
              " 'using': 284,\n",
              " 'option': 285,\n",
              " 'provide': 286,\n",
              " 'examples': 287,\n",
              " 'screenshots': 288,\n",
              " 'speed': 289,\n",
              " 'up': 290,\n",
              " 'resolution': 291,\n",
              " 'response': 292,\n",
              " 'times': 293,\n",
              " 'communicated': 294,\n",
              " 'submission': 295,\n",
              " 'certificate': 296,\n",
              " 'criteria': 297,\n",
              " 'full': 298,\n",
              " 'attempt': 299,\n",
              " 'assessments': 300,\n",
              " 'qualify': 301,\n",
              " 'certificates': 302,\n",
              " 'issued': 303,\n",
              " 'who': 304,\n",
              " 'meet': 305,\n",
              " 'both': 306,\n",
              " 'emphasize': 307,\n",
              " 'applied': 308,\n",
              " 'understanding': 309,\n",
              " 'over': 310,\n",
              " 'rote': 311,\n",
              " 'math': 312,\n",
              " 'keep': 313,\n",
              " 'concise': 314,\n",
              " 'clearly': 315,\n",
              " 'structured': 316,\n",
              " 'placement': 317,\n",
              " 'assistance': 318,\n",
              " 'does': 319,\n",
              " 'imply': 320,\n",
              " 'guarantee': 321,\n",
              " 'job': 322,\n",
              " 'offers': 323,\n",
              " 'interviews': 324,\n",
              " 'guaranteed': 325,\n",
              " 'portfolio': 326,\n",
              " 'building': 327,\n",
              " 'resume': 328,\n",
              " 'guidance': 329,\n",
              " 'soft-skill': 330,\n",
              " 'improve': 331,\n",
              " 'communication': 332,\n",
              " 'mentor': 333,\n",
              " 'add': 334,\n",
              " 'real-world': 335,\n",
              " 'perspective': 336,\n",
              " 'feedback': 337,\n",
              " 'hunting': 338,\n",
              " 'strategies': 339,\n",
              " 'cover': 340,\n",
              " 'ats': 341,\n",
              " 'keywords': 342,\n",
              " 'outreach': 343,\n",
              " 'should': 344,\n",
              " 'expect': 345,\n",
              " 'assured': 346,\n",
              " 'outcomes': 347,\n",
              " 'emphasis': 348,\n",
              " 'syntax': 349,\n",
              " 'control': 350,\n",
              " 'flow': 351,\n",
              " 'ds': 352,\n",
              " 'numpy': 353,\n",
              " 'pandas': 354,\n",
              " 'matplotlib': 355,\n",
              " 'tidy': 356,\n",
              " 'reproducible': 357,\n",
              " 'practice': 358,\n",
              " 'confidence': 359,\n",
              " 'aggregates': 360,\n",
              " 'develops': 361,\n",
              " 'vectors': 362,\n",
              " 'gradients': 363,\n",
              " 'linear': 364,\n",
              " 'models': 365,\n",
              " 'trees': 366,\n",
              " 'clustering': 367,\n",
              " 'stresses': 368,\n",
              " 'rigor': 369,\n",
              " 'deployments': 370,\n",
              " 'connect': 371,\n",
              " 'methods': 372,\n",
              " 'safety': 373,\n",
              " 'net': 374,\n",
              " 'missed': 375,\n",
              " 'classes': 376,\n",
              " 'videos': 377,\n",
              " 'period': 378,\n",
              " 'downloadable': 379,\n",
              " 'attached': 380,\n",
              " 'where': 381,\n",
              " 'permitted': 382,\n",
              " 'rewatch': 383,\n",
              " 'tricky': 384,\n",
              " 'segments': 385,\n",
              " 'own': 386,\n",
              " 'pace': 387,\n",
              " 'personal': 388,\n",
              " 'aligned': 389,\n",
              " 'module': 390,\n",
              " 'outcome': 391,\n",
              " 'scheduling': 392,\n",
              " 'evening': 393,\n",
              " 'ist': 394,\n",
              " 'schedule': 395,\n",
              " 'exact': 396,\n",
              " 'posted': 397,\n",
              " 'arrive': 398,\n",
              " 'calendar': 399,\n",
              " 'may': 400,\n",
              " 'provided': 401,\n",
              " 'convenience': 402,\n",
              " 'regularly': 403,\n",
              " 'timing': 404,\n",
              " 'updates': 405,\n",
              " 'policies': 406,\n",
              " 'always': 407,\n",
              " 'link': 408,\n",
              " 'never': 409,\n",
              " 'share': 410,\n",
              " 'otps': 411,\n",
              " 'passwords': 412,\n",
              " 'anyone': 413,\n",
              " 'ask': 414,\n",
              " 'confidential': 415,\n",
              " 'info': 416,\n",
              " 'use': 417,\n",
              " 'listed': 418,\n",
              " 'payment-related': 419,\n",
              " 'queries': 420,\n",
              " 'verify': 421,\n",
              " 'urls': 422,\n",
              " 'completing': 423,\n",
              " 'transaction': 424,\n",
              " 'cards': 425,\n",
              " 'fail': 426,\n",
              " 'alternatives': 427,\n",
              " 'error': 428,\n",
              " 'faster': 429,\n",
              " 'confirm': 430,\n",
              " 'zone': 431,\n",
              " 'differences': 432,\n",
              " 'zones': 433,\n",
              " 'challenging': 434,\n",
              " 'provides': 435,\n",
              " 'tailored': 436,\n",
              " 'region': 437,\n",
              " 'approach': 438,\n",
              " 'reproducibility': 439,\n",
              " 'complexity': 440,\n",
              " 'baseline': 441,\n",
              " 'heavy': 442,\n",
              " 'tuning': 443,\n",
              " 'proper': 444,\n",
              " 'avoid': 445,\n",
              " 'leakage': 446,\n",
              " 'pitfalls': 447,\n",
              " 'document': 448,\n",
              " 'assumptions': 449,\n",
              " 'top': 450,\n",
              " 'notebook': 451,\n",
              " 'prefer': 452,\n",
              " 'readable': 453,\n",
              " 'code': 454,\n",
              " 'clear': 455,\n",
              " 'variable': 456,\n",
              " 'names': 457,\n",
              " 'evaluation': 458,\n",
              " 'style': 459,\n",
              " 'short': 460,\n",
              " 'focused': 461,\n",
              " 'application': 462,\n",
              " 'rubrics': 463,\n",
              " 'reward': 464,\n",
              " 'reasoning': 465,\n",
              " 'decision': 466,\n",
              " 'justification': 467,\n",
              " 'valued': 468,\n",
              " 'alongside': 469,\n",
              " 'metric': 470,\n",
              " 'scores': 471,\n",
              " 'write': 472,\n",
              " 'summaries': 473,\n",
              " 'modeling': 474,\n",
              " 'choices': 475,\n",
              " 'metrics': 476,\n",
              " 'costs': 477,\n",
              " 'possible': 478,\n",
              " 'tips': 479,\n",
              " 'pin': 480,\n",
              " 'library': 481,\n",
              " 'versions': 482,\n",
              " 'stabilize': 483,\n",
              " 'environment': 484,\n",
              " 'seed': 485,\n",
              " 'randomness': 486,\n",
              " 'reproduce': 487,\n",
              " 'key': 488,\n",
              " 'results': 489,\n",
              " 'consistently': 490,\n",
              " 'datasets': 491,\n",
              " 'versioned': 492,\n",
              " 'as': 493,\n",
              " 'experiments': 494,\n",
              " 'progress': 495,\n",
              " 'checklists': 496,\n",
              " 'reduce': 497,\n",
              " 'last-minute': 498,\n",
              " 'mistakes': 499,\n",
              " 'save': 500,\n",
              " 'artifacts': 501,\n",
              " 'consistent': 502,\n",
              " 'naming': 503,\n",
              " 'conventions': 504,\n",
              " 'highlights': 505,\n",
              " 'fact': 506,\n",
              " 'dimension': 507,\n",
              " 'tables': 508,\n",
              " 'rankings': 509,\n",
              " 'rolling': 510,\n",
              " 'stats': 511,\n",
              " 'groupby': 512,\n",
              " 'meaningful': 513,\n",
              " 'aggregation': 514,\n",
              " 'levels': 515,\n",
              " 'consider': 516,\n",
              " 'indexes': 517,\n",
              " 'query': 518,\n",
              " 'plans': 519,\n",
              " 'performance': 520,\n",
              " 'formatting': 521,\n",
              " 'visualization': 522,\n",
              " 'indexing': 523,\n",
              " 'selection': 524,\n",
              " 'patterns': 525,\n",
              " 'readability': 526,\n",
              " 'summarize': 527,\n",
              " 'behavior': 528,\n",
              " 'effectively': 529,\n",
              " 'chained': 530,\n",
              " 'operations': 531,\n",
              " 'suffers': 532,\n",
              " 'label': 533,\n",
              " 'axes': 534,\n",
              " 'titles': 535,\n",
              " 'charts': 536,\n",
              " 'choose': 537,\n",
              " 'appropriate': 538,\n",
              " 'scales': 539,\n",
              " 'honest': 540,\n",
              " 'visuals': 541,\n",
              " 'essentials': 542,\n",
              " 'matrices': 543,\n",
              " 'introduced': 544,\n",
              " 'linked': 545,\n",
              " 'geometric': 546,\n",
              " 'ideas': 547,\n",
              " 'bias-variance': 548,\n",
              " 'tradeoff': 549,\n",
              " 'explained': 550,\n",
              " 'probability': 551,\n",
              " 'under': 552,\n",
              " 'uncertainty': 553,\n",
              " 'enough': 554,\n",
              " 'responsibly': 555,\n",
              " 'logistic': 556,\n",
              " 'regression': 557,\n",
              " 'baselines': 558,\n",
              " 'move': 559,\n",
              " 'ensembles': 560,\n",
              " 'nonlinear': 561,\n",
              " 'structure': 562,\n",
              " 'try': 563,\n",
              " 'pattern': 564,\n",
              " 'discovery': 565,\n",
              " 'cross-validation': 566,\n",
              " 'compare': 567,\n",
              " 'families': 568,\n",
              " 'tune': 569,\n",
              " 'hyperparameters': 570,\n",
              " 'strong': 571,\n",
              " 'track': 572,\n",
              " 'identifiers': 573,\n",
              " 'package': 574,\n",
              " 'predictable': 575,\n",
              " 'training': 576,\n",
              " 'inference': 577,\n",
              " 'capture': 578,\n",
              " 'details': 579,\n",
              " 'automate': 580,\n",
              " 'small': 581,\n",
              " 'checks': 582,\n",
              " 'lightweight': 583,\n",
              " 'ci': 584,\n",
              " 'step': 585,\n",
              " 'log': 586,\n",
              " 'future': 587,\n",
              " 'audits': 588,\n",
              " 'crisp': 589,\n",
              " 'problem': 590,\n",
              " 'statement': 591,\n",
              " 'success': 592,\n",
              " 'explore': 593,\n",
              " 'visually': 594,\n",
              " 'testable': 595,\n",
              " 'hypotheses': 596,\n",
              " 'engineer': 597,\n",
              " 'features': 598,\n",
              " 'grounded': 599,\n",
              " 'domain': 600,\n",
              " 'validate': 601,\n",
              " 'temporal': 602,\n",
              " 'splits': 603,\n",
              " 'needed': 604,\n",
              " 'present': 605,\n",
              " 'tradeoffs': 606,\n",
              " 'pragmatic': 607,\n",
              " 'recommendation': 608,\n",
              " 'plain': 609,\n",
              " 'reports': 610,\n",
              " 'presentations': 611,\n",
              " 'few': 612,\n",
              " 'plots': 613,\n",
              " 'many': 614,\n",
              " 'noisy': 615,\n",
              " 'ones': 616,\n",
              " 'explain': 617,\n",
              " 'why': 618,\n",
              " 'was': 619,\n",
              " 'chosen': 620,\n",
              " 'task': 621,\n",
              " 'state': 622,\n",
              " 'limitations': 623,\n",
              " 'openly': 624,\n",
              " 'outline': 625,\n",
              " 'steps': 626,\n",
              " 'timelines': 627,\n",
              " 'enrollment': 628,\n",
              " 'flexibility': 629,\n",
              " 'supported': 630,\n",
              " 'occur': 631,\n",
              " 'continues': 632,\n",
              " 'until': 633,\n",
              " 'current': 634,\n",
              " 'ends': 635,\n",
              " 'rejoining': 636,\n",
              " 'restores': 637,\n",
              " 'promptly': 638,\n",
              " 'fits': 639,\n",
              " 'channels': 640,\n",
              " 'attach': 641,\n",
              " 'relevant': 642,\n",
              " 'context': 643,\n",
              " 'confirmation': 644,\n",
              " 'estimated': 645,\n",
              " 'windows': 646,\n",
              " 'escalations': 647,\n",
              " 'available': 648,\n",
              " 'unresolved': 649,\n",
              " 'cases': 650,\n",
              " 'what': 651,\n",
              " '’': 652,\n",
              " 's': 653,\n",
              " 'included': 654,\n",
              " 'outside': 655,\n",
              " 'scope': 656,\n",
              " 'topics': 657,\n",
              " 'covered': 658,\n",
              " 'guarantees': 659,\n",
              " 'offered': 660,\n",
              " 'lifetime': 661,\n",
              " 'due': 662,\n",
              " 'low': 663,\n",
              " 'fees': 664,\n",
              " 'advanced': 665,\n",
              " 'research': 666,\n",
              " 'out': 667,\n",
              " 'here': 668,\n",
              " 'stated': 669,\n",
              " 'final': 670,\n",
              " 'near': 671,\n",
              " 'completion': 672,\n",
              " 'update': 673,\n",
              " ';': 674,\n",
              " 'refer': 675,\n",
              " 'pages': 676,\n",
              " 'changes': 677,\n",
              " 'align': 678,\n",
              " 'published': 679,\n",
              " 'cohort': 680,\n",
              " 'information': 681,\n",
              " 'dates': 682,\n",
              " 'study': 683,\n",
              " 'habits': 684,\n",
              " 'block': 685,\n",
              " 'review': 686,\n",
              " 'parts': 687,\n",
              " 'higher': 688,\n",
              " 'daily': 689,\n",
              " 'fluency': 690,\n",
              " 'words': 691,\n",
              " 'early': 692,\n",
              " 'quality': 693,\n",
              " 'integrity': 694,\n",
              " 'cite': 695,\n",
              " 'sources': 696,\n",
              " 'external': 697,\n",
              " 'leaking': 698,\n",
              " 'interpretable': 699,\n",
              " 'stacks': 700,\n",
              " 'calibration': 701,\n",
              " 'thresholds': 702,\n",
              " 'matter': 703,\n",
              " 'loops': 704,\n",
              " 'open': 705,\n",
              " 'mentors': 706,\n",
              " 'peers': 707,\n",
              " 'community': 708,\n",
              " 'mentorship': 709,\n",
              " 'project': 710,\n",
              " 'curation': 711,\n",
              " 'impact': 712,\n",
              " 'framing': 713,\n",
              " 'exercises': 714,\n",
              " 'star': 715,\n",
              " 'answers': 716,\n",
              " 'mock': 717,\n",
              " 'talks': 718,\n",
              " 'reveal': 719,\n",
              " 'real': 720,\n",
              " 'constraints': 721,\n",
              " 'industry': 722,\n",
              " 'networking': 723,\n",
              " 'center': 724,\n",
              " 'targeted': 725,\n",
              " 'follow-ups': 726,\n",
              " 'alignment': 727,\n",
              " 'descriptions': 728,\n",
              " 'admin': 729,\n",
              " 'reminders': 730,\n",
              " 'processed': 731,\n",
              " 'handled': 732,\n",
              " 'updated': 733,\n",
              " 'via': 734,\n",
              " 'profile': 735,\n",
              " 'accurate': 736,\n",
              " 'nitish.campusx': 737,\n",
              " '@': 738,\n",
              " 'gmail.com': 739,\n",
              " 'subject': 740,\n",
              " 'lines': 741,\n",
              " 'describing': 742,\n",
              " 'issue': 743,\n",
              " 'briefly': 744,\n",
              " 'sensitive': 745,\n",
              " 'wrapping': 746,\n",
              " 'solid': 747,\n",
              " 'foundations': 748,\n",
              " 'core': 749,\n",
              " 'adds': 750,\n",
              " 'deployment': 751,\n",
              " 'discipline': 752,\n",
              " 'tie': 753,\n",
              " 'stakeholders': 754,\n",
              " 'care': 755,\n",
              " 'flexible': 756}"
            ]
          },
          "metadata": {},
          "execution_count": 6
        }
      ]
    },
    {
      "cell_type": "code",
      "source": [
        "len(vocab)"
      ],
      "metadata": {
        "colab": {
          "base_uri": "https://localhost:8080/"
        },
        "id": "SOOEZ94P0dQ1",
        "outputId": "865fabf0-f2ae-42b7-eb70-d21864ef9d81"
      },
      "execution_count": 7,
      "outputs": [
        {
          "output_type": "execute_result",
          "data": {
            "text/plain": [
              "757"
            ]
          },
          "metadata": {},
          "execution_count": 7
        }
      ]
    },
    {
      "cell_type": "code",
      "source": [
        "input_sentences = document.split('\\n')"
      ],
      "metadata": {
        "id": "RefNavJe1Cva"
      },
      "execution_count": 8,
      "outputs": []
    },
    {
      "cell_type": "code",
      "source": [
        "def text_to_indices(sentence, vocab):\n",
        "\n",
        "  numerical_sentence = []\n",
        "\n",
        "  for token in sentence:\n",
        "    if token in vocab:\n",
        "      numerical_sentence.append(vocab[token])\n",
        "    else:\n",
        "      numerical_sentence.append(vocab['<unk>'])\n",
        "\n",
        "  return numerical_sentence\n"
      ],
      "metadata": {
        "id": "x52A3E1K1zjn"
      },
      "execution_count": 9,
      "outputs": []
    },
    {
      "cell_type": "code",
      "source": [
        "input_numerical_sentences = []\n",
        "\n",
        "for sentence in input_sentences:\n",
        "  input_numerical_sentences.append(text_to_indices(word_tokenize(sentence.lower()), vocab))\n"
      ],
      "metadata": {
        "id": "eu66Zo3e1Wh9"
      },
      "execution_count": 10,
      "outputs": []
    },
    {
      "cell_type": "code",
      "source": [
        "len(input_numerical_sentences)"
      ],
      "metadata": {
        "colab": {
          "base_uri": "https://localhost:8080/"
        },
        "id": "XxJesAQC1et3",
        "outputId": "6d23b208-663f-4795-d85d-e72bae919c4d"
      },
      "execution_count": 11,
      "outputs": [
        {
          "output_type": "execute_result",
          "data": {
            "text/plain": [
              "267"
            ]
          },
          "metadata": {},
          "execution_count": 11
        }
      ]
    },
    {
      "cell_type": "code",
      "source": [
        "training_sequence = []\n",
        "for sentence in input_numerical_sentences:\n",
        "\n",
        "  for i in range(1, len(sentence)):\n",
        "    training_sequence.append(sentence[:i+1])"
      ],
      "metadata": {
        "id": "80rIx4aq6ele"
      },
      "execution_count": 12,
      "outputs": []
    },
    {
      "cell_type": "code",
      "source": [
        "len(training_sequence)"
      ],
      "metadata": {
        "colab": {
          "base_uri": "https://localhost:8080/"
        },
        "id": "V_aGJ0fy7swk",
        "outputId": "428ad2ce-d080-4fa7-ed91-ebceaa9cf42a"
      },
      "execution_count": 13,
      "outputs": [
        {
          "output_type": "execute_result",
          "data": {
            "text/plain": [
              "1610"
            ]
          },
          "metadata": {},
          "execution_count": 13
        }
      ]
    },
    {
      "cell_type": "code",
      "source": [
        "training_sequence[:5]"
      ],
      "metadata": {
        "colab": {
          "base_uri": "https://localhost:8080/"
        },
        "id": "wrFzZ4DD8Anu",
        "outputId": "5027a7a0-6593-40c2-d80b-e5d272a7fceb"
      },
      "execution_count": 14,
      "outputs": [
        {
          "output_type": "execute_result",
          "data": {
            "text/plain": [
              "[[1, 2], [1, 2, 3], [4, 3], [4, 3, 5], [4, 3, 5, 6]]"
            ]
          },
          "metadata": {},
          "execution_count": 14
        }
      ]
    },
    {
      "cell_type": "code",
      "source": [
        "len_list = []\n",
        "\n",
        "for sequence in training_sequence:\n",
        "  len_list.append(len(sequence))\n",
        "\n",
        "max(len_list)"
      ],
      "metadata": {
        "colab": {
          "base_uri": "https://localhost:8080/"
        },
        "id": "q2Z_fiVZ8GRo",
        "outputId": "182da365-834a-40c0-b074-e35dd9e2dd16"
      },
      "execution_count": 15,
      "outputs": [
        {
          "output_type": "execute_result",
          "data": {
            "text/plain": [
              "14"
            ]
          },
          "metadata": {},
          "execution_count": 15
        }
      ]
    },
    {
      "cell_type": "code",
      "source": [
        "training_sequence[0]"
      ],
      "metadata": {
        "colab": {
          "base_uri": "https://localhost:8080/"
        },
        "id": "4bIcIRd088EN",
        "outputId": "e5a6d629-2515-4e39-d792-13b5c0cb5cdf"
      },
      "execution_count": 16,
      "outputs": [
        {
          "output_type": "execute_result",
          "data": {
            "text/plain": [
              "[1, 2]"
            ]
          },
          "metadata": {},
          "execution_count": 16
        }
      ]
    },
    {
      "cell_type": "code",
      "source": [
        "padded_training_sequence = []\n",
        "for sequence in training_sequence:\n",
        "\n",
        "  padded_training_sequence.append([0]*(max(len_list) - len(sequence)) + sequence)"
      ],
      "metadata": {
        "id": "dtPg5uRN9Cc7"
      },
      "execution_count": 17,
      "outputs": []
    },
    {
      "cell_type": "code",
      "source": [
        "len(padded_training_sequence[10])"
      ],
      "metadata": {
        "colab": {
          "base_uri": "https://localhost:8080/"
        },
        "id": "hqZssF989X-4",
        "outputId": "6317ec9b-d805-4150-fe44-912f3a8e6163"
      },
      "execution_count": 18,
      "outputs": [
        {
          "output_type": "execute_result",
          "data": {
            "text/plain": [
              "14"
            ]
          },
          "metadata": {},
          "execution_count": 18
        }
      ]
    },
    {
      "cell_type": "code",
      "source": [
        "padded_training_sequence = torch.tensor(padded_training_sequence, dtype=torch.long)"
      ],
      "metadata": {
        "id": "0_wVpepb9iE4"
      },
      "execution_count": 19,
      "outputs": []
    },
    {
      "cell_type": "code",
      "source": [
        "padded_training_sequence"
      ],
      "metadata": {
        "colab": {
          "base_uri": "https://localhost:8080/"
        },
        "id": "ogKvdXa79yxV",
        "outputId": "7a41902c-fd40-4d20-dc5a-c64aa1f67041"
      },
      "execution_count": 20,
      "outputs": [
        {
          "output_type": "execute_result",
          "data": {
            "text/plain": [
              "tensor([[  0,   0,   0,  ...,   0,   1,   2],\n",
              "        [  0,   0,   0,  ...,   1,   2,   3],\n",
              "        [  0,   0,   0,  ...,   0,   4,   3],\n",
              "        ...,\n",
              "        [  0,   0,   0,  ..., 329, 313, 104],\n",
              "        [  0,   0,   0,  ..., 313, 104, 756],\n",
              "        [  0,   0,   0,  ..., 104, 756,  15]])"
            ]
          },
          "metadata": {},
          "execution_count": 20
        }
      ]
    },
    {
      "cell_type": "code",
      "source": [
        "X = padded_training_sequence[:, :-1]\n",
        "y = padded_training_sequence[:,-1]"
      ],
      "metadata": {
        "id": "Tz8fwCok90m0"
      },
      "execution_count": 21,
      "outputs": []
    },
    {
      "cell_type": "code",
      "source": [
        "X"
      ],
      "metadata": {
        "colab": {
          "base_uri": "https://localhost:8080/"
        },
        "id": "1Ed_PLHJ-Dgv",
        "outputId": "7095458b-a2e8-4dc7-f150-80fd56d2c281"
      },
      "execution_count": null,
      "outputs": [
        {
          "output_type": "execute_result",
          "data": {
            "text/plain": [
              "tensor([[  0,   0,   0,  ...,   0,   0,   1],\n",
              "        [  0,   0,   0,  ...,   0,   1,   2],\n",
              "        [  0,   0,   0,  ...,   0,   0,   4],\n",
              "        ...,\n",
              "        [  0,   0,   0,  ...,   0, 285, 176],\n",
              "        [  0,   0,   0,  ..., 285, 176, 286],\n",
              "        [  0,   0,   0,  ..., 176, 286, 287]])"
            ]
          },
          "metadata": {},
          "execution_count": 22
        }
      ]
    },
    {
      "cell_type": "code",
      "source": [
        "y"
      ],
      "metadata": {
        "colab": {
          "base_uri": "https://localhost:8080/"
        },
        "id": "eReVrcX9-EUU",
        "outputId": "50ecf4e4-bd25-4df4-c496-f57c3adeb495"
      },
      "execution_count": 22,
      "outputs": [
        {
          "output_type": "execute_result",
          "data": {
            "text/plain": [
              "tensor([  2,   3,   3,  ..., 104, 756,  15])"
            ]
          },
          "metadata": {},
          "execution_count": 22
        }
      ]
    },
    {
      "cell_type": "code",
      "source": [
        "class CustomDataset(Dataset):\n",
        "\n",
        "  def __init__(self, X, y):\n",
        "    self.X = X\n",
        "    self.y = y\n",
        "\n",
        "  def __len__(self):\n",
        "    return self.X.shape[0]\n",
        "\n",
        "  def __getitem__(self, idx):\n",
        "    return self.X[idx], self.y[idx]"
      ],
      "metadata": {
        "id": "fR059hVd-IAf"
      },
      "execution_count": 24,
      "outputs": []
    },
    {
      "cell_type": "code",
      "source": [
        "dataset = CustomDataset(X,y)"
      ],
      "metadata": {
        "id": "KLX0clQM_j9r"
      },
      "execution_count": 25,
      "outputs": []
    },
    {
      "cell_type": "code",
      "source": [
        "len(dataset)"
      ],
      "metadata": {
        "colab": {
          "base_uri": "https://localhost:8080/"
        },
        "id": "uYHaeSuI_nJX",
        "outputId": "7bd3bed1-a174-4cb7-92ff-70a342d3c96c"
      },
      "execution_count": 26,
      "outputs": [
        {
          "output_type": "execute_result",
          "data": {
            "text/plain": [
              "1610"
            ]
          },
          "metadata": {},
          "execution_count": 26
        }
      ]
    },
    {
      "cell_type": "code",
      "source": [
        "dataloader = DataLoader(dataset, batch_size=32, shuffle=True)"
      ],
      "metadata": {
        "id": "7ZUeD3l6_oZ3"
      },
      "execution_count": 27,
      "outputs": []
    },
    {
      "cell_type": "code",
      "source": [
        "class LSTMModel(nn.Module):\n",
        "\n",
        "  def __init__(self, vocab_size):\n",
        "    super().__init__()\n",
        "    self.embedding = nn.Embedding(vocab_size, 100)\n",
        "    self.lstm = nn.LSTM(100, 150, batch_first=True)\n",
        "    self.fc = nn.Linear(150, vocab_size)\n",
        "\n",
        "  def forward(self, x):\n",
        "    embedded = self.embedding(x)\n",
        "    intermediate_hidden_states, (final_hidden_state, final_cell_state) = self.lstm(embedded)\n",
        "    output = self.fc(final_hidden_state.squeeze(0))\n",
        "    return output"
      ],
      "metadata": {
        "id": "0TEukXmWDEn8"
      },
      "execution_count": 28,
      "outputs": []
    },
    {
      "cell_type": "code",
      "source": [
        "model = LSTMModel(len(vocab))"
      ],
      "metadata": {
        "id": "YcQEVc9aVgr5"
      },
      "execution_count": 29,
      "outputs": []
    },
    {
      "cell_type": "code",
      "source": [
        "device = torch.device(\"cuda\" if torch.cuda.is_available() else \"cpu\")"
      ],
      "metadata": {
        "id": "Lvm7W6L1X6P1"
      },
      "execution_count": 30,
      "outputs": []
    },
    {
      "cell_type": "code",
      "source": [
        "model.to(device)"
      ],
      "metadata": {
        "colab": {
          "base_uri": "https://localhost:8080/"
        },
        "id": "oXwq43NRYD3q",
        "outputId": "42ddc7ed-75ed-4c3f-efaa-76838f18bd67"
      },
      "execution_count": 31,
      "outputs": [
        {
          "output_type": "execute_result",
          "data": {
            "text/plain": [
              "LSTMModel(\n",
              "  (embedding): Embedding(757, 100)\n",
              "  (lstm): LSTM(100, 150, batch_first=True)\n",
              "  (fc): Linear(in_features=150, out_features=757, bias=True)\n",
              ")"
            ]
          },
          "metadata": {},
          "execution_count": 31
        }
      ]
    },
    {
      "cell_type": "code",
      "source": [
        "epochs = 50\n",
        "learning_rate = 0.001\n",
        "\n",
        "criterion = nn.CrossEntropyLoss()\n",
        "\n",
        "optimizer = torch.optim.Adam(model.parameters(), lr=learning_rate)"
      ],
      "metadata": {
        "id": "1faORN1VYFdu"
      },
      "execution_count": 32,
      "outputs": []
    },
    {
      "cell_type": "code",
      "source": [
        "# training loop\n",
        "\n",
        "for epoch in range(epochs):\n",
        "  total_loss = 0\n",
        "\n",
        "  for batch_x, batch_y in dataloader:\n",
        "\n",
        "    batch_x, batch_y = batch_x.to(device), batch_y.to(device)\n",
        "\n",
        "    optimizer.zero_grad()\n",
        "\n",
        "    output = model(batch_x)\n",
        "\n",
        "    loss = criterion(output, batch_y)\n",
        "\n",
        "    loss.backward()\n",
        "\n",
        "    optimizer.step()\n",
        "\n",
        "    total_loss = total_loss + loss.item()\n",
        "\n",
        "  print(f\"Epoch: {epoch + 1}, Loss: {total_loss:.4f}\")"
      ],
      "metadata": {
        "colab": {
          "base_uri": "https://localhost:8080/"
        },
        "id": "LRLc1cbrYVVV",
        "outputId": "bb076b8e-8e16-4f5b-ab5f-6fa45734ea38"
      },
      "execution_count": 33,
      "outputs": [
        {
          "output_type": "stream",
          "name": "stdout",
          "text": [
            "Epoch: 1, Loss: 322.4651\n",
            "Epoch: 2, Loss: 279.0061\n",
            "Epoch: 3, Loss: 264.3045\n",
            "Epoch: 4, Loss: 247.8249\n",
            "Epoch: 5, Loss: 228.6953\n",
            "Epoch: 6, Loss: 209.7236\n",
            "Epoch: 7, Loss: 190.6873\n",
            "Epoch: 8, Loss: 171.8851\n",
            "Epoch: 9, Loss: 153.0589\n",
            "Epoch: 10, Loss: 134.8252\n",
            "Epoch: 11, Loss: 118.4457\n",
            "Epoch: 12, Loss: 102.3740\n",
            "Epoch: 13, Loss: 88.9196\n",
            "Epoch: 14, Loss: 75.6323\n",
            "Epoch: 15, Loss: 64.9888\n",
            "Epoch: 16, Loss: 56.0544\n",
            "Epoch: 17, Loss: 46.9788\n",
            "Epoch: 18, Loss: 40.8788\n",
            "Epoch: 19, Loss: 35.1707\n",
            "Epoch: 20, Loss: 31.0485\n",
            "Epoch: 21, Loss: 26.9650\n",
            "Epoch: 22, Loss: 24.1203\n",
            "Epoch: 23, Loss: 21.7406\n",
            "Epoch: 24, Loss: 19.4603\n",
            "Epoch: 25, Loss: 17.9198\n",
            "Epoch: 26, Loss: 16.5475\n",
            "Epoch: 27, Loss: 15.2915\n",
            "Epoch: 28, Loss: 14.2617\n",
            "Epoch: 29, Loss: 13.5962\n",
            "Epoch: 30, Loss: 13.0230\n",
            "Epoch: 31, Loss: 12.2481\n",
            "Epoch: 32, Loss: 11.6848\n",
            "Epoch: 33, Loss: 11.1408\n",
            "Epoch: 34, Loss: 11.0116\n",
            "Epoch: 35, Loss: 10.5393\n",
            "Epoch: 36, Loss: 10.1405\n",
            "Epoch: 37, Loss: 9.6748\n",
            "Epoch: 38, Loss: 9.6412\n",
            "Epoch: 39, Loss: 9.3071\n",
            "Epoch: 40, Loss: 9.4383\n",
            "Epoch: 41, Loss: 8.8703\n",
            "Epoch: 42, Loss: 8.7593\n",
            "Epoch: 43, Loss: 8.6778\n",
            "Epoch: 44, Loss: 8.5568\n",
            "Epoch: 45, Loss: 8.4425\n",
            "Epoch: 46, Loss: 8.1789\n",
            "Epoch: 47, Loss: 8.1333\n",
            "Epoch: 48, Loss: 8.1588\n",
            "Epoch: 49, Loss: 7.8904\n",
            "Epoch: 50, Loss: 7.6932\n"
          ]
        }
      ]
    },
    {
      "cell_type": "code",
      "source": [
        "# prediction\n",
        "\n",
        "def prediction(model, vocab, text):\n",
        "\n",
        "  # tokenize\n",
        "  tokenized_text = word_tokenize(text.lower())\n",
        "\n",
        "  # text -> numerical indices\n",
        "  numerical_text = text_to_indices(tokenized_text, vocab)\n",
        "\n",
        "  # padding\n",
        "  padded_text = torch.tensor([0] * (61 - len(numerical_text)) + numerical_text, dtype=torch.long).unsqueeze(0)\n",
        "\n",
        "  # send to model\n",
        "  output = model(padded_text)\n",
        "\n",
        "  # predicted index\n",
        "  value, index = torch.max(output, dim=1)\n",
        "\n",
        "  # merge with text\n",
        "  return text + \" \" + list(vocab.keys())[index]\n",
        "\n"
      ],
      "metadata": {
        "id": "O9f6DkX-ZM-r"
      },
      "execution_count": 34,
      "outputs": []
    },
    {
      "cell_type": "code",
      "source": [
        "prediction(model, vocab, \"The course follows a monthly\")"
      ],
      "metadata": {
        "colab": {
          "base_uri": "https://localhost:8080/",
          "height": 35
        },
        "id": "VsRgcJysbGCg",
        "outputId": "d64329ed-35cf-4456-9013-28a16be3551c"
      },
      "execution_count": 35,
      "outputs": [
        {
          "output_type": "execute_result",
          "data": {
            "text/plain": [
              "'The course follows a monthly timetable'"
            ],
            "application/vnd.google.colaboratory.intrinsic+json": {
              "type": "string"
            }
          },
          "metadata": {},
          "execution_count": 35
        }
      ]
    },
    {
      "cell_type": "code",
      "source": [
        "import time\n",
        "\n",
        "num_tokens = 10\n",
        "input_text = \"Videos appear\"\n",
        "\n",
        "for i in range(num_tokens):\n",
        "  output_text = prediction(model, vocab, input_text)\n",
        "  print(output_text)\n",
        "  input_text = output_text\n",
        "  time.sleep(0.5)\n"
      ],
      "metadata": {
        "colab": {
          "base_uri": "https://localhost:8080/"
        },
        "id": "t_JPACfEbNPo",
        "outputId": "638c2288-83e2-4d30-cecc-cd57a7e42fa4"
      },
      "execution_count": 39,
      "outputs": [
        {
          "output_type": "stream",
          "name": "stdout",
          "text": [
            "Videos appear in\n",
            "Videos appear in the\n",
            "Videos appear in the dashboard\n",
            "Videos appear in the dashboard within\n",
            "Videos appear in the dashboard within the\n",
            "Videos appear in the dashboard within the validity\n",
            "Videos appear in the dashboard within the validity period\n",
            "Videos appear in the dashboard within the validity period and\n",
            "Videos appear in the dashboard within the validity period and for\n",
            "Videos appear in the dashboard within the validity period and for payment\n"
          ]
        }
      ]
    },
    {
      "cell_type": "code",
      "source": [
        "dataloader1 = DataLoader(dataset, batch_size=32, shuffle=False)"
      ],
      "metadata": {
        "id": "JXsV4AnNXNnw"
      },
      "execution_count": 40,
      "outputs": []
    },
    {
      "cell_type": "code",
      "source": [
        "# Function to calculate accuracy\n",
        "def calculate_accuracy(model, dataloader, device):\n",
        "    model.eval()  # Set the model to evaluation mode\n",
        "    correct = 0\n",
        "    total = 0\n",
        "\n",
        "    with torch.no_grad():  # No need to compute gradients\n",
        "        for batch_x, batch_y in dataloader1:\n",
        "            batch_x, batch_y = batch_x.to(device), batch_y.to(device)\n",
        "\n",
        "            # Get model predictions\n",
        "            outputs = model(batch_x)\n",
        "\n",
        "            # Get the predicted word indices\n",
        "            _, predicted = torch.max(outputs, dim=1)\n",
        "\n",
        "            # Compare with actual labels\n",
        "            correct += (predicted == batch_y).sum().item()\n",
        "            total += batch_y.size(0)\n",
        "\n",
        "    accuracy = correct / total * 100\n",
        "    return accuracy\n",
        "\n",
        "# Compute accuracy\n",
        "accuracy = calculate_accuracy(model, dataloader, device)\n",
        "print(f\"Model Accuracy: {accuracy:.2f}%\")\n"
      ],
      "metadata": {
        "id": "Py7o0rJJc5pm",
        "colab": {
          "base_uri": "https://localhost:8080/"
        },
        "outputId": "4b5132b7-8c35-4007-f4e5-19edb75d40b6"
      },
      "execution_count": 41,
      "outputs": [
        {
          "output_type": "stream",
          "name": "stdout",
          "text": [
            "Model Accuracy: 94.84%\n"
          ]
        }
      ]
    },
    {
      "cell_type": "code",
      "source": [],
      "metadata": {
        "id": "0bQnBuShXG5i"
      },
      "execution_count": null,
      "outputs": []
    }
  ]
}